{
 "cells": [
  {
   "cell_type": "code",
   "execution_count": 1,
   "metadata": {},
   "outputs": [],
   "source": [
    "import pandas as pd\n",
    "from sklearn import datasets\n",
    "from sklearn.linear_model import LinearRegression\n",
    "import pickle"
   ]
  },
  {
   "cell_type": "markdown",
   "metadata": {},
   "source": [
    "# Creating and saving a model"
   ]
  },
  {
   "cell_type": "markdown",
   "metadata": {},
   "source": [
    "### Diabetes dataset\n",
    "Ten baseline variables, age, sex, body mass index, average blood pressure, and six blood serum measurements were obtained for each of n = 442 diabetes patients, as well as the response of interest, a quantitative measure of disease progression one year after baseline."
   ]
  },
  {
   "cell_type": "code",
   "execution_count": 2,
   "metadata": {},
   "outputs": [],
   "source": [
    "X, y = datasets.load_diabetes(return_X_y = True, as_frame=True)"
   ]
  },
  {
   "cell_type": "code",
   "execution_count": 3,
   "metadata": {},
   "outputs": [
    {
     "data": {
      "text/html": [
       "<div>\n",
       "<style scoped>\n",
       "    .dataframe tbody tr th:only-of-type {\n",
       "        vertical-align: middle;\n",
       "    }\n",
       "\n",
       "    .dataframe tbody tr th {\n",
       "        vertical-align: top;\n",
       "    }\n",
       "\n",
       "    .dataframe thead th {\n",
       "        text-align: right;\n",
       "    }\n",
       "</style>\n",
       "<table border=\"1\" class=\"dataframe\">\n",
       "  <thead>\n",
       "    <tr style=\"text-align: right;\">\n",
       "      <th></th>\n",
       "      <th>age</th>\n",
       "      <th>sex</th>\n",
       "      <th>bmi</th>\n",
       "      <th>bp</th>\n",
       "      <th>s1</th>\n",
       "      <th>s2</th>\n",
       "      <th>s3</th>\n",
       "      <th>s4</th>\n",
       "      <th>s5</th>\n",
       "      <th>s6</th>\n",
       "    </tr>\n",
       "  </thead>\n",
       "  <tbody>\n",
       "    <tr>\n",
       "      <th>0</th>\n",
       "      <td>0.038076</td>\n",
       "      <td>0.050680</td>\n",
       "      <td>0.061696</td>\n",
       "      <td>0.021872</td>\n",
       "      <td>-0.044223</td>\n",
       "      <td>-0.034821</td>\n",
       "      <td>-0.043401</td>\n",
       "      <td>-0.002592</td>\n",
       "      <td>0.019908</td>\n",
       "      <td>-0.017646</td>\n",
       "    </tr>\n",
       "    <tr>\n",
       "      <th>1</th>\n",
       "      <td>-0.001882</td>\n",
       "      <td>-0.044642</td>\n",
       "      <td>-0.051474</td>\n",
       "      <td>-0.026328</td>\n",
       "      <td>-0.008449</td>\n",
       "      <td>-0.019163</td>\n",
       "      <td>0.074412</td>\n",
       "      <td>-0.039493</td>\n",
       "      <td>-0.068330</td>\n",
       "      <td>-0.092204</td>\n",
       "    </tr>\n",
       "    <tr>\n",
       "      <th>2</th>\n",
       "      <td>0.085299</td>\n",
       "      <td>0.050680</td>\n",
       "      <td>0.044451</td>\n",
       "      <td>-0.005671</td>\n",
       "      <td>-0.045599</td>\n",
       "      <td>-0.034194</td>\n",
       "      <td>-0.032356</td>\n",
       "      <td>-0.002592</td>\n",
       "      <td>0.002864</td>\n",
       "      <td>-0.025930</td>\n",
       "    </tr>\n",
       "    <tr>\n",
       "      <th>3</th>\n",
       "      <td>-0.089063</td>\n",
       "      <td>-0.044642</td>\n",
       "      <td>-0.011595</td>\n",
       "      <td>-0.036656</td>\n",
       "      <td>0.012191</td>\n",
       "      <td>0.024991</td>\n",
       "      <td>-0.036038</td>\n",
       "      <td>0.034309</td>\n",
       "      <td>0.022692</td>\n",
       "      <td>-0.009362</td>\n",
       "    </tr>\n",
       "    <tr>\n",
       "      <th>4</th>\n",
       "      <td>0.005383</td>\n",
       "      <td>-0.044642</td>\n",
       "      <td>-0.036385</td>\n",
       "      <td>0.021872</td>\n",
       "      <td>0.003935</td>\n",
       "      <td>0.015596</td>\n",
       "      <td>0.008142</td>\n",
       "      <td>-0.002592</td>\n",
       "      <td>-0.031991</td>\n",
       "      <td>-0.046641</td>\n",
       "    </tr>\n",
       "  </tbody>\n",
       "</table>\n",
       "</div>"
      ],
      "text/plain": [
       "        age       sex       bmi        bp        s1        s2        s3  \\\n",
       "0  0.038076  0.050680  0.061696  0.021872 -0.044223 -0.034821 -0.043401   \n",
       "1 -0.001882 -0.044642 -0.051474 -0.026328 -0.008449 -0.019163  0.074412   \n",
       "2  0.085299  0.050680  0.044451 -0.005671 -0.045599 -0.034194 -0.032356   \n",
       "3 -0.089063 -0.044642 -0.011595 -0.036656  0.012191  0.024991 -0.036038   \n",
       "4  0.005383 -0.044642 -0.036385  0.021872  0.003935  0.015596  0.008142   \n",
       "\n",
       "         s4        s5        s6  \n",
       "0 -0.002592  0.019908 -0.017646  \n",
       "1 -0.039493 -0.068330 -0.092204  \n",
       "2 -0.002592  0.002864 -0.025930  \n",
       "3  0.034309  0.022692 -0.009362  \n",
       "4 -0.002592 -0.031991 -0.046641  "
      ]
     },
     "execution_count": 3,
     "metadata": {},
     "output_type": "execute_result"
    }
   ],
   "source": [
    "X.head()"
   ]
  },
  {
   "cell_type": "code",
   "execution_count": 4,
   "metadata": {},
   "outputs": [
    {
     "data": {
      "text/plain": [
       "0    151.0\n",
       "1     75.0\n",
       "2    141.0\n",
       "3    206.0\n",
       "4    135.0\n",
       "Name: target, dtype: float64"
      ]
     },
     "execution_count": 4,
     "metadata": {},
     "output_type": "execute_result"
    }
   ],
   "source": [
    "y[:5]"
   ]
  },
  {
   "cell_type": "markdown",
   "metadata": {},
   "source": [
    "### Create the model"
   ]
  },
  {
   "cell_type": "code",
   "execution_count": 5,
   "metadata": {},
   "outputs": [
    {
     "data": {
      "text/plain": [
       "LinearRegression()"
      ]
     },
     "execution_count": 5,
     "metadata": {},
     "output_type": "execute_result"
    }
   ],
   "source": [
    "model = LinearRegression()\n",
    "model.fit(X, y)"
   ]
  },
  {
   "cell_type": "markdown",
   "metadata": {},
   "source": [
    "### Test the prediction\n",
    "Model expects 10 features as input, and returns a likelihood value"
   ]
  },
  {
   "cell_type": "code",
   "execution_count": 6,
   "metadata": {},
   "outputs": [
    {
     "name": "stdout",
     "output_type": "stream",
     "text": [
      "206.11608996544487\n"
     ]
    }
   ],
   "source": [
    "expected_input = [[0.038076, 0.050680, 0.061696,\n",
    "             0.021872, -0.044223, -0.034821,\n",
    "             -0.043401, -0.002592, 0.019908,\n",
    "             -0.017646]]\n",
    "\n",
    "expected_result = model.predict(expected_input)\n",
    "print(expected_result[0])"
   ]
  },
  {
   "cell_type": "markdown",
   "metadata": {},
   "source": [
    "### Exporting the model\n",
    "\n",
    "Use `pickle.dump()` to export the model"
   ]
  },
  {
   "cell_type": "code",
   "execution_count": 7,
   "metadata": {},
   "outputs": [],
   "source": [
    "# save the model to disk\n",
    "filename = 'finalized_model.sav'\n",
    "with open(filename, 'wb') as file:\n",
    "    pickle.dump(model, file)"
   ]
  },
  {
   "cell_type": "markdown",
   "metadata": {},
   "source": [
    "# Loading the model"
   ]
  },
  {
   "cell_type": "markdown",
   "metadata": {},
   "source": [
    "### Load the model\n",
    "Use `pickle.load()` to load the model"
   ]
  },
  {
   "cell_type": "code",
   "execution_count": 8,
   "metadata": {},
   "outputs": [],
   "source": [
    "filename = 'finalized_model.sav'\n",
    "with open(filename, 'rb') as file:\n",
    "    loaded_model = pickle.load(file)"
   ]
  },
  {
   "cell_type": "markdown",
   "metadata": {},
   "source": [
    "### Verify that it works"
   ]
  },
  {
   "cell_type": "code",
   "execution_count": 9,
   "metadata": {},
   "outputs": [],
   "source": [
    "x = [[0.038076, 0.050680, 0.061696,\n",
    "      0.021872, -0.044223, -0.034821,\n",
    "      -0.043401, -0.002592, 0.019908,\n",
    "      -0.017646]]"
   ]
  },
  {
   "cell_type": "code",
   "execution_count": 10,
   "metadata": {
    "scrolled": true
   },
   "outputs": [
    {
     "data": {
      "text/plain": [
       "206.11608996544487"
      ]
     },
     "execution_count": 10,
     "metadata": {},
     "output_type": "execute_result"
    }
   ],
   "source": [
    "loaded_model.predict(expected_input)[0]"
   ]
  },
  {
   "cell_type": "markdown",
   "metadata": {},
   "source": [
    "# Create a flask server\n",
    "In this section, I will use **Visual Studio Code** IDE to demonstrate. You may use your IDE of choice like Atom or Sublime instead.\n",
    "\n",
    "For terminal commands, I will be using **Git Bash** for Windows or **Terminal** for Mac. It is important that we are not using conda for this. More on it later."
   ]
  },
  {
   "cell_type": "markdown",
   "metadata": {},
   "source": [
    "### Setup directories\n",
    "\n",
    "1. In this **api-lesson** folder, Create a new folder called **deployment**\n",
    "2. Open the `deployment` folder with **Visual Studio Code**\n",
    "3. Copy `finalized_model.sav` into the **deployment** folder\n"
   ]
  },
  {
   "cell_type": "markdown",
   "metadata": {},
   "source": [
    "### Setup virtualenv\n",
    "4. Open the terminal and change directory to the 'api-lesson' folder:\n",
    "    ```bash\n",
    "    cd path/to/api-lesson\n",
    "\n",
    "    ```\n",
    "\n",
    "5. Install `virtualenv` with pip:\n",
    "    ```bash\n",
    "    pip install virtualenv\n",
    "\n",
    "    ```\n",
    "    \n",
    "6. Create a new virtual environment called `myenv`:\n",
    "    ```bash\n",
    "    virtualenv -p python3 myenv\n",
    "\n",
    "    ```\n",
    "    - You will now notice a new folder created for you called \"myenv\"\n",
    "\n",
    "7. Activate the virtual environment we just created:\n",
    "    ```bash\n",
    "    source myenv/scripts/activate << for windows\n",
    "     source myenv/bin/activate << for mac\n",
    "\n",
    "    ```\n",
    "8. Install the packages we will use for the flask server:\n",
    "    ```bash\n",
    "    pip install flask sklearn\n",
    "\n",
    "    ```"
   ]
  },
  {
   "cell_type": "markdown",
   "metadata": {},
   "source": [
    "#### Check Point\n",
    "You should see `(myenv)` in your terminal\n",
    "<img src=\"assets/api_01_myenv.png\">\n",
    "\n",
    "Type `pip list` and you should see `flask` and `sklearn` in the list\n",
    "<img src=\"assets/api_02_piplist.png\">"
   ]
  },
  {
   "cell_type": "markdown",
   "metadata": {},
   "source": [
    "### Create a Flask server\n",
    "9. In the **deployment** folder, create a new python file called `app.py`\n",
    "10. Open `app.py` in **visual studio code**\n",
    "11. In `app.py`, Write the following code:"
   ]
  },
  {
   "cell_type": "markdown",
   "metadata": {},
   "source": [
    "```python\n",
    "# Loads Flask Library\n",
    "from flask import Flask\n",
    "# initialises a flask application\n",
    "app = Flask(__name__)\n",
    "\n",
    "# hello world test\n",
    "@app.route('/hello') # route defines the API's URI: http://localhost:5000/hello\n",
    "# function immediately after route will be executed\n",
    "def hello(): \n",
    "    # What the flask server will return\n",
    "    return \"hello world\"\n",
    "\n",
    "\n",
    "# runs the app\n",
    "if __name__ == '__main__':\n",
    "  app.run(debug=True)\n",
    "```"
   ]
  },
  {
   "cell_type": "markdown",
   "metadata": {},
   "source": [
    "Now that we have created the flask server, we need to **set our environment variables** and run it.\n",
    "\n",
    "12. In the terminal type:\n",
    "\n",
    "```bash\n",
    "cd deployment\n",
    "export FLASK_ENV=development\n",
    "export FLASK_APP=app.py\n",
    "flask run --host=0.0.0.0\n",
    "```\n",
    "\n",
    "#### Check Point\n",
    "Open your browser and enter the URL: `http://localhost:5000/hello`. You should see\n",
    "<img src=\"assets/api_03_heloworld.png\">"
   ]
  },
  {
   "cell_type": "markdown",
   "metadata": {},
   "source": [
    "**Hooray we just created our first REST API**.\n",
    "- We made a `GET` request to the flask server with the URL `http://localhost:5000/hello`\n",
    "- The server responed with `hello world`"
   ]
  },
  {
   "cell_type": "markdown",
   "metadata": {},
   "source": [
    "### Create an API to predict diabetes"
   ]
  },
  {
   "cell_type": "markdown",
   "metadata": {},
   "source": [
    "Next we want to be able to predict diabetes by giving the server **X** and getting **y_pred** in return. For this to happen, we will be passing the **X** as parameters in the URL like so\n",
    "<img src=\"assets/api_04_predictionapi.png\">\n",
    "The API URI is `http://localhost:5000/api/diabetes` and the parameter is `?x=0,1,2,3,4,5,6,7,8,9`. This will result in the server giving us the prediction of `9604.737495823083`\n",
    "\n",
    "13. Change the `app.py` code to the following and **save**:"
   ]
  },
  {
   "cell_type": "markdown",
   "metadata": {},
   "source": [
    "```python\n",
    "from flask import Flask\n",
    "app = Flask(__name__)\n",
    "\n",
    "# handles REST API requests\n",
    "from flask import request\n",
    "# loads our model\n",
    "import pickle\n",
    "\n",
    "@app.route('/hello')\n",
    "def hello(): \n",
    "    return \"hello world\"\n",
    "\n",
    "# load the model\n",
    "filename = 'finalized_model.sav'\n",
    "with open(filename, 'rb') as file:\n",
    "    model = pickle.load(file)\n",
    "\n",
    "# predicts diabetes\n",
    "# expected uri: http://localhost:5000/api/diabetes?x=0,1,2,3,4,5,6,7,8,9\n",
    "@app.route('/api/diabetes')\n",
    "def diabetes():\n",
    "    # get the parameter named \"x\" in string type\n",
    "    params = request.args.get('x')\n",
    "    # change \"0,1,2,3,4,5,6,7,8,9\" to [[0,1,2,3,4,5,6,7,8,9]]\n",
    "    x = [[float(i) for i in params.split(',')]]\n",
    "    # use the model to predict\n",
    "    pred = model.predict(x)[0]\n",
    "    # sends the prediction back to client\n",
    "    return str(pred)\n",
    "\n",
    "# runs the app\n",
    "if __name__ == '__main__':\n",
    "  app.run(debug=True)\n",
    "```"
   ]
  },
  {
   "cell_type": "markdown",
   "metadata": {},
   "source": [
    "#### Check Point\n",
    "Open your browser and enter the URL:<br>\n",
    "`http://localhost:5000/api/diabetes?x=0.038076,0.050680,0.061696,0.021872,-0.044223,-0.034821,-0.043401,-0.002592,0.019908,-0.017646`\n",
    "\n",
    "You should see\n",
    "<img src=\"assets/api_05_predictionapi2.png\">"
   ]
  },
  {
   "cell_type": "markdown",
   "metadata": {},
   "source": [
    "**We have just created an API that will predict the likelyhood of getting diabetes!**"
   ]
  },
  {
   "cell_type": "markdown",
   "metadata": {},
   "source": [
    "### Create a web page that predicts diabetes\n",
    "\n",
    "Next we will create a HTML webpage that uses the API we created\n",
    "<img src=\"assets/api_06_webpage.png\">"
   ]
  },
  {
   "cell_type": "markdown",
   "metadata": {},
   "source": [
    "14. Create a new folder called `templates` and in the folder, create a file called `index.html`. The file structure should look like this:\n",
    "<img src=\"assets/api_07_filestructure.png\">"
   ]
  },
  {
   "cell_type": "markdown",
   "metadata": {},
   "source": [
    "15. Open `index.html` and add the following code:"
   ]
  },
  {
   "cell_type": "markdown",
   "metadata": {},
   "source": [
    "```html\n",
    "<!DOCTYPE html>\n",
    "<html lang=\"en\">\n",
    "  <head>\n",
    "    <meta charset=\"UTF-8\" />\n",
    "    <meta name=\"viewport\" content=\"width=device-width, initial-scale=1.0\" />\n",
    "\n",
    "    <script\n",
    "      src=\"https://code.jquery.com/jquery-3.5.1.min.js\"\n",
    "      integrity=\"sha256-9/aliU8dGd2tb6OSsuzixeV4y/faTqgFtohetphbbj0=\"\n",
    "      crossorigin=\"anonymous\"\n",
    "    ></script>\n",
    "\n",
    "    <title>Diabetes Prediction Website</title>\n",
    "  </head>\n",
    "  <body>\n",
    "    <h1>Diabetes Likelihood Calculator</h1>\n",
    "    <form>\n",
    "      <label for=\"age\">age:</label><br />\n",
    "      <input type=\"text\" id=\"0\" name=\"age\" value=\"0.038076\" /><br />\n",
    "\n",
    "      <label for=\"sex\">sex:</label><br />\n",
    "      <input type=\"text\" id=\"1\" name=\"sex\" value=\"0.050680\" /><br />\n",
    "\n",
    "      <label for=\"bmi\">bmi:</label><br />\n",
    "      <input type=\"text\" id=\"2\" name=\"bmi\" value=\"0.021872\" /><br />\n",
    "\n",
    "      <label for=\"bp\">bp:</label><br />\n",
    "      <input type=\"text\" id=\"3\" name=\"bp\" value=\"0.038076\" /><br />\n",
    "\n",
    "      <label for=\"s1\">s1:</label><br />\n",
    "      <input type=\"text\" id=\"4\" name=\"s1\" value=\"-0.044223\" /><br />\n",
    "\n",
    "      <label for=\"s2\">s2:</label><br />\n",
    "      <input type=\"text\" id=\"5\" name=\"s2\" value=\"-0.034821\" /><br />\n",
    "\n",
    "      <label for=\"s1\">s3:</label><br />\n",
    "      <input type=\"text\" id=\"6\" name=\"s3\" value=\"-0.043401\" /><br />\n",
    "\n",
    "      <label for=\"s4\">s4:</label><br />\n",
    "      <input type=\"text\" id=\"7\" name=\"s4\" value=\"-0.002592\" /><br />\n",
    "\n",
    "      <label for=\"s5\">s5:</label><br />\n",
    "      <input type=\"text\" id=\"8\" name=\"s5\" value=\"0.019908\" /><br />\n",
    "\n",
    "      <label for=\"s6\">s6:</label><br />\n",
    "      <input type=\"text\" id=\"9\" name=\"s6\" value=\"-0.017646\" /><br />\n",
    "\n",
    "      <input type=\"submit\" id=\"submit\" />\n",
    "    </form>\n",
    "\n",
    "    <p>Diabetes likelihood is: <span id=\"result\">_</span></p>\n",
    "\n",
    "    <script language=\"JavaScript\">\n",
    "      // This is JQUERY scirpt that sends the 10 input values as \"x\" to the API\n",
    "      $(\"#submit\").click(function (event) {\n",
    "        event.preventDefault();\n",
    "        $.ajax({\n",
    "          url: \"http://localhost:5000/api/diabetes\",\n",
    "          type: \"get\",\n",
    "          data: {\n",
    "            x:\n",
    "              $(\"#0\").val() +\n",
    "              \",\" +\n",
    "              $(\"#1\").val() +\n",
    "              \",\" +\n",
    "              $(\"#2\").val() +\n",
    "              \",\" +\n",
    "              $(\"#3\").val() +\n",
    "              \",\" +\n",
    "              $(\"#4\").val() +\n",
    "              \",\" +\n",
    "              $(\"#5\").val() +\n",
    "              \",\" +\n",
    "              $(\"#6\").val() +\n",
    "              \",\" +\n",
    "              $(\"#7\").val() +\n",
    "              \",\" +\n",
    "              $(\"#8\").val() +\n",
    "              \",\" +\n",
    "              $(\"#9\").val(),\n",
    "          },\n",
    "          success: function (response) {\n",
    "            $(\"#result\").html(response);\n",
    "          },\n",
    "        });\n",
    "      });\n",
    "    </script>\n",
    "  </body>\n",
    "</html>\n",
    "\n",
    "\n",
    "```"
   ]
  },
  {
   "cell_type": "markdown",
   "metadata": {},
   "source": [
    "If you open the `index.html` file now, it should look correct. **BUT if you submit, it will not work yet** because the website has to be served from our flask server first! Our final step will be to serve this html on our flask server."
   ]
  },
  {
   "cell_type": "markdown",
   "metadata": {},
   "source": [
    "16. In `app.py` change the code to the following:\n",
    "\n",
    "```python\n",
    "from flask import Flask\n",
    "app = Flask(__name__)\n",
    "from flask import request\n",
    "import pickle\n",
    "\n",
    "# used to serve html files\n",
    "# files have to be inside \"templates\" folder\n",
    "from flask import render_template\n",
    "\n",
    "@app.route('/hello')\n",
    "def hello(): \n",
    "    return \"hello world\"\n",
    "\n",
    "# serve website\n",
    "@app.route('/')\n",
    "def home():\n",
    "    # notice that \"./index.html\" actually means \"templates/index.html\"\n",
    "    # this is because render_template() treats 'templates' folder as the root\n",
    "    return render_template(\"./index.html\")\n",
    "\n",
    "\n",
    "filename = 'finalized_model.sav'\n",
    "with open(filename, 'rb') as file:\n",
    "    model = pickle.load(file)\n",
    "\n",
    "@app.route('/api/diabetes')\n",
    "def diabetes():\n",
    "    params = request.args.get('x')\n",
    "    x = [[float(i) for i in params.split(',')]]\n",
    "    pred = model.predict(x)[0]\n",
    "    return str(pred)\n",
    "\n",
    "if __name__ == '__main__':\n",
    "  app.run(debug=True)\n",
    "```"
   ]
  },
  {
   "cell_type": "markdown",
   "metadata": {},
   "source": [
    "#### Final Check Point\n",
    "\n",
    "Open `http://localhost:5000/` and you should see a fully functioning Diabetes calculator. You have successfully created a web-service API that predicts using your machine learning model and a web application to demonstrate it!"
   ]
  },
  {
   "cell_type": "markdown",
   "metadata": {},
   "source": [
    "### Create a Requirements file\n",
    "\n",
    "The last thing we need to do is to create a `requirements.txt` file so that we can easily install the packages used in this project if we want to replicate it.\n",
    "\n",
    "17. You can terminate the server via your **Git Bash** by typing `CTRL+c`\n",
    "18. in git bash type: `pip freeze > requirements.txt`\n",
    "    - you should see a new file created called `requirements.txt`\n",
    "    - In the future, you can install all packages for this project by typing `pip install -r requirements.txt`\n",
    "19. To exit `myenv` type in the terminal: `deactivate`\n"
   ]
  },
  {
   "cell_type": "markdown",
   "metadata": {},
   "source": [
    "Below is the full `app.py` code for reference:\n",
    "```python\n",
    "# Loads Flask Library\n",
    "from flask import Flask\n",
    "# initialises a flask application\n",
    "app = Flask(__name__)\n",
    "\n",
    "# used to serve html files\n",
    "# files have to be inside \"templates\" folder\n",
    "from flask import render_template\n",
    "\n",
    "# handles REST API requests\n",
    "from flask import request\n",
    "\n",
    "# loads our model\n",
    "import pickle\n",
    "\n",
    "\n",
    "# hello world test\n",
    "@app.route('/hello') # route defines the API's URI: http://localhost:5000/hello\n",
    "# function immediately after route will be executed\n",
    "def hello(): \n",
    "    # What the flask server will return\n",
    "    return \"hello world\"\n",
    "\n",
    "# serve website\n",
    "@app.route('/')\n",
    "def home():\n",
    "    # notice that \"./index.html\" actually means \"templates/index.html\"\n",
    "    # this is because render_template() treats 'templates' folder as the root\n",
    "    return render_template(\"./index.html\")\n",
    "\n",
    "\n",
    "# load the model\n",
    "filename = 'finalized_model.sav'\n",
    "with open(filename, 'rb') as file:\n",
    "    model = pickle.load(file)\n",
    "\n",
    "# predicts diabetes\n",
    "# expected uri: http://localhost:5000/api/diabetes?x=0,1,2,3,4,5,6,7,8,9\n",
    "@app.route('/api/diabetes')\n",
    "def diabetes():\n",
    "    # get the parameter named \"x\"\n",
    "    params = request.args.get('x')\n",
    "    # change \"0,1,2,3,4,5,6,7,8,9\" to [[0,1,2,3,4,5,6,7,8,9]]\n",
    "    x = [[float(i) for i in params.split(',')]]\n",
    "    # use the model to predict\n",
    "    pred = model.predict(x)[0]\n",
    "    # sends the prediction back to client\n",
    "    return str(pred)\n",
    "\n",
    "# runs the app\n",
    "if __name__ == '__main__':\n",
    "  app.run(debug=True)\n",
    "```"
   ]
  }
 ],
 "metadata": {
  "kernelspec": {
   "display_name": "Python 3",
   "language": "python",
   "name": "python3"
  },
  "language_info": {
   "codemirror_mode": {
    "name": "ipython",
    "version": 3
   },
   "file_extension": ".py",
   "mimetype": "text/x-python",
   "name": "python",
   "nbconvert_exporter": "python",
   "pygments_lexer": "ipython3",
   "version": "3.8.5"
  }
 },
 "nbformat": 4,
 "nbformat_minor": 4
}
