{
 "cells": [
  {
   "cell_type": "markdown",
   "metadata": {},
   "source": [
    "## Spatial Data Analysis Code-Along\n",
    "\n",
    "> Author: Matt Brems"
   ]
  },
  {
   "cell_type": "markdown",
   "metadata": {},
   "source": [
    "### Install packages if you haven't already:"
   ]
  },
  {
   "cell_type": "code",
   "execution_count": 10,
   "metadata": {},
   "outputs": [
    {
     "name": "stdout",
     "output_type": "stream",
     "text": [
      "^C\n",
      "^C\n",
      "^C\n"
     ]
    }
   ],
   "source": [
    "!pip install pysal\n",
    "!pip install palettable\n",
    "!pip install folium"
   ]
  },
  {
   "cell_type": "markdown",
   "metadata": {},
   "source": [
    "A common package that is used to do spatial data analysis/exploration is [geopandas](http://geopandas.org/). However, there are a lot of weird dependencies that may give people trouble, so we'll avoid using geopandas today. There's a separate notebook that'll allow you to do some work in it if you want to test it out!\n",
    "- I recommend that you set up an environment to do this if you want to try out geopandas."
   ]
  },
  {
   "cell_type": "code",
   "execution_count": 19,
   "metadata": {
    "scrolled": true
   },
   "outputs": [
    {
     "name": "stderr",
     "output_type": "stream",
     "text": [
      "  ERROR: Command errored out with exit status 1:\n",
      "   command: 'C:\\Users\\Tresha\\anaconda3\\python.exe' 'C:\\Users\\Tresha\\anaconda3\\lib\\site-packages\\pip\\_vendor\\pep517\\_in_process.py' get_requires_for_build_wheel 'C:\\Users\\Tresha\\AppData\\Local\\Temp\\tmpx0sn28w4'\n",
      "       cwd: C:\\Users\\Tresha\\AppData\\Local\\Temp\\pip-install-y__crgtd\\rasterio\n",
      "  Complete output (2 lines):\n",
      "  INFO:root:Building on Windows requires extra options to setup.py to locate needed GDAL files. More information is available in the README.\n",
      "  ERROR: A GDAL API version must be specified. Provide a path to gdal-config using a GDAL_CONFIG environment variable or use a GDAL_VERSION environment variable.\n",
      "  ----------------------------------------\n",
      "ERROR: Command errored out with exit status 1: 'C:\\Users\\Tresha\\anaconda3\\python.exe' 'C:\\Users\\Tresha\\anaconda3\\lib\\site-packages\\pip\\_vendor\\pep517\\_in_process.py' get_requires_for_build_wheel 'C:\\Users\\Tresha\\AppData\\Local\\Temp\\tmpx0sn28w4' Check the logs for full command output.\n"
     ]
    },
    {
     "name": "stdout",
     "output_type": "stream",
     "text": [
      "Collecting pysal\n",
      "  Using cached pysal-2.4.0.tar.gz (20 kB)\n",
      "Collecting libpysal>=4.4.0\n",
      "  Using cached libpysal-4.4.0-py3-none-any.whl (2.4 MB)\n",
      "Collecting access>=1.1.3\n",
      "  Using cached access-1.1.3-py3-none-any.whl (21 kB)\n",
      "Collecting esda>=2.3.6\n",
      "  Using cached esda-2.3.6-py3-none-any.whl (102 kB)\n",
      "Collecting giddy>=2.3.3\n",
      "  Using cached giddy-2.3.3-py3-none-any.whl (60 kB)\n",
      "Collecting inequality>=1.0.0\n",
      "  Using cached inequality-1.0.0.tar.gz (11 kB)\n",
      "Collecting pointpats>=2.2.0\n",
      "  Using cached pointpats-2.2.0.tar.gz (55 kB)\n",
      "Collecting segregation>=1.5.0\n",
      "  Using cached segregation-1.5.0-py3-none-any.whl (82 kB)\n",
      "Collecting spaghetti>=1.5.6\n",
      "  Using cached spaghetti-1.5.6-py3-none-any.whl (43 kB)\n",
      "Collecting mgwr>=2.1.2\n",
      "  Using cached mgwr-2.1.2.tar.gz (41 kB)\n",
      "Collecting spglm>=1.0.8\n",
      "  Using cached spglm-1.0.8.tar.gz (37 kB)\n",
      "Collecting spint>=1.0.7\n",
      "  Using cached spint-1.0.7.tar.gz (28 kB)\n",
      "Collecting spreg>=1.2.2\n",
      "  Using cached spreg-1.2.2-py3-none-any.whl (209 kB)\n",
      "Collecting spvcm>=0.3.0\n",
      "  Using cached spvcm-0.3.0.tar.gz (5.7 MB)\n",
      "Collecting tobler>=0.6.0\n",
      "  Using cached tobler-0.7.0-py3-none-any.whl (26 kB)\n",
      "Collecting mapclassify>=2.4.2\n",
      "  Using cached mapclassify-2.4.2-py3-none-any.whl (38 kB)\n",
      "Collecting splot>=1.1.3\n",
      "  Using cached splot-1.1.3.tar.gz (34 kB)\n",
      "Collecting spopt>=0.1.1\n",
      "  Using cached spopt-0.1.1-py3-none-any.whl (54 kB)\n",
      "Collecting urllib3>=1.26\n",
      "  Using cached urllib3-1.26.5-py2.py3-none-any.whl (138 kB)\n",
      "Collecting python-dateutil<=2.8.0\n",
      "  Using cached python_dateutil-2.8.0-py2.py3-none-any.whl (226 kB)\n",
      "Requirement already satisfied: pytest in c:\\users\\tresha\\anaconda3\\lib\\site-packages (from pysal) (0.0.0)\n",
      "Collecting pytest-cov\n",
      "  Using cached pytest_cov-2.12.0-py2.py3-none-any.whl (20 kB)\n",
      "Collecting coverage\n",
      "  Using cached coverage-5.5-cp38-cp38-win_amd64.whl (211 kB)\n",
      "Requirement already satisfied: numpy>=1.3 in c:\\users\\tresha\\anaconda3\\lib\\site-packages (from libpysal>=4.4.0->pysal) (1.19.2)\n",
      "Requirement already satisfied: jinja2 in c:\\users\\tresha\\anaconda3\\lib\\site-packages (from libpysal>=4.4.0->pysal) (2.11.2)\n",
      "Requirement already satisfied: pandas in c:\\users\\tresha\\anaconda3\\lib\\site-packages (from libpysal>=4.4.0->pysal) (1.1.3)\n",
      "Requirement already satisfied: requests in c:\\users\\tresha\\anaconda3\\lib\\site-packages (from libpysal>=4.4.0->pysal) (2.24.0)\n",
      "Requirement already satisfied: scipy>=0.11 in c:\\users\\tresha\\anaconda3\\lib\\site-packages (from libpysal>=4.4.0->pysal) (1.6.3)\n",
      "Requirement already satisfied: beautifulsoup4 in c:\\users\\tresha\\anaconda3\\lib\\site-packages (from libpysal>=4.4.0->pysal) (4.9.3)\n",
      "Requirement already satisfied: scikit-learn in c:\\users\\tresha\\anaconda3\\lib\\site-packages (from esda>=2.3.6->pysal) (0.23.2)\n",
      "Collecting quantecon>=0.4.7\n",
      "  Using cached quantecon-0.5.0-py3-none-any.whl (229 kB)\n",
      "Requirement already satisfied: matplotlib in c:\\users\\tresha\\anaconda3\\lib\\site-packages (from pointpats>=2.2.0->pysal) (3.3.2)\n",
      "Collecting opencv-contrib-python>=4.2.0\n",
      "  Using cached opencv_contrib_python-4.5.2.52-cp38-cp38-win_amd64.whl (41.5 MB)\n",
      "Requirement already satisfied: seaborn in c:\\users\\tresha\\anaconda3\\lib\\site-packages (from segregation>=1.5.0->pysal) (0.11.0)\n",
      "Requirement already satisfied: tqdm in c:\\users\\tresha\\anaconda3\\lib\\site-packages (from segregation>=1.5.0->pysal) (4.50.2)\n",
      "Collecting geopandas\n",
      "  Using cached geopandas-0.9.0-py2.py3-none-any.whl (994 kB)\n",
      "Requirement already satisfied: rtree in c:\\users\\tresha\\anaconda3\\lib\\site-packages (from spaghetti>=1.5.6->pysal) (0.9.4)\n",
      "Collecting rasterstats\n",
      "  Using cached rasterstats-0.15.0-py3-none-any.whl (16 kB)\n",
      "Requirement already satisfied: statsmodels in c:\\users\\tresha\\anaconda3\\lib\\site-packages (from tobler>=0.6.0->pysal) (0.12.2)\n",
      "Collecting pygeos\n",
      "  Using cached pygeos-0.10-cp38-cp38-win_amd64.whl (1.1 MB)\n",
      "Requirement already satisfied: joblib in c:\\users\\tresha\\anaconda3\\lib\\site-packages (from tobler>=0.6.0->pysal) (0.17.0)\n",
      "Collecting rasterio\n",
      "  Using cached rasterio-1.2.3.tar.gz (2.2 MB)\n",
      "  Installing build dependencies: started\n",
      "  Installing build dependencies: finished with status 'done'\n",
      "  Getting requirements to build wheel: started\n",
      "  Getting requirements to build wheel: finished with status 'error'\n"
     ]
    }
   ],
   "source": [
    "import numpy as np\n",
    "import pandas as pd\n",
    "from matplotlib.pyplot import *\n",
    "import statsmodels.api as sm\n",
    "\n",
    "%matplotlib inline"
   ]
  },
  {
   "cell_type": "markdown",
   "metadata": {},
   "source": [
    "### First, we'll read in the shapefile and explore it a bit.\n",
    "\n",
    "> A shapefile is a **file** that can hold the **shape** of an object. More technically, it is type of file that more easily contains the boundaries of objects and attributes of objects (i.e. the center of the object, the geographic location of the object if that exists) and it interfaces well with various programs."
   ]
  },
  {
   "cell_type": "code",
   "execution_count": 20,
   "metadata": {},
   "outputs": [],
   "source": [
    "shp_link = '../us48_data/us48.shp'"
   ]
  },
  {
   "cell_type": "code",
   "execution_count": 9,
   "metadata": {},
   "outputs": [
    {
     "name": "stdout",
     "output_type": "stream",
     "text": [
      "Requirement already satisfied: folium in c:\\users\\tresha\\anaconda3\\lib\\site-packages (0.12.1)\n",
      "Requirement already satisfied: numpy in c:\\users\\tresha\\anaconda3\\lib\\site-packages (from folium) (1.19.2)\n",
      "Requirement already satisfied: jinja2>=2.9 in c:\\users\\tresha\\anaconda3\\lib\\site-packages (from folium) (2.11.2)\n",
      "Requirement already satisfied: requests in c:\\users\\tresha\\anaconda3\\lib\\site-packages (from folium) (2.24.0)\n",
      "Requirement already satisfied: branca>=0.3.0 in c:\\users\\tresha\\anaconda3\\lib\\site-packages (from folium) (0.4.2)\n",
      "Requirement already satisfied: MarkupSafe>=0.23 in c:\\users\\tresha\\anaconda3\\lib\\site-packages (from jinja2>=2.9->folium) (1.1.1)\n",
      "Requirement already satisfied: urllib3!=1.25.0,!=1.25.1,<1.26,>=1.21.1 in c:\\users\\tresha\\anaconda3\\lib\\site-packages (from requests->folium) (1.25.11)\n",
      "Requirement already satisfied: idna<3,>=2.5 in c:\\users\\tresha\\anaconda3\\lib\\site-packages (from requests->folium) (2.10)\n",
      "Requirement already satisfied: certifi>=2017.4.17 in c:\\users\\tresha\\anaconda3\\lib\\site-packages (from requests->folium) (2020.6.20)\n",
      "Requirement already satisfied: chardet<4,>=3.0.2 in c:\\users\\tresha\\anaconda3\\lib\\site-packages (from requests->folium) (3.0.4)\n",
      "^C\n",
      "\n",
      "Note: you may need to restart the kernel to use updated packages.\n"
     ]
    }
   ],
   "source": [
    "conda install -c conda-forge pysal"
   ]
  },
  {
   "cell_type": "code",
   "execution_count": 21,
   "metadata": {},
   "outputs": [
    {
     "name": "stderr",
     "output_type": "stream",
     "text": [
      "C:\\Users\\Tresha\\anaconda3\\lib\\site-packages\\pysal\\lib\\weights\\util.py:19: UserWarning: geopandas not available. Some functionality will be disabled.\n",
      "  warn('geopandas not available. Some functionality will be disabled.')\n"
     ]
    }
   ],
   "source": [
    "import pysal.lib.io"
   ]
  },
  {
   "cell_type": "code",
   "execution_count": null,
   "metadata": {},
   "outputs": [],
   "source": [
    "# import pysal.lib as lib\n",
    "\n",
    "# io = lib.io"
   ]
  },
  {
   "cell_type": "code",
   "execution_count": 22,
   "metadata": {},
   "outputs": [],
   "source": [
    "us = pysal.lib.io.open(shp_link)"
   ]
  },
  {
   "cell_type": "code",
   "execution_count": 23,
   "metadata": {},
   "outputs": [
    {
     "data": {
      "text/plain": [
       "<pysal.lib.io.iohandlers.pyShpIO.PurePyShpWrapper at 0xf153565400>"
      ]
     },
     "execution_count": 23,
     "metadata": {},
     "output_type": "execute_result"
    }
   ],
   "source": [
    "us"
   ]
  },
  {
   "cell_type": "markdown",
   "metadata": {},
   "source": [
    "#### Let's check out the header."
   ]
  },
  {
   "cell_type": "code",
   "execution_count": 24,
   "metadata": {},
   "outputs": [
    {
     "data": {
      "text/plain": [
       "{'File Code': 9994,\n",
       " 'Unused0': 0,\n",
       " 'Unused1': 0,\n",
       " 'Unused2': 0,\n",
       " 'Unused3': 0,\n",
       " 'Unused4': 0,\n",
       " 'File Length': 93238,\n",
       " 'Version': 1000,\n",
       " 'Shape Type': 5,\n",
       " 'BBOX Xmin': -124.7314224243164,\n",
       " 'BBOX Ymin': 24.95596694946289,\n",
       " 'BBOX Xmax': -66.9698486328125,\n",
       " 'BBOX Ymax': 49.371734619140625,\n",
       " 'BBOX Zmin': 3.754550197104843e+72,\n",
       " 'BBOX Zmax': 0.0,\n",
       " 'BBOX Mmin': 0.0,\n",
       " 'BBOX Mmax': 0.0}"
      ]
     },
     "execution_count": 24,
     "metadata": {},
     "output_type": "execute_result"
    }
   ],
   "source": [
    "us.header"
   ]
  },
  {
   "cell_type": "code",
   "execution_count": null,
   "metadata": {},
   "outputs": [],
   "source": [
    "# 3 dimensional coordinates"
   ]
  },
  {
   "cell_type": "markdown",
   "metadata": {},
   "source": [
    "> The **BBOX** refers to a \"bounding box,\" which is basically the box you'd create if you were to click and drag the smallest possible rectangle over a shape that contains the entire shape."
   ]
  },
  {
   "cell_type": "code",
   "execution_count": 25,
   "metadata": {
    "scrolled": false
   },
   "outputs": [
    {
     "data": {
      "text/plain": [
       "[<pysal.lib.cg.shapes.Polygon at 0xf1568fca00>,\n",
       " <pysal.lib.cg.shapes.Polygon at 0xf1565e8490>,\n",
       " <pysal.lib.cg.shapes.Polygon at 0xf14a3b8d90>,\n",
       " <pysal.lib.cg.shapes.Polygon at 0xf1568f2d60>,\n",
       " <pysal.lib.cg.shapes.Polygon at 0xf156501d60>,\n",
       " <pysal.lib.cg.shapes.Polygon at 0xf153557f10>,\n",
       " <pysal.lib.cg.shapes.Polygon at 0xf153565c40>,\n",
       " <pysal.lib.cg.shapes.Polygon at 0xf1568daf40>,\n",
       " <pysal.lib.cg.shapes.Polygon at 0xf153557d90>,\n",
       " <pysal.lib.cg.shapes.Polygon at 0xf1568fce20>,\n",
       " <pysal.lib.cg.shapes.Polygon at 0xf149b48100>,\n",
       " <pysal.lib.cg.shapes.Polygon at 0xf153565e20>,\n",
       " <pysal.lib.cg.shapes.Polygon at 0xf153565910>,\n",
       " <pysal.lib.cg.shapes.Polygon at 0xf153565550>,\n",
       " <pysal.lib.cg.shapes.Polygon at 0xf1535650d0>,\n",
       " <pysal.lib.cg.shapes.Polygon at 0xf1535651f0>,\n",
       " <pysal.lib.cg.shapes.Polygon at 0xf153565160>,\n",
       " <pysal.lib.cg.shapes.Polygon at 0xf1535651c0>,\n",
       " <pysal.lib.cg.shapes.Polygon at 0xf156980100>,\n",
       " <pysal.lib.cg.shapes.Polygon at 0xf156980070>,\n",
       " <pysal.lib.cg.shapes.Polygon at 0xf156980190>,\n",
       " <pysal.lib.cg.shapes.Polygon at 0xf1569802e0>,\n",
       " <pysal.lib.cg.shapes.Polygon at 0xf156980340>,\n",
       " <pysal.lib.cg.shapes.Polygon at 0xf1569800d0>,\n",
       " <pysal.lib.cg.shapes.Polygon at 0xf1569803d0>,\n",
       " <pysal.lib.cg.shapes.Polygon at 0xf156980430>,\n",
       " <pysal.lib.cg.shapes.Polygon at 0xf1569805e0>,\n",
       " <pysal.lib.cg.shapes.Polygon at 0xf156980610>,\n",
       " <pysal.lib.cg.shapes.Polygon at 0xf156980670>,\n",
       " <pysal.lib.cg.shapes.Polygon at 0xf1569806d0>,\n",
       " <pysal.lib.cg.shapes.Polygon at 0xf1569803a0>,\n",
       " <pysal.lib.cg.shapes.Polygon at 0xf1569807f0>,\n",
       " <pysal.lib.cg.shapes.Polygon at 0xf156980820>,\n",
       " <pysal.lib.cg.shapes.Polygon at 0xf156980940>,\n",
       " <pysal.lib.cg.shapes.Polygon at 0xf156980a30>,\n",
       " <pysal.lib.cg.shapes.Polygon at 0xf156980a90>,\n",
       " <pysal.lib.cg.shapes.Polygon at 0xf156980af0>,\n",
       " <pysal.lib.cg.shapes.Polygon at 0xf156980b50>,\n",
       " <pysal.lib.cg.shapes.Polygon at 0xf156980b20>,\n",
       " <pysal.lib.cg.shapes.Polygon at 0xf156980bb0>,\n",
       " <pysal.lib.cg.shapes.Polygon at 0xf156980d30>,\n",
       " <pysal.lib.cg.shapes.Polygon at 0xf156980ee0>,\n",
       " <pysal.lib.cg.shapes.Polygon at 0xf156980d00>,\n",
       " <pysal.lib.cg.shapes.Polygon at 0xf156980fd0>,\n",
       " <pysal.lib.cg.shapes.Polygon at 0xf156980f40>,\n",
       " <pysal.lib.cg.shapes.Polygon at 0xf156980f70>,\n",
       " <pysal.lib.cg.shapes.Polygon at 0xf156a511f0>,\n",
       " <pysal.lib.cg.shapes.Polygon at 0xf156a511c0>]"
      ]
     },
     "execution_count": 25,
     "metadata": {},
     "output_type": "execute_result"
    }
   ],
   "source": [
    "list(us)"
   ]
  },
  {
   "cell_type": "markdown",
   "metadata": {},
   "source": [
    "#### Let's check out one individual observation - in this case, it'll be a U.S. state."
   ]
  },
  {
   "cell_type": "code",
   "execution_count": 26,
   "metadata": {},
   "outputs": [
    {
     "data": {
      "text/plain": [
       "<pysal.lib.cg.shapes.Polygon at 0xf153557490>"
      ]
     },
     "execution_count": 26,
     "metadata": {},
     "output_type": "execute_result"
    }
   ],
   "source": [
    "us[0]"
   ]
  },
  {
   "cell_type": "markdown",
   "metadata": {},
   "source": [
    "#### There are plenty of [attributes that a polygon can have](http://pysal.readthedocs.io/en/latest/library/cg/shapes.html#pysal.cg.shapes.Polygon)."
   ]
  },
  {
   "cell_type": "code",
   "execution_count": 27,
   "metadata": {
    "scrolled": true
   },
   "outputs": [
    {
     "data": {
      "text/plain": [
       "[(-122.40074920654297, 48.22539520263672),\n",
       " (-122.46158599853516, 48.22854232788086),\n",
       " (-122.45315551757812, 48.1286735534668),\n",
       " (-122.36007690429688, 48.060279846191406),\n",
       " (-122.51324462890625, 48.1341552734375),\n",
       " (-122.54080200195312, 48.21063995361328),\n",
       " (-122.50785827636719, 48.253971099853516),\n",
       " (-122.40313720703125, 48.24677276611328),\n",
       " (-122.3770523071289, 48.28989791870117),\n",
       " (-122.5630874633789, 48.41442108154297),\n",
       " (-122.6657485961914, 48.41307067871094),\n",
       " (-122.69812774658203, 48.494503021240234),\n",
       " (-122.60689544677734, 48.51899719238281),\n",
       " (-122.5219497680664, 48.45857620239258),\n",
       " (-122.4725570678711, 48.46236801147461),\n",
       " (-122.50402069091797, 48.55961608886719),\n",
       " (-122.42826843261719, 48.59956741333008),\n",
       " (-122.48651885986328, 48.63874053955078),\n",
       " (-122.52527618408203, 48.71189498901367),\n",
       " (-122.51557159423828, 48.75809097290039),\n",
       " (-122.69611358642578, 48.803184509277344),\n",
       " (-122.7529525756836, 48.91015625),\n",
       " (-122.82112884521484, 48.95089340209961),\n",
       " (-122.7426528930664, 48.95597457885742),\n",
       " (-122.76383209228516, 48.99991226196289),\n",
       " (-120.85582733154297, 48.99997329711914),\n",
       " (-118.84245300292969, 49.0),\n",
       " (-118.19923400878906, 49.000003814697266),\n",
       " (-117.4375, 48.999996185302734),\n",
       " (-117.03097534179688, 49.0),\n",
       " (-117.02804565429688, 48.83815002441406),\n",
       " (-117.03783416748047, 48.04628372192383),\n",
       " (-117.03643798828125, 47.97119140625),\n",
       " (-117.04077911376953, 47.361541748046875),\n",
       " (-117.0413818359375, 47.258602142333984),\n",
       " (-117.03996276855469, 47.119422912597656),\n",
       " (-117.04093170166016, 46.53671646118164),\n",
       " (-117.03756713867188, 46.428096771240234),\n",
       " (-117.0434799194336, 46.38869094848633),\n",
       " (-117.06319427490234, 46.34881591796875),\n",
       " (-117.02698516845703, 46.33554458618164),\n",
       " (-117.00065612792969, 46.30256652832031),\n",
       " (-116.97174072265625, 46.249427795410156),\n",
       " (-116.96650695800781, 46.19767379760742),\n",
       " (-116.9284439086914, 46.16560363769531),\n",
       " (-116.96065521240234, 46.09739685058594),\n",
       " (-116.9862289428711, 46.07863235473633),\n",
       " (-116.95674133300781, 46.06581115722656),\n",
       " (-116.91815185546875, 45.99530029296875),\n",
       " (-117.48065185546875, 45.99996566772461),\n",
       " (-117.601806640625, 46.00040054321289),\n",
       " (-117.98162841796875, 46.00001907348633),\n",
       " (-117.9914779663086, 46.00177764892578),\n",
       " (-118.98101806640625, 45.999202728271484),\n",
       " (-119.0311050415039, 45.9664192199707),\n",
       " (-119.13912963867188, 45.92585372924805),\n",
       " (-119.17761993408203, 45.9224967956543),\n",
       " (-119.3016357421875, 45.93280792236328),\n",
       " (-119.37831115722656, 45.917755126953125),\n",
       " (-119.43772888183594, 45.91441345214844),\n",
       " (-119.5110855102539, 45.89934539794922),\n",
       " (-119.5881576538086, 45.91345977783203),\n",
       " (-119.62097930908203, 45.89955520629883),\n",
       " (-119.67730712890625, 45.852684020996094),\n",
       " (-119.83241271972656, 45.84175491333008),\n",
       " (-119.86859130859375, 45.831844329833984),\n",
       " (-119.99317169189453, 45.81128692626953),\n",
       " (-120.06749725341797, 45.78034973144531),\n",
       " (-120.15475463867188, 45.761409759521484),\n",
       " (-120.20629119873047, 45.719932556152344),\n",
       " (-120.28247833251953, 45.716732025146484),\n",
       " (-120.44222259521484, 45.689430236816406),\n",
       " (-120.49799346923828, 45.69578170776367),\n",
       " (-120.56891632080078, 45.74106979370117),\n",
       " (-120.62258911132812, 45.7437629699707),\n",
       " (-120.65723419189453, 45.732765197753906),\n",
       " (-120.6958236694336, 45.710662841796875),\n",
       " (-120.86024475097656, 45.665340423583984),\n",
       " (-120.9067611694336, 45.6356315612793),\n",
       " (-120.94739532470703, 45.65047073364258),\n",
       " (-120.96730041503906, 45.64530944824219),\n",
       " (-121.03230285644531, 45.65299987792969),\n",
       " (-121.07234954833984, 45.646766662597656),\n",
       " (-121.1240234375, 45.607215881347656),\n",
       " (-121.17313385009766, 45.60067367553711),\n",
       " (-121.19087219238281, 45.613399505615234),\n",
       " (-121.2021255493164, 45.65744400024414),\n",
       " (-121.21308898925781, 45.665802001953125),\n",
       " (-121.27520751953125, 45.678497314453125),\n",
       " (-121.31879425048828, 45.696800231933594),\n",
       " (-121.36663055419922, 45.69984436035156),\n",
       " (-121.42084503173828, 45.69076156616211),\n",
       " (-121.44136810302734, 45.695125579833984),\n",
       " (-121.52787017822266, 45.7197265625),\n",
       " (-121.70523071289062, 45.6889533996582),\n",
       " (-121.75750732421875, 45.689876556396484),\n",
       " (-121.80985260009766, 45.700843811035156),\n",
       " (-121.88709259033203, 45.67701721191406),\n",
       " (-121.92562866210938, 45.642189025878906),\n",
       " (-121.97146606445312, 45.63593673706055),\n",
       " (-121.99881744384766, 45.617984771728516),\n",
       " (-122.08084106445312, 45.59066390991211),\n",
       " (-122.24372100830078, 45.54827117919922),\n",
       " (-122.30194854736328, 45.543251037597656),\n",
       " (-122.35525512695312, 45.56632995605469),\n",
       " (-122.43595123291016, 45.564937591552734),\n",
       " (-122.56422424316406, 45.59497833251953),\n",
       " (-122.6500015258789, 45.606990814208984),\n",
       " (-122.69511413574219, 45.63120651245117),\n",
       " (-122.75933074951172, 45.649559020996094),\n",
       " (-122.7713394165039, 45.727848052978516),\n",
       " (-122.76307678222656, 45.7607307434082),\n",
       " (-122.78679656982422, 45.800506591796875),\n",
       " (-122.7833023071289, 45.85061264038086),\n",
       " (-122.7828598022461, 45.86804962158203),\n",
       " (-122.80500793457031, 45.90423583984375),\n",
       " (-122.80652618408203, 45.944053649902344),\n",
       " (-122.87419891357422, 46.027347564697266),\n",
       " (-122.8985366821289, 46.07949447631836),\n",
       " (-122.97294616699219, 46.11064910888672),\n",
       " (-123.04936981201172, 46.15590286254883),\n",
       " (-123.11732482910156, 46.17947769165039),\n",
       " (-123.17496490478516, 46.183753967285156),\n",
       " (-123.2112045288086, 46.17017364501953),\n",
       " (-123.24756622314453, 46.144187927246094),\n",
       " (-123.30348205566406, 46.14490509033203),\n",
       " (-123.46952819824219, 46.27519226074219),\n",
       " (-123.61882781982422, 46.25883483886719),\n",
       " (-123.72420501708984, 46.28559494018555),\n",
       " (-123.88451385498047, 46.2406120300293),\n",
       " (-123.9920654296875, 46.31045150756836),\n",
       " (-124.07784271240234, 46.26743698120117),\n",
       " (-124.0642318725586, 46.63992691040039),\n",
       " (-124.02176666259766, 46.58372116088867),\n",
       " (-124.01173400878906, 46.38385772705078),\n",
       " (-123.8401870727539, 46.404518127441406),\n",
       " (-123.93942260742188, 46.481292724609375),\n",
       " (-123.89229583740234, 46.51125717163086),\n",
       " (-123.95643615722656, 46.61740493774414),\n",
       " (-123.9251937866211, 46.673240661621094),\n",
       " (-123.83969116210938, 46.718467712402344),\n",
       " (-123.8942642211914, 46.74516677856445),\n",
       " (-124.04187774658203, 46.71603775024414),\n",
       " (-124.08976745605469, 46.72920608520508),\n",
       " (-124.10078430175781, 46.78965377807617),\n",
       " (-124.13754272460938, 46.90017318725586),\n",
       " (-124.10447692871094, 46.9083366394043),\n",
       " (-124.10345458984375, 46.874332427978516),\n",
       " (-124.02752685546875, 46.823951721191406),\n",
       " (-124.04564666748047, 46.8874397277832),\n",
       " (-123.8113784790039, 46.964149475097656),\n",
       " (-123.99458312988281, 46.9765739440918),\n",
       " (-124.03311157226562, 47.03122329711914),\n",
       " (-124.11107635498047, 47.04286575317383),\n",
       " (-124.16075134277344, 46.92980194091797),\n",
       " (-124.19144439697266, 47.16717529296875),\n",
       " (-124.23013305664062, 47.275264739990234),\n",
       " (-124.31813049316406, 47.34943389892578),\n",
       " (-124.3477783203125, 47.52710723876953),\n",
       " (-124.37229919433594, 47.63896179199219),\n",
       " (-124.48271942138672, 47.80845642089844),\n",
       " (-124.60536193847656, 47.873939514160156),\n",
       " (-124.7314224243164, 48.150203704833984),\n",
       " (-124.703857421875, 48.23221206665039),\n",
       " (-124.7158203125, 48.37777328491211),\n",
       " (-124.56220245361328, 48.357486724853516),\n",
       " (-123.98989868164062, 48.15935516357422),\n",
       " (-123.39556121826172, 48.1112174987793),\n",
       " (-123.12193298339844, 48.14891815185547),\n",
       " (-122.9203109741211, 48.094364166259766),\n",
       " (-122.9235610961914, 48.06698226928711),\n",
       " (-122.83982849121094, 48.13331985473633),\n",
       " (-122.7676010131836, 48.1441764831543),\n",
       " (-122.80165100097656, 48.085506439208984),\n",
       " (-122.66029357910156, 47.91734313964844),\n",
       " (-122.6523208618164, 47.86461639404297),\n",
       " (-122.74459838867188, 47.809173583984375),\n",
       " (-122.78852844238281, 47.802734375),\n",
       " (-122.80824279785156, 47.857261657714844),\n",
       " (-122.85752868652344, 47.8275146484375),\n",
       " (-122.8980941772461, 47.67270278930664),\n",
       " (-122.98147583007812, 47.60565948486328),\n",
       " (-123.1126480102539, 47.456459045410156),\n",
       " (-123.15279388427734, 47.348731994628906),\n",
       " (-123.00920867919922, 47.35321044921875),\n",
       " (-122.83199310302734, 47.43864822387695),\n",
       " (-123.03494262695312, 47.35623550415039),\n",
       " (-123.11141967773438, 47.37175369262695),\n",
       " (-123.02507019042969, 47.51612091064453),\n",
       " (-122.91570281982422, 47.61479187011719),\n",
       " (-122.75167846679688, 47.66087341308594),\n",
       " (-122.72179412841797, 47.757083892822266),\n",
       " (-122.60990142822266, 47.85019302368164),\n",
       " (-122.61195373535156, 47.93637466430664),\n",
       " (-122.53063201904297, 47.909645080566406),\n",
       " (-122.47234344482422, 47.75516128540039),\n",
       " (-122.62025451660156, 47.69715118408203),\n",
       " (-122.58521270751953, 47.571372985839844),\n",
       " (-122.55401611328125, 47.58368682861328),\n",
       " (-122.54145812988281, 47.52291488647461),\n",
       " (-122.50321960449219, 47.50739669799805),\n",
       " (-122.55720520019531, 47.39854431152344),\n",
       " (-122.54288482666016, 47.374107360839844),\n",
       " (-122.5870132446289, 47.334110260009766),\n",
       " (-122.55191802978516, 47.283512115478516),\n",
       " (-122.57929229736328, 47.25156784057617),\n",
       " (-122.61030578613281, 47.2935791015625),\n",
       " (-122.60567474365234, 47.270751953125),\n",
       " (-122.69850158691406, 47.292266845703125),\n",
       " (-122.62751007080078, 47.39873504638672),\n",
       " (-122.63619232177734, 47.39876174926758),\n",
       " (-122.74030303955078, 47.34163284301758),\n",
       " (-122.76846313476562, 47.26633834838867),\n",
       " (-122.71855926513672, 47.22331237792969),\n",
       " (-122.75999450683594, 47.16267776489258),\n",
       " (-122.82386016845703, 47.235008239746094),\n",
       " (-122.77208709716797, 47.33754348754883),\n",
       " (-122.80093383789062, 47.360923767089844),\n",
       " (-122.87911987304688, 47.299415588378906),\n",
       " (-123.11417388916016, 47.20816421508789),\n",
       " (-123.07994079589844, 47.090240478515625),\n",
       " (-123.03009033203125, 47.100955963134766),\n",
       " (-122.9218978881836, 47.04814529418945),\n",
       " (-122.78880310058594, 47.126041412353516),\n",
       " (-122.72694396972656, 47.08262252807617),\n",
       " (-122.69883728027344, 47.098506927490234),\n",
       " (-122.59056854248047, 47.180240631103516),\n",
       " (-122.52952575683594, 47.287635803222656),\n",
       " (-122.54534912109375, 47.31645584106445),\n",
       " (-122.42285919189453, 47.25965118408203),\n",
       " (-122.39160919189453, 47.27790069580078),\n",
       " (-122.44036865234375, 47.30130386352539),\n",
       " (-122.41960144042969, 47.31902313232422),\n",
       " (-122.32414245605469, 47.34450149536133),\n",
       " (-122.3185043334961, 47.39029312133789),\n",
       " (-122.39139556884766, 47.51042175292969),\n",
       " (-122.3809814453125, 47.59558868408203),\n",
       " (-122.41357421875, 47.66436004638672),\n",
       " (-122.39324951171875, 47.774356842041016),\n",
       " (-122.30167388916016, 47.95039749145508),\n",
       " (-122.22887420654297, 47.969295501708984),\n",
       " (-122.21574401855469, 48.00762176513672),\n",
       " (-122.36707305908203, 48.12832260131836),\n",
       " (-122.40074920654297, 48.22539520263672),\n",
       " (-122.96669006347656, 48.443973541259766),\n",
       " (-123.09394073486328, 48.4796028137207),\n",
       " (-123.1584243774414, 48.52202224731445),\n",
       " (-123.1686019897461, 48.562744140625),\n",
       " (-123.13975524902344, 48.62382507324219),\n",
       " (-123.10242462158203, 48.60855484008789),\n",
       " (-123.01080322265625, 48.557655334472656),\n",
       " (-123.00740814208984, 48.533897399902344),\n",
       " (-122.96669006347656, 48.5271110534668),\n",
       " (-123.02098083496094, 48.5135383605957),\n",
       " (-123.01759338378906, 48.489784240722656),\n",
       " (-122.96669006347656, 48.443973541259766),\n",
       " (-122.73190307617188, 48.276824951171875),\n",
       " (-122.6643295288086, 48.39695358276367),\n",
       " (-122.60310363769531, 48.404964447021484),\n",
       " (-122.52447509765625, 48.32122039794922),\n",
       " (-122.52737426757812, 48.283687591552734),\n",
       " (-122.62223052978516, 48.29652786254883),\n",
       " (-122.73075103759766, 48.22559356689453),\n",
       " (-122.60964965820312, 48.20650100708008),\n",
       " (-122.54493713378906, 48.07704162597656),\n",
       " (-122.49494934082031, 48.09425354003906),\n",
       " (-122.37873840332031, 48.03232955932617),\n",
       " (-122.3541488647461, 47.96406936645508),\n",
       " (-122.38571166992188, 47.90473175048828),\n",
       " (-122.44153594970703, 47.91823959350586),\n",
       " (-122.4703598022461, 47.987693786621094),\n",
       " (-122.543701171875, 47.967716217041016),\n",
       " (-122.60736083984375, 48.0316162109375),\n",
       " (-122.69427490234375, 48.181365966796875),\n",
       " (-122.76749420166016, 48.218997955322266),\n",
       " (-122.73190307617188, 48.276824951171875)]"
      ]
     },
     "execution_count": 27,
     "metadata": {},
     "output_type": "execute_result"
    }
   ],
   "source": [
    "us[0].vertices"
   ]
  },
  {
   "cell_type": "code",
   "execution_count": 28,
   "metadata": {},
   "outputs": [
    {
     "data": {
      "text/plain": [
       "(-120.42689103452584, 47.376901373520255)"
      ]
     },
     "execution_count": 28,
     "metadata": {},
     "output_type": "execute_result"
    }
   ],
   "source": [
    "us[0].centroid"
   ]
  },
  {
   "cell_type": "code",
   "execution_count": 29,
   "metadata": {},
   "outputs": [
    {
     "name": "stdout",
     "output_type": "stream",
     "text": [
      "Left: -124.7314224243164\n",
      "Right: -116.91815185546875\n",
      "Upper: 49.000003814697266\n",
      "Lower: 45.543251037597656\n"
     ]
    }
   ],
   "source": [
    "print(\"Left: \" + str(us[0].bounding_box.left))\n",
    "print(\"Right: \" + str(us[0].bounding_box.right))\n",
    "print(\"Upper: \" + str(us[0].bounding_box.upper))\n",
    "print(\"Lower: \" + str(us[0].bounding_box.lower))"
   ]
  },
  {
   "cell_type": "code",
   "execution_count": 30,
   "metadata": {},
   "outputs": [
    {
     "data": {
      "text/plain": [
       "7.813270568847656"
      ]
     },
     "execution_count": 30,
     "metadata": {},
     "output_type": "execute_result"
    }
   ],
   "source": [
    "us[0].bounding_box.right - us[0].bounding_box.left"
   ]
  },
  {
   "cell_type": "code",
   "execution_count": 31,
   "metadata": {},
   "outputs": [
    {
     "data": {
      "text/plain": [
       "3.4567527770996094"
      ]
     },
     "execution_count": 31,
     "metadata": {},
     "output_type": "execute_result"
    }
   ],
   "source": [
    "us[0].bounding_box.upper - us[0].bounding_box.lower"
   ]
  },
  {
   "cell_type": "code",
   "execution_count": 32,
   "metadata": {},
   "outputs": [
    {
     "data": {
      "text/plain": [
       "27.00854473709478"
      ]
     },
     "execution_count": 32,
     "metadata": {},
     "output_type": "execute_result"
    }
   ],
   "source": [
    "(us[0].bounding_box.right - us[0].bounding_box.left) * (us[0].bounding_box.upper - us[0].bounding_box.lower)"
   ]
  },
  {
   "cell_type": "code",
   "execution_count": 33,
   "metadata": {
    "scrolled": true
   },
   "outputs": [
    {
     "data": {
      "text/plain": [
       "20.74983112933114"
      ]
     },
     "execution_count": 33,
     "metadata": {},
     "output_type": "execute_result"
    }
   ],
   "source": [
    "us[0].area"
   ]
  },
  {
   "cell_type": "code",
   "execution_count": 34,
   "metadata": {},
   "outputs": [
    {
     "data": {
      "text/plain": [
       "True"
      ]
     },
     "execution_count": 34,
     "metadata": {},
     "output_type": "execute_result"
    }
   ],
   "source": [
    "us[0].contains_point((-120, 47))"
   ]
  },
  {
   "cell_type": "code",
   "execution_count": 35,
   "metadata": {},
   "outputs": [
    {
     "data": {
      "text/plain": [
       "False"
      ]
     },
     "execution_count": 35,
     "metadata": {},
     "output_type": "execute_result"
    }
   ],
   "source": [
    "us[0].contains_point((-120, 57))"
   ]
  },
  {
   "cell_type": "markdown",
   "metadata": {},
   "source": [
    "#### Thanks to Tucker Allen (DSI-US-3 grad from NYC) for the following code allowing you to visualize states by their vertices of the shapefile:"
   ]
  },
  {
   "cell_type": "code",
   "execution_count": 36,
   "metadata": {},
   "outputs": [
    {
     "data": {
      "text/plain": [
       "(24.95596694946289, 49.371734619140625)"
      ]
     },
     "execution_count": 36,
     "metadata": {},
     "output_type": "execute_result"
    },
    {
     "data": {
      "image/png": "[encoded data removed]",
      "text/plain": [
       "<Figure size 720x432 with 1 Axes>"
      ]
     },
     "metadata": {
      "needs_background": "light"
     },
     "output_type": "display_data"
    }
   ],
   "source": [
    "x = []\n",
    "y = []\n",
    "for i in us[0].vertices: # Change index of us (0-47) to see vertices' points\n",
    "    x.append(i[0])\n",
    "    y.append(i[1])\n",
    "fig, ax = matplotlib.pyplot.subplots(figsize=(10,6))\n",
    "matplotlib.pyplot.scatter(x, y)\n",
    "matplotlib.pyplot.xlim(us.header['BBOX Xmin'] , us.header['BBOX Xmax']) # limits of U.S.\n",
    "matplotlib.pyplot.ylim(us.header['BBOX Ymin'] , us.header['BBOX Ymax']) # limits of U.S."
   ]
  },
  {
   "cell_type": "code",
   "execution_count": 37,
   "metadata": {},
   "outputs": [
    {
     "data": {
      "text/plain": [
       "(24.95596694946289, 49.371734619140625)"
      ]
     },
     "execution_count": 37,
     "metadata": {},
     "output_type": "execute_result"
    },
    {
     "data": {
      "image/png": "[encoded data removed]",
      "text/plain": [
       "<Figure size 720x432 with 1 Axes>"
      ]
     },
     "metadata": {
      "needs_background": "light"
     },
     "output_type": "display_data"
    }
   ],
   "source": [
    "x = []\n",
    "y = []\n",
    "for i in us[24].vertices: # Change index of us (0-47) to see vertices' points\n",
    "    x.append(i[0])\n",
    "    y.append(i[1])\n",
    "fig, ax = matplotlib.pyplot.subplots(figsize=(10,6))\n",
    "matplotlib.pyplot.scatter(x, y)\n",
    "matplotlib.pyplot.xlim(us.header['BBOX Xmin'] , us.header['BBOX Xmax']) # limits of U.S.\n",
    "matplotlib.pyplot.ylim(us.header['BBOX Ymin'] , us.header['BBOX Ymax']) # limits of U.S."
   ]
  },
  {
   "cell_type": "code",
   "execution_count": 38,
   "metadata": {
    "scrolled": true
   },
   "outputs": [
    {
     "data": {
      "text/plain": [
       "(24.95596694946289, 49.371734619140625)"
      ]
     },
     "execution_count": 38,
     "metadata": {},
     "output_type": "execute_result"
    },
    {
     "data": {
      "image/png": "[encoded data removed]",
      "text/plain": [
       "<Figure size 720x432 with 1 Axes>"
      ]
     },
     "metadata": {
      "needs_background": "light"
     },
     "output_type": "display_data"
    }
   ],
   "source": [
    "x = []\n",
    "y = []\n",
    "for i in us[39].vertices: # Change index of us (0-47) to see vertices points\n",
    "    x.append(i[0])\n",
    "    y.append(i[1])\n",
    "fig, ax = matplotlib.pyplot.subplots(figsize=(10,6))\n",
    "matplotlib.pyplot.scatter(x, y)\n",
    "matplotlib.pyplot.xlim(us.header['BBOX Xmin'] , us.header['BBOX Xmax']) # limits of U.S.\n",
    "matplotlib.pyplot.ylim(us.header['BBOX Ymin'] , us.header['BBOX Ymax']) # limits of U.S."
   ]
  },
  {
   "cell_type": "markdown",
   "metadata": {},
   "source": [
    "#### Let's read in weights and see what they look like.\n",
    "\n",
    "> Weights will often be given to you, but sometimes you may need to specify weights. Below, we'll see how a tuple and dictionary are used to store the weights. The first value in the tuple refers to the specific observation/area; the second value in the tuple provides the dictionary of connected areas and the associated weights."
   ]
  },
  {
   "cell_type": "code",
   "execution_count": 39,
   "metadata": {},
   "outputs": [],
   "source": [
    "w = pysal.lib.io.open('../us48_data/states48.gal').read()"
   ]
  },
  {
   "cell_type": "code",
   "execution_count": 40,
   "metadata": {},
   "outputs": [
    {
     "data": {
      "text/plain": [
       "<pysal.lib.weights.weights.W at 0xf156ac2d30>"
      ]
     },
     "execution_count": 40,
     "metadata": {},
     "output_type": "execute_result"
    }
   ],
   "source": [
    "w"
   ]
  },
  {
   "cell_type": "code",
   "execution_count": 41,
   "metadata": {
    "scrolled": false
   },
   "outputs": [
    {
     "name": "stdout",
     "output_type": "stream",
     "text": [
      "('0', {'7': 1.0, '8': 1.0, '21': 1.0, '39': 1.0})\n",
      "('1', {'3': 1.0, '4': 1.0, '25': 1.0, '28': 1.0, '41': 1.0})\n",
      "('2', {'15': 1.0, '21': 1.0, '22': 1.0, '33': 1.0, '39': 1.0, '40': 1.0})\n",
      "('3', {'1': 1.0, '25': 1.0, '34': 1.0})\n",
      "('4', {'1': 1.0, '13': 1.0, '24': 1.0, '28': 1.0, '33': 1.0, '41': 1.0, '47': 1.0})\n",
      "('5', {'18': 1.0, '29': 1.0, '36': 1.0})\n",
      "('6', {'17': 1.0, '27': 1.0, '35': 1.0})\n",
      "('7', {'0': 1.0, '8': 1.0})\n",
      "('8', {'0': 1.0, '7': 1.0, '30': 1.0, '37': 1.0, '39': 1.0})\n",
      "('9', {'23': 1.0, '25': 1.0, '34': 1.0, '41': 1.0, '44': 1.0, '47': 1.0})\n",
      "('10', {'11': 1.0, '12': 1.0, '14': 1.0, '22': 1.0, '46': 1.0})\n",
      "('11', {'10': 1.0, '14': 1.0, '19': 1.0, '32': 1.0})\n",
      "('12', {'10': 1.0, '20': 1.0, '22': 1.0, '24': 1.0, '38': 1.0, '46': 1.0})\n",
      "('13', {'4': 1.0, '22': 1.0, '24': 1.0, '33': 1.0})\n",
      "('14', {'10': 1.0, '11': 1.0, '22': 1.0, '32': 1.0, '39': 1.0, '43': 1.0, '45': 1.0})\n",
      "('15', {'2': 1.0, '21': 1.0, '40': 1.0})\n",
      "('16', {'26': 1.0})\n",
      "('17', {'6': 1.0, '35': 1.0, '43': 1.0, '45': 1.0})\n",
      "('18', {'5': 1.0, '26': 1.0, '29': 1.0, '36': 1.0, '42': 1.0})\n",
      "('19', {'11': 1.0, '32': 1.0, '46': 1.0})\n",
      "('20', {'12': 1.0, '31': 1.0, '38': 1.0, '46': 1.0})\n",
      "('21', {'0': 1.0, '2': 1.0, '15': 1.0, '39': 1.0})\n",
      "('22', {'2': 1.0, '10': 1.0, '12': 1.0, '13': 1.0, '14': 1.0, '24': 1.0, '33': 1.0, '39': 1.0})\n",
      "('23', {'9': 1.0, '31': 1.0, '38': 1.0, '47': 1.0})\n",
      "('24', {'4': 1.0, '12': 1.0, '13': 1.0, '22': 1.0, '38': 1.0, '47': 1.0})\n",
      "('25', {'1': 1.0, '3': 1.0, '9': 1.0, '34': 1.0, '41': 1.0})\n",
      "('26', {'16': 1.0, '18': 1.0, '42': 1.0})\n",
      "('27', {'6': 1.0, '29': 1.0, '35': 1.0})\n",
      "('28', {'1': 1.0, '4': 1.0, '33': 1.0, '40': 1.0, '41': 1.0})\n",
      "('29', {'5': 1.0, '18': 1.0, '27': 1.0, '35': 1.0, '42': 1.0})\n",
      "('30', {'8': 1.0, '37': 1.0, '39': 1.0, '43': 1.0})\n",
      "('31', {'20': 1.0, '23': 1.0, '38': 1.0})\n",
      "('32', {'11': 1.0, '14': 1.0, '19': 1.0, '35': 1.0, '45': 1.0})\n",
      "('33', {'2': 1.0, '4': 1.0, '13': 1.0, '22': 1.0, '28': 1.0, '40': 1.0})\n",
      "('34', {'3': 1.0, '9': 1.0, '25': 1.0, '44': 1.0})\n",
      "('35', {'6': 1.0, '17': 1.0, '27': 1.0, '29': 1.0, '32': 1.0, '45': 1.0})\n",
      "('36', {'5': 1.0, '18': 1.0})\n",
      "('37', {'8': 1.0, '30': 1.0})\n",
      "('38', {'12': 1.0, '20': 1.0, '23': 1.0, '24': 1.0, '31': 1.0, '47': 1.0})\n",
      "('39', {'0': 1.0, '2': 1.0, '8': 1.0, '14': 1.0, '21': 1.0, '22': 1.0, '30': 1.0, '43': 1.0})\n",
      "('40', {'2': 1.0, '15': 1.0, '28': 1.0, '33': 1.0})\n",
      "('41', {'1': 1.0, '4': 1.0, '9': 1.0, '25': 1.0, '28': 1.0, '47': 1.0})\n",
      "('42', {'18': 1.0, '26': 1.0, '29': 1.0})\n",
      "('43', {'14': 1.0, '17': 1.0, '30': 1.0, '39': 1.0, '45': 1.0})\n",
      "('44', {'9': 1.0, '34': 1.0})\n",
      "('45', {'14': 1.0, '17': 1.0, '32': 1.0, '35': 1.0, '43': 1.0})\n",
      "('46', {'10': 1.0, '12': 1.0, '19': 1.0, '20': 1.0})\n",
      "('47', {'4': 1.0, '9': 1.0, '23': 1.0, '24': 1.0, '38': 1.0, '41': 1.0})\n"
     ]
    }
   ],
   "source": [
    "for i in w:\n",
    "    print(i)"
   ]
  },
  {
   "cell_type": "markdown",
   "metadata": {},
   "source": [
    "#### We detect if spatial dependence exists using Moran's I, a permutation test."
   ]
  },
  {
   "cell_type": "code",
   "execution_count": 42,
   "metadata": {},
   "outputs": [],
   "source": [
    "import pysal.explore"
   ]
  },
  {
   "cell_type": "code",
   "execution_count": 43,
   "metadata": {},
   "outputs": [],
   "source": [
    "y = np.array(pysal.lib.io.open('../us48_data/usjoin.csv').by_col('2009'))"
   ]
  },
  {
   "cell_type": "code",
   "execution_count": 44,
   "metadata": {},
   "outputs": [],
   "source": [
    "moran_i = pysal.explore.esda.Moran(y,\n",
    "                                   w,\n",
    "                                   two_tailed = True,\n",
    "                                   permutations = 1000)"
   ]
  },
  {
   "cell_type": "code",
   "execution_count": 45,
   "metadata": {},
   "outputs": [
    {
     "data": {
      "text/plain": [
       "0.4287689505041785"
      ]
     },
     "execution_count": 45,
     "metadata": {},
     "output_type": "execute_result"
    }
   ],
   "source": [
    "moran_i.I # observed Moran's I statistic"
   ]
  },
  {
   "cell_type": "markdown",
   "metadata": {},
   "source": [
    "Remember that -1 indicates a perfect negative relationship (chessboard) and +1 indicates perfect positive spatial relationship (two sides that were perfectly aligned color-wise)."
   ]
  },
  {
   "cell_type": "code",
   "execution_count": 46,
   "metadata": {},
   "outputs": [
    {
     "data": {
      "text/plain": [
       "4.758048389432108"
      ]
     },
     "execution_count": 46,
     "metadata": {},
     "output_type": "execute_result"
    }
   ],
   "source": [
    "moran_i.z_sim # z-score"
   ]
  },
  {
   "cell_type": "code",
   "execution_count": 47,
   "metadata": {},
   "outputs": [
    {
     "data": {
      "text/plain": [
       "0.000999000999000999"
      ]
     },
     "execution_count": 47,
     "metadata": {},
     "output_type": "execute_result"
    }
   ],
   "source": [
    "moran_i.p_sim # p-value"
   ]
  },
  {
   "cell_type": "markdown",
   "metadata": {},
   "source": [
    "Given our small $p$-value, we reject $H_0$ of no spatial association! Thus, **there is significant evidence to suggest that there is some spatial relationship in this 2009 median income data**.\n",
    "> Note that we're not saying that the only influence on income is spatial. (That would be silly.) We're simply saying that, in looking at how our data are spatially organized, there appears to be some effect of space on median income in 2009."
   ]
  },
  {
   "cell_type": "markdown",
   "metadata": {},
   "source": [
    "#### Let's build a model taking space into account!"
   ]
  },
  {
   "cell_type": "code",
   "execution_count": 48,
   "metadata": {},
   "outputs": [
    {
     "data": {
      "text/plain": [
       "array([32274, 32077, 31493, 40902, 40093, 52736, 40135, 36565, 33086,\n",
       "       30987, 40933, 33174, 35983, 37036, 31250, 35151, 35268, 47159,\n",
       "       49590, 34280, 40920, 29318, 35106, 32699, 37057, 38009, 41882,\n",
       "       48123, 32197, 46844, 33564, 38672, 35018, 33708, 35210, 38827,\n",
       "       41283, 30835, 36499, 33512, 35674, 30107, 36752, 43211, 40619,\n",
       "       31843, 35676, 42504])"
      ]
     },
     "execution_count": 48,
     "metadata": {},
     "output_type": "execute_result"
    }
   ],
   "source": [
    "y"
   ]
  },
  {
   "cell_type": "code",
   "execution_count": 49,
   "metadata": {},
   "outputs": [],
   "source": [
    "X = np.array(pysal.lib.io.open('../us48_data/usjoin.csv').by_col('2008'))"
   ]
  },
  {
   "cell_type": "code",
   "execution_count": 50,
   "metadata": {},
   "outputs": [],
   "source": [
    "X = sm.add_constant(X)"
   ]
  },
  {
   "cell_type": "code",
   "execution_count": 51,
   "metadata": {},
   "outputs": [
    {
     "data": {
      "text/plain": [
       "array([[1.0000e+00, 3.2819e+04],\n",
       "       [1.0000e+00, 3.3445e+04],\n",
       "       [1.0000e+00, 3.1800e+04],\n",
       "       [1.0000e+00, 4.2377e+04],\n",
       "       [1.0000e+00, 4.1719e+04],\n",
       "       [1.0000e+00, 5.4528e+04],\n",
       "       [1.0000e+00, 4.0698e+04],\n",
       "       [1.0000e+00, 3.7808e+04],\n",
       "       [1.0000e+00, 3.4127e+04],\n",
       "       [1.0000e+00, 3.2322e+04],\n",
       "       [1.0000e+00, 4.2049e+04],\n",
       "       [1.0000e+00, 3.3978e+04],\n",
       "       [1.0000e+00, 3.6726e+04],\n",
       "       [1.0000e+00, 3.7983e+04],\n",
       "       [1.0000e+00, 3.1302e+04],\n",
       "       [1.0000e+00, 3.5730e+04],\n",
       "       [1.0000e+00, 3.4906e+04],\n",
       "       [1.0000e+00, 4.7040e+04],\n",
       "       [1.0000e+00, 5.0607e+04],\n",
       "       [1.0000e+00, 3.5215e+04],\n",
       "       [1.0000e+00, 4.2299e+04],\n",
       "       [1.0000e+00, 2.9591e+04],\n",
       "       [1.0000e+00, 3.5775e+04],\n",
       "       [1.0000e+00, 3.3293e+04],\n",
       "       [1.0000e+00, 3.8128e+04],\n",
       "       [1.0000e+00, 4.0332e+04],\n",
       "       [1.0000e+00, 4.2461e+04],\n",
       "       [1.0000e+00, 4.9233e+04],\n",
       "       [1.0000e+00, 3.2585e+04],\n",
       "       [1.0000e+00, 4.8692e+04],\n",
       "       [1.0000e+00, 3.4340e+04],\n",
       "       [1.0000e+00, 3.9009e+04],\n",
       "       [1.0000e+00, 3.5521e+04],\n",
       "       [1.0000e+00, 3.4378e+04],\n",
       "       [1.0000e+00, 3.5899e+04],\n",
       "       [1.0000e+00, 3.9008e+04],\n",
       "       [1.0000e+00, 4.1542e+04],\n",
       "       [1.0000e+00, 3.1510e+04],\n",
       "       [1.0000e+00, 3.8188e+04],\n",
       "       [1.0000e+00, 3.4243e+04],\n",
       "       [1.0000e+00, 3.6969e+04],\n",
       "       [1.0000e+00, 3.1253e+04],\n",
       "       [1.0000e+00, 3.6940e+04],\n",
       "       [1.0000e+00, 4.3409e+04],\n",
       "       [1.0000e+00, 4.1588e+04],\n",
       "       [1.0000e+00, 3.1265e+04],\n",
       "       [1.0000e+00, 3.6594e+04],\n",
       "       [1.0000e+00, 4.5177e+04]])"
      ]
     },
     "execution_count": 51,
     "metadata": {},
     "output_type": "execute_result"
    }
   ],
   "source": [
    "X"
   ]
  },
  {
   "cell_type": "code",
   "execution_count": 52,
   "metadata": {},
   "outputs": [],
   "source": [
    "non_spatial_lm = sm.OLS(y, X).fit()"
   ]
  },
  {
   "cell_type": "code",
   "execution_count": 53,
   "metadata": {},
   "outputs": [
    {
     "data": {
      "text/html": [
       "<table class=\"simpletable\">\n",
       "<caption>OLS Regression Results</caption>\n",
       "<tr>\n",
       "  <th>Dep. Variable:</th>            <td>y</td>        <th>  R-squared:         </th> <td>   0.988</td>\n",
       "</tr>\n",
       "<tr>\n",
       "  <th>Model:</th>                   <td>OLS</td>       <th>  Adj. R-squared:    </th> <td>   0.988</td>\n",
       "</tr>\n",
       "<tr>\n",
       "  <th>Method:</th>             <td>Least Squares</td>  <th>  F-statistic:       </th> <td>   3939.</td>\n",
       "</tr>\n",
       "<tr>\n",
       "  <th>Date:</th>             <td>Thu, 27 May 2021</td> <th>  Prob (F-statistic):</th> <td>3.20e-46</td>\n",
       "</tr>\n",
       "<tr>\n",
       "  <th>Time:</th>                 <td>15:45:24</td>     <th>  Log-Likelihood:    </th> <td> -373.17</td>\n",
       "</tr>\n",
       "<tr>\n",
       "  <th>No. Observations:</th>      <td>    48</td>      <th>  AIC:               </th> <td>   750.3</td>\n",
       "</tr>\n",
       "<tr>\n",
       "  <th>Df Residuals:</th>          <td>    46</td>      <th>  BIC:               </th> <td>   754.1</td>\n",
       "</tr>\n",
       "<tr>\n",
       "  <th>Df Model:</th>              <td>     1</td>      <th>                     </th>     <td> </td>   \n",
       "</tr>\n",
       "<tr>\n",
       "  <th>Covariance Type:</th>      <td>nonrobust</td>    <th>                     </th>     <td> </td>   \n",
       "</tr>\n",
       "</table>\n",
       "<table class=\"simpletable\">\n",
       "<tr>\n",
       "    <td></td>       <th>coef</th>     <th>std err</th>      <th>t</th>      <th>P>|t|</th>  <th>[0.025</th>    <th>0.975]</th>  \n",
       "</tr>\n",
       "<tr>\n",
       "  <th>const</th> <td>  910.7424</td> <td>  584.517</td> <td>    1.558</td> <td> 0.126</td> <td> -265.829</td> <td> 2087.314</td>\n",
       "</tr>\n",
       "<tr>\n",
       "  <th>x1</th>    <td>    0.9539</td> <td>    0.015</td> <td>   62.758</td> <td> 0.000</td> <td>    0.923</td> <td>    0.984</td>\n",
       "</tr>\n",
       "</table>\n",
       "<table class=\"simpletable\">\n",
       "<tr>\n",
       "  <th>Omnibus:</th>       <td> 1.239</td> <th>  Durbin-Watson:     </th> <td>   1.408</td>\n",
       "</tr>\n",
       "<tr>\n",
       "  <th>Prob(Omnibus):</th> <td> 0.538</td> <th>  Jarque-Bera (JB):  </th> <td>   0.497</td>\n",
       "</tr>\n",
       "<tr>\n",
       "  <th>Skew:</th>          <td>-0.098</td> <th>  Prob(JB):          </th> <td>   0.780</td>\n",
       "</tr>\n",
       "<tr>\n",
       "  <th>Kurtosis:</th>      <td> 3.459</td> <th>  Cond. No.          </th> <td>2.65e+05</td>\n",
       "</tr>\n",
       "</table><br/><br/>Notes:<br/>[1] Standard Errors assume that the covariance matrix of the errors is correctly specified.<br/>[2] The condition number is large, 2.65e+05. This might indicate that there are<br/>strong multicollinearity or other numerical problems."
      ],
      "text/plain": [
       "<class 'statsmodels.iolib.summary.Summary'>\n",
       "\"\"\"\n",
       "                            OLS Regression Results                            \n",
       "==============================================================================\n",
       "Dep. Variable:                      y   R-squared:                       0.988\n",
       "Model:                            OLS   Adj. R-squared:                  0.988\n",
       "Method:                 Least Squares   F-statistic:                     3939.\n",
       "Date:                Thu, 27 May 2021   Prob (F-statistic):           3.20e-46\n",
       "Time:                        15:45:24   Log-Likelihood:                -373.17\n",
       "No. Observations:                  48   AIC:                             750.3\n",
       "Df Residuals:                      46   BIC:                             754.1\n",
       "Df Model:                           1                                         \n",
       "Covariance Type:            nonrobust                                         \n",
       "==============================================================================\n",
       "                 coef    std err          t      P>|t|      [0.025      0.975]\n",
       "------------------------------------------------------------------------------\n",
       "const        910.7424    584.517      1.558      0.126    -265.829    2087.314\n",
       "x1             0.9539      0.015     62.758      0.000       0.923       0.984\n",
       "==============================================================================\n",
       "Omnibus:                        1.239   Durbin-Watson:                   1.408\n",
       "Prob(Omnibus):                  0.538   Jarque-Bera (JB):                0.497\n",
       "Skew:                          -0.098   Prob(JB):                        0.780\n",
       "Kurtosis:                       3.459   Cond. No.                     2.65e+05\n",
       "==============================================================================\n",
       "\n",
       "Notes:\n",
       "[1] Standard Errors assume that the covariance matrix of the errors is correctly specified.\n",
       "[2] The condition number is large, 2.65e+05. This might indicate that there are\n",
       "strong multicollinearity or other numerical problems.\n",
       "\"\"\""
      ]
     },
     "execution_count": 53,
     "metadata": {},
     "output_type": "execute_result"
    }
   ],
   "source": [
    "non_spatial_lm.summary()"
   ]
  },
  {
   "cell_type": "code",
   "execution_count": 54,
   "metadata": {},
   "outputs": [],
   "source": [
    "X = np.array(pysal.lib.io.open('../us48_data/usjoin.csv').by_col('2008'))"
   ]
  },
  {
   "cell_type": "code",
   "execution_count": 55,
   "metadata": {},
   "outputs": [],
   "source": [
    "y.resize(len(y), 1)"
   ]
  },
  {
   "cell_type": "code",
   "execution_count": 56,
   "metadata": {},
   "outputs": [],
   "source": [
    "X.resize(len(X), 1)"
   ]
  },
  {
   "cell_type": "code",
   "execution_count": 57,
   "metadata": {},
   "outputs": [
    {
     "data": {
      "text/plain": [
       "((48, 1), (48, 1))"
      ]
     },
     "execution_count": 57,
     "metadata": {},
     "output_type": "execute_result"
    }
   ],
   "source": [
    "y.shape, X.shape"
   ]
  },
  {
   "cell_type": "code",
   "execution_count": 58,
   "metadata": {},
   "outputs": [],
   "source": [
    "import pysal.model.spreg"
   ]
  },
  {
   "cell_type": "code",
   "execution_count": 59,
   "metadata": {},
   "outputs": [],
   "source": [
    "spatial_lm = pysal.model.spreg.OLS(y, X, w = None)"
   ]
  },
  {
   "cell_type": "code",
   "execution_count": 60,
   "metadata": {},
   "outputs": [
    {
     "name": "stdout",
     "output_type": "stream",
     "text": [
      "REGRESSION\n",
      "----------\n",
      "SUMMARY OF OUTPUT: ORDINARY LEAST SQUARES\n",
      "-----------------------------------------\n",
      "Data set            :     unknown\n",
      "Weights matrix      :        None\n",
      "Dependent Variable  :     dep_var                Number of Observations:          48\n",
      "Mean dependent var  :  37205.0208                Number of Variables   :           2\n",
      "S.D. dependent var  :   5414.4485                Degrees of Freedom    :          46\n",
      "R-squared           :      0.9885\n",
      "Adjusted R-squared  :      0.9882\n",
      "Sum squared residual:15906822.633                F-statistic           :   3938.5630\n",
      "Sigma-square        :  345800.492                Prob(F-statistic)     :   3.201e-46\n",
      "S.E. of regression  :     588.048                Log likelihood        :    -373.174\n",
      "Sigma-square ML     :  331392.138                Akaike info criterion :     750.349\n",
      "S.E of regression ML:    575.6667                Schwarz criterion     :     754.091\n",
      "\n",
      "------------------------------------------------------------------------------------\n",
      "            Variable     Coefficient       Std.Error     t-Statistic     Probability\n",
      "------------------------------------------------------------------------------------\n",
      "            CONSTANT     910.7424306     584.5167426       1.5581118       0.1260609\n",
      "               var_1       0.9538570       0.0151990      62.7579720       0.0000000\n",
      "------------------------------------------------------------------------------------\n",
      "\n",
      "REGRESSION DIAGNOSTICS\n",
      "MULTICOLLINEARITY CONDITION NUMBER           13.700\n",
      "\n",
      "TEST ON NORMALITY OF ERRORS\n",
      "TEST                             DF        VALUE           PROB\n",
      "Jarque-Bera                       2           0.497           0.7799\n",
      "\n",
      "DIAGNOSTICS FOR HETEROSKEDASTICITY\n",
      "RANDOM COEFFICIENTS\n",
      "TEST                             DF        VALUE           PROB\n",
      "Breusch-Pagan test                1           2.494           0.1143\n",
      "Koenker-Bassett test              1           2.029           0.1543\n",
      "================================ END OF REPORT =====================================\n"
     ]
    }
   ],
   "source": [
    "print(spatial_lm.summary)"
   ]
  },
  {
   "cell_type": "code",
   "execution_count": 61,
   "metadata": {},
   "outputs": [],
   "source": [
    "spatial_lm_weights = pysal.model.spreg.OLS(y,\n",
    "                                  X,\n",
    "                                  w = w,\n",
    "                                  spat_diag = True,\n",
    "                                  moran = True)"
   ]
  },
  {
   "cell_type": "code",
   "execution_count": 62,
   "metadata": {},
   "outputs": [
    {
     "name": "stdout",
     "output_type": "stream",
     "text": [
      "REGRESSION\n",
      "----------\n",
      "SUMMARY OF OUTPUT: ORDINARY LEAST SQUARES\n",
      "-----------------------------------------\n",
      "Data set            :     unknown\n",
      "Weights matrix      :     unknown\n",
      "Dependent Variable  :     dep_var                Number of Observations:          48\n",
      "Mean dependent var  :  37205.0208                Number of Variables   :           2\n",
      "S.D. dependent var  :   5414.4485                Degrees of Freedom    :          46\n",
      "R-squared           :      0.9885\n",
      "Adjusted R-squared  :      0.9882\n",
      "Sum squared residual:15906822.633                F-statistic           :   3938.5630\n",
      "Sigma-square        :  345800.492                Prob(F-statistic)     :   3.201e-46\n",
      "S.E. of regression  :     588.048                Log likelihood        :    -373.174\n",
      "Sigma-square ML     :  331392.138                Akaike info criterion :     750.349\n",
      "S.E of regression ML:    575.6667                Schwarz criterion     :     754.091\n",
      "\n",
      "------------------------------------------------------------------------------------\n",
      "            Variable     Coefficient       Std.Error     t-Statistic     Probability\n",
      "------------------------------------------------------------------------------------\n",
      "            CONSTANT     910.7424306     584.5167426       1.5581118       0.1260609\n",
      "               var_1       0.9538570       0.0151990      62.7579720       0.0000000\n",
      "------------------------------------------------------------------------------------\n",
      "\n",
      "REGRESSION DIAGNOSTICS\n",
      "MULTICOLLINEARITY CONDITION NUMBER           13.700\n",
      "\n",
      "TEST ON NORMALITY OF ERRORS\n",
      "TEST                             DF        VALUE           PROB\n",
      "Jarque-Bera                       2           0.497           0.7799\n",
      "\n",
      "DIAGNOSTICS FOR HETEROSKEDASTICITY\n",
      "RANDOM COEFFICIENTS\n",
      "TEST                             DF        VALUE           PROB\n",
      "Breusch-Pagan test                1           2.494           0.1143\n",
      "Koenker-Bassett test              1           2.029           0.1543\n",
      "\n",
      "DIAGNOSTICS FOR SPATIAL DEPENDENCE\n",
      "TEST                           MI/DF       VALUE           PROB\n",
      "Moran's I (error)              0.4720         5.277           0.0000\n",
      "Lagrange Multiplier (lag)         1           9.452           0.0021\n",
      "Robust LM (lag)                   1           6.550           0.0105\n",
      "Lagrange Multiplier (error)       1          21.440           0.0000\n",
      "Robust LM (error)                 1          18.539           0.0000\n",
      "Lagrange Multiplier (SARMA)       2          27.990           0.0000\n",
      "\n",
      "================================ END OF REPORT =====================================\n"
     ]
    }
   ],
   "source": [
    "print(spatial_lm_weights.summary)"
   ]
  },
  {
   "cell_type": "code",
   "execution_count": 63,
   "metadata": {},
   "outputs": [
    {
     "ename": "TypeError",
     "evalue": "No loop matching the specified signature and casting was found for ufunc add",
     "output_type": "error",
     "traceback": [
      "\u001b[1;31m---------------------------------------------------------------------------\u001b[0m",
      "\u001b[1;31mTypeError\u001b[0m                                 Traceback (most recent call last)",
      "\u001b[1;32m<ipython-input-63-63a586bd6426>\u001b[0m in \u001b[0;36m<module>\u001b[1;34m\u001b[0m\n\u001b[1;32m----> 1\u001b[1;33m \u001b[0mspatial_lm_weights\u001b[0m \u001b[1;33m=\u001b[0m \u001b[0mpysal\u001b[0m\u001b[1;33m.\u001b[0m\u001b[0mmodel\u001b[0m\u001b[1;33m.\u001b[0m\u001b[0mspreg\u001b[0m\u001b[1;33m.\u001b[0m\u001b[0mGM_Lag\u001b[0m\u001b[1;33m(\u001b[0m\u001b[0my\u001b[0m\u001b[1;33m,\u001b[0m \u001b[0mX\u001b[0m\u001b[1;33m,\u001b[0m \u001b[0mw\u001b[0m \u001b[1;33m=\u001b[0m \u001b[0mw\u001b[0m\u001b[1;33m,\u001b[0m \u001b[0mspat_diag\u001b[0m \u001b[1;33m=\u001b[0m \u001b[1;32mTrue\u001b[0m\u001b[1;33m)\u001b[0m\u001b[1;33m\u001b[0m\u001b[1;33m\u001b[0m\u001b[0m\n\u001b[0m",
      "\u001b[1;32m~\\anaconda3\\lib\\site-packages\\pysal\\model\\spreg\\twosls_sp.py\u001b[0m in \u001b[0;36m__init__\u001b[1;34m(self, y, x, yend, q, w, w_lags, lag_q, robust, gwk, sig2n_k, spat_diag, vm, name_y, name_x, name_yend, name_q, name_w, name_gwk, name_ds)\u001b[0m\n\u001b[0;32m    491\u001b[0m         \u001b[0mself\u001b[0m\u001b[1;33m.\u001b[0m\u001b[0mname_w\u001b[0m \u001b[1;33m=\u001b[0m \u001b[0mUSER\u001b[0m\u001b[1;33m.\u001b[0m\u001b[0mset_name_w\u001b[0m\u001b[1;33m(\u001b[0m\u001b[0mname_w\u001b[0m\u001b[1;33m,\u001b[0m \u001b[0mw\u001b[0m\u001b[1;33m)\u001b[0m\u001b[1;33m\u001b[0m\u001b[1;33m\u001b[0m\u001b[0m\n\u001b[0;32m    492\u001b[0m         \u001b[0mself\u001b[0m\u001b[1;33m.\u001b[0m\u001b[0mname_gwk\u001b[0m \u001b[1;33m=\u001b[0m \u001b[0mUSER\u001b[0m\u001b[1;33m.\u001b[0m\u001b[0mset_name_w\u001b[0m\u001b[1;33m(\u001b[0m\u001b[0mname_gwk\u001b[0m\u001b[1;33m,\u001b[0m \u001b[0mgwk\u001b[0m\u001b[1;33m)\u001b[0m\u001b[1;33m\u001b[0m\u001b[1;33m\u001b[0m\u001b[0m\n\u001b[1;32m--> 493\u001b[1;33m         \u001b[0mSUMMARY\u001b[0m\u001b[1;33m.\u001b[0m\u001b[0mGM_Lag\u001b[0m\u001b[1;33m(\u001b[0m\u001b[0mreg\u001b[0m\u001b[1;33m=\u001b[0m\u001b[0mself\u001b[0m\u001b[1;33m,\u001b[0m \u001b[0mw\u001b[0m\u001b[1;33m=\u001b[0m\u001b[0mw\u001b[0m\u001b[1;33m,\u001b[0m \u001b[0mvm\u001b[0m\u001b[1;33m=\u001b[0m\u001b[0mvm\u001b[0m\u001b[1;33m,\u001b[0m \u001b[0mspat_diag\u001b[0m\u001b[1;33m=\u001b[0m\u001b[0mspat_diag\u001b[0m\u001b[1;33m)\u001b[0m\u001b[1;33m\u001b[0m\u001b[1;33m\u001b[0m\u001b[0m\n\u001b[0m\u001b[0;32m    494\u001b[0m \u001b[1;33m\u001b[0m\u001b[0m\n\u001b[0;32m    495\u001b[0m \u001b[1;33m\u001b[0m\u001b[0m\n",
      "\u001b[1;32m~\\anaconda3\\lib\\site-packages\\pysal\\model\\spreg\\summary_output.py\u001b[0m in \u001b[0;36mGM_Lag\u001b[1;34m(reg, vm, w, spat_diag, regimes)\u001b[0m\n\u001b[0;32m    148\u001b[0m     \u001b[0mreg\u001b[0m\u001b[1;33m.\u001b[0m\u001b[0m__summary\u001b[0m \u001b[1;33m=\u001b[0m \u001b[1;33m{\u001b[0m\u001b[1;33m}\u001b[0m\u001b[1;33m\u001b[0m\u001b[1;33m\u001b[0m\u001b[0m\n\u001b[0;32m    149\u001b[0m     \u001b[1;31m# compute diagnostics and organize summary output\u001b[0m\u001b[1;33m\u001b[0m\u001b[1;33m\u001b[0m\u001b[1;33m\u001b[0m\u001b[0m\n\u001b[1;32m--> 150\u001b[1;33m     \u001b[0mbeta_diag_lag\u001b[0m\u001b[1;33m(\u001b[0m\u001b[0mreg\u001b[0m\u001b[1;33m,\u001b[0m \u001b[0mreg\u001b[0m\u001b[1;33m.\u001b[0m\u001b[0mrobust\u001b[0m\u001b[1;33m,\u001b[0m \u001b[0merror\u001b[0m\u001b[1;33m=\u001b[0m\u001b[1;32mFalse\u001b[0m\u001b[1;33m)\u001b[0m\u001b[1;33m\u001b[0m\u001b[1;33m\u001b[0m\u001b[0m\n\u001b[0m\u001b[0;32m    151\u001b[0m     \u001b[1;32mif\u001b[0m \u001b[0mspat_diag\u001b[0m\u001b[1;33m:\u001b[0m\u001b[1;33m\u001b[0m\u001b[1;33m\u001b[0m\u001b[0m\n\u001b[0;32m    152\u001b[0m         \u001b[1;31m# compute diagnostics and organize summary output\u001b[0m\u001b[1;33m\u001b[0m\u001b[1;33m\u001b[0m\u001b[1;33m\u001b[0m\u001b[0m\n",
      "\u001b[1;32m~\\anaconda3\\lib\\site-packages\\pysal\\model\\spreg\\summary_output.py\u001b[0m in \u001b[0;36mbeta_diag_lag\u001b[1;34m(reg, robust, error)\u001b[0m\n\u001b[0;32m    723\u001b[0m     \u001b[0mreg\u001b[0m\u001b[1;33m.\u001b[0m\u001b[0mstd_err\u001b[0m \u001b[1;33m=\u001b[0m \u001b[0mdiagnostics\u001b[0m\u001b[1;33m.\u001b[0m\u001b[0mse_betas\u001b[0m\u001b[1;33m(\u001b[0m\u001b[0mreg\u001b[0m\u001b[1;33m)\u001b[0m\u001b[1;33m\u001b[0m\u001b[1;33m\u001b[0m\u001b[0m\n\u001b[0;32m    724\u001b[0m     \u001b[0mreg\u001b[0m\u001b[1;33m.\u001b[0m\u001b[0mz_stat\u001b[0m \u001b[1;33m=\u001b[0m \u001b[0mdiagnostics\u001b[0m\u001b[1;33m.\u001b[0m\u001b[0mt_stat\u001b[0m\u001b[1;33m(\u001b[0m\u001b[0mreg\u001b[0m\u001b[1;33m,\u001b[0m \u001b[0mz_stat\u001b[0m\u001b[1;33m=\u001b[0m\u001b[1;32mTrue\u001b[0m\u001b[1;33m)\u001b[0m\u001b[1;33m\u001b[0m\u001b[1;33m\u001b[0m\u001b[0m\n\u001b[1;32m--> 725\u001b[1;33m     \u001b[0mreg\u001b[0m\u001b[1;33m.\u001b[0m\u001b[0mpr2\u001b[0m \u001b[1;33m=\u001b[0m \u001b[0mdiagnostics_tsls\u001b[0m\u001b[1;33m.\u001b[0m\u001b[0mpr2_aspatial\u001b[0m\u001b[1;33m(\u001b[0m\u001b[0mreg\u001b[0m\u001b[1;33m)\u001b[0m\u001b[1;33m\u001b[0m\u001b[1;33m\u001b[0m\u001b[0m\n\u001b[0m\u001b[0;32m    726\u001b[0m     \u001b[1;31m# organize summary output\u001b[0m\u001b[1;33m\u001b[0m\u001b[1;33m\u001b[0m\u001b[1;33m\u001b[0m\u001b[0m\n\u001b[0;32m    727\u001b[0m     \u001b[0mreg\u001b[0m\u001b[1;33m.\u001b[0m\u001b[0m__summary\u001b[0m\u001b[1;33m[\u001b[0m\u001b[1;34m'summary_std_err'\u001b[0m\u001b[1;33m]\u001b[0m \u001b[1;33m=\u001b[0m \u001b[0mrobust\u001b[0m\u001b[1;33m\u001b[0m\u001b[1;33m\u001b[0m\u001b[0m\n",
      "\u001b[1;32m~\\anaconda3\\lib\\site-packages\\pysal\\model\\spreg\\diagnostics_tsls.py\u001b[0m in \u001b[0;36mpr2_aspatial\u001b[1;34m(tslsreg)\u001b[0m\n\u001b[0;32m    215\u001b[0m     \u001b[0my\u001b[0m \u001b[1;33m=\u001b[0m \u001b[0mtslsreg\u001b[0m\u001b[1;33m.\u001b[0m\u001b[0my\u001b[0m\u001b[1;33m\u001b[0m\u001b[1;33m\u001b[0m\u001b[0m\n\u001b[0;32m    216\u001b[0m     \u001b[0mpredy\u001b[0m \u001b[1;33m=\u001b[0m \u001b[0mtslsreg\u001b[0m\u001b[1;33m.\u001b[0m\u001b[0mpredy\u001b[0m\u001b[1;33m\u001b[0m\u001b[1;33m\u001b[0m\u001b[0m\n\u001b[1;32m--> 217\u001b[1;33m     \u001b[0mpr\u001b[0m \u001b[1;33m=\u001b[0m \u001b[0mpearsonr\u001b[0m\u001b[1;33m(\u001b[0m\u001b[0my\u001b[0m\u001b[1;33m,\u001b[0m \u001b[0mpredy\u001b[0m\u001b[1;33m)\u001b[0m\u001b[1;33m[\u001b[0m\u001b[1;36m0\u001b[0m\u001b[1;33m]\u001b[0m\u001b[1;33m\u001b[0m\u001b[1;33m\u001b[0m\u001b[0m\n\u001b[0m\u001b[0;32m    218\u001b[0m     \u001b[0mpr2_result\u001b[0m \u001b[1;33m=\u001b[0m \u001b[0mfloat\u001b[0m\u001b[1;33m(\u001b[0m\u001b[0mpr\u001b[0m \u001b[1;33m**\u001b[0m \u001b[1;36m2\u001b[0m\u001b[1;33m)\u001b[0m\u001b[1;33m\u001b[0m\u001b[1;33m\u001b[0m\u001b[0m\n\u001b[0;32m    219\u001b[0m     \u001b[1;32mreturn\u001b[0m \u001b[0mpr2_result\u001b[0m\u001b[1;33m\u001b[0m\u001b[1;33m\u001b[0m\u001b[0m\n",
      "\u001b[1;32m~\\anaconda3\\lib\\site-packages\\scipy\\stats\\stats.py\u001b[0m in \u001b[0;36mpearsonr\u001b[1;34m(x, y)\u001b[0m\n\u001b[0;32m   3922\u001b[0m         \u001b[1;32mreturn\u001b[0m \u001b[0mdtype\u001b[0m\u001b[1;33m(\u001b[0m\u001b[0mnp\u001b[0m\u001b[1;33m.\u001b[0m\u001b[0msign\u001b[0m\u001b[1;33m(\u001b[0m\u001b[0mx\u001b[0m\u001b[1;33m[\u001b[0m\u001b[1;36m1\u001b[0m\u001b[1;33m]\u001b[0m \u001b[1;33m-\u001b[0m \u001b[0mx\u001b[0m\u001b[1;33m[\u001b[0m\u001b[1;36m0\u001b[0m\u001b[1;33m]\u001b[0m\u001b[1;33m)\u001b[0m\u001b[1;33m*\u001b[0m\u001b[0mnp\u001b[0m\u001b[1;33m.\u001b[0m\u001b[0msign\u001b[0m\u001b[1;33m(\u001b[0m\u001b[0my\u001b[0m\u001b[1;33m[\u001b[0m\u001b[1;36m1\u001b[0m\u001b[1;33m]\u001b[0m \u001b[1;33m-\u001b[0m \u001b[0my\u001b[0m\u001b[1;33m[\u001b[0m\u001b[1;36m0\u001b[0m\u001b[1;33m]\u001b[0m\u001b[1;33m)\u001b[0m\u001b[1;33m)\u001b[0m\u001b[1;33m,\u001b[0m \u001b[1;36m1.0\u001b[0m\u001b[1;33m\u001b[0m\u001b[1;33m\u001b[0m\u001b[0m\n\u001b[0;32m   3923\u001b[0m \u001b[1;33m\u001b[0m\u001b[0m\n\u001b[1;32m-> 3924\u001b[1;33m     \u001b[0mxmean\u001b[0m \u001b[1;33m=\u001b[0m \u001b[0mx\u001b[0m\u001b[1;33m.\u001b[0m\u001b[0mmean\u001b[0m\u001b[1;33m(\u001b[0m\u001b[0mdtype\u001b[0m\u001b[1;33m=\u001b[0m\u001b[0mdtype\u001b[0m\u001b[1;33m)\u001b[0m\u001b[1;33m\u001b[0m\u001b[1;33m\u001b[0m\u001b[0m\n\u001b[0m\u001b[0;32m   3925\u001b[0m     \u001b[0mymean\u001b[0m \u001b[1;33m=\u001b[0m \u001b[0my\u001b[0m\u001b[1;33m.\u001b[0m\u001b[0mmean\u001b[0m\u001b[1;33m(\u001b[0m\u001b[0mdtype\u001b[0m\u001b[1;33m=\u001b[0m\u001b[0mdtype\u001b[0m\u001b[1;33m)\u001b[0m\u001b[1;33m\u001b[0m\u001b[1;33m\u001b[0m\u001b[0m\n\u001b[0;32m   3926\u001b[0m \u001b[1;33m\u001b[0m\u001b[0m\n",
      "\u001b[1;32m~\\anaconda3\\lib\\site-packages\\numpy\\core\\_methods.py\u001b[0m in \u001b[0;36m_mean\u001b[1;34m(a, axis, dtype, out, keepdims)\u001b[0m\n\u001b[0;32m    158\u001b[0m             \u001b[0mis_float16_result\u001b[0m \u001b[1;33m=\u001b[0m \u001b[1;32mTrue\u001b[0m\u001b[1;33m\u001b[0m\u001b[1;33m\u001b[0m\u001b[0m\n\u001b[0;32m    159\u001b[0m \u001b[1;33m\u001b[0m\u001b[0m\n\u001b[1;32m--> 160\u001b[1;33m     \u001b[0mret\u001b[0m \u001b[1;33m=\u001b[0m \u001b[0mumr_sum\u001b[0m\u001b[1;33m(\u001b[0m\u001b[0marr\u001b[0m\u001b[1;33m,\u001b[0m \u001b[0maxis\u001b[0m\u001b[1;33m,\u001b[0m \u001b[0mdtype\u001b[0m\u001b[1;33m,\u001b[0m \u001b[0mout\u001b[0m\u001b[1;33m,\u001b[0m \u001b[0mkeepdims\u001b[0m\u001b[1;33m)\u001b[0m\u001b[1;33m\u001b[0m\u001b[1;33m\u001b[0m\u001b[0m\n\u001b[0m\u001b[0;32m    161\u001b[0m     \u001b[1;32mif\u001b[0m \u001b[0misinstance\u001b[0m\u001b[1;33m(\u001b[0m\u001b[0mret\u001b[0m\u001b[1;33m,\u001b[0m \u001b[0mmu\u001b[0m\u001b[1;33m.\u001b[0m\u001b[0mndarray\u001b[0m\u001b[1;33m)\u001b[0m\u001b[1;33m:\u001b[0m\u001b[1;33m\u001b[0m\u001b[1;33m\u001b[0m\u001b[0m\n\u001b[0;32m    162\u001b[0m         ret = um.true_divide(\n",
      "\u001b[1;31mTypeError\u001b[0m: No loop matching the specified signature and casting was found for ufunc add"
     ]
    }
   ],
   "source": [
    "spatial_lm_weights = pysal.model.spreg.GM_Lag(y, X, w = w, spat_diag = True)"
   ]
  },
  {
   "cell_type": "code",
   "execution_count": null,
   "metadata": {},
   "outputs": [],
   "source": [
    "print(spatial_lm_weights.summary)"
   ]
  },
  {
   "cell_type": "markdown",
   "metadata": {},
   "source": [
    "Spatial Auto-regressive Model:\n",
    "$$\n",
    "Y_i = \\beta_0 + \\rho \\sum_{j} W_{ij}Y_j\n",
    "$$\n",
    "\n",
    "The model we fit:\n",
    "$$\n",
    "Y_i = \\beta_0 + \\beta_1[\\text{2008 income}]_i + \\rho \\sum_{j} W_{ij}Y_j\n",
    "$$"
   ]
  },
  {
   "cell_type": "markdown",
   "metadata": {},
   "source": [
    "### Suppose want to generate our own weights!"
   ]
  },
  {
   "cell_type": "code",
   "execution_count": 64,
   "metadata": {},
   "outputs": [],
   "source": [
    "import pysal.lib"
   ]
  },
  {
   "cell_type": "code",
   "execution_count": 65,
   "metadata": {},
   "outputs": [],
   "source": [
    "wt = pysal.lib.weights.DistanceBand.from_shapefile(\"../us48_data/us48.shp\", # name of shapefile\n",
    "                                 threshold=10, # units to search\n",
    "                                 binary=True) # 1/0 weights or distance-based weights"
   ]
  },
  {
   "cell_type": "code",
   "execution_count": 66,
   "metadata": {},
   "outputs": [
    {
     "data": {
      "text/plain": [
       "[(0, {7: 1.0, 10: 1.0, 21: 1.0}),\n",
       " (1, {3: 1.0, 4: 1.0, 5: 1.0, 7: 1.0, 22: 1.0, 29: 1.0}),\n",
       " (2,\n",
       "  {8: 1.0,\n",
       "   11: 1.0,\n",
       "   13: 1.0,\n",
       "   15: 1.0,\n",
       "   16: 1.0,\n",
       "   17: 1.0,\n",
       "   18: 1.0,\n",
       "   19: 1.0,\n",
       "   26: 1.0,\n",
       "   28: 1.0}),\n",
       " (3, {1: 1.0, 4: 1.0, 5: 1.0, 9: 1.0, 12: 1.0, 14: 1.0, 29: 1.0, 31: 1.0}),\n",
       " (4,\n",
       "  {1: 1.0,\n",
       "   3: 1.0,\n",
       "   5: 1.0,\n",
       "   9: 1.0,\n",
       "   12: 1.0,\n",
       "   14: 1.0,\n",
       "   29: 1.0,\n",
       "   31: 1.0,\n",
       "   33: 1.0,\n",
       "   35: 1.0}),\n",
       " (5,\n",
       "  {1: 1.0,\n",
       "   3: 1.0,\n",
       "   4: 1.0,\n",
       "   7: 1.0,\n",
       "   14: 1.0,\n",
       "   21: 1.0,\n",
       "   22: 1.0,\n",
       "   29: 1.0,\n",
       "   34: 1.0,\n",
       "   39: 1.0}),\n",
       " (6,\n",
       "  {9: 1.0,\n",
       "   12: 1.0,\n",
       "   20: 1.0,\n",
       "   24: 1.0,\n",
       "   25: 1.0,\n",
       "   30: 1.0,\n",
       "   33: 1.0,\n",
       "   37: 1.0,\n",
       "   47: 1.0}),\n",
       " (7, {0: 1.0, 1: 1.0, 5: 1.0, 10: 1.0, 21: 1.0, 22: 1.0, 23: 1.0}),\n",
       " (8,\n",
       "  {2: 1.0,\n",
       "   11: 1.0,\n",
       "   13: 1.0,\n",
       "   15: 1.0,\n",
       "   16: 1.0,\n",
       "   17: 1.0,\n",
       "   18: 1.0,\n",
       "   19: 1.0,\n",
       "   26: 1.0,\n",
       "   27: 1.0,\n",
       "   28: 1.0,\n",
       "   32: 1.0}),\n",
       " (9,\n",
       "  {3: 1.0,\n",
       "   4: 1.0,\n",
       "   6: 1.0,\n",
       "   12: 1.0,\n",
       "   14: 1.0,\n",
       "   25: 1.0,\n",
       "   31: 1.0,\n",
       "   33: 1.0,\n",
       "   47: 1.0}),\n",
       " (10, {0: 1.0, 7: 1.0, 21: 1.0, 23: 1.0}),\n",
       " (11,\n",
       "  {2: 1.0,\n",
       "   8: 1.0,\n",
       "   13: 1.0,\n",
       "   15: 1.0,\n",
       "   16: 1.0,\n",
       "   17: 1.0,\n",
       "   18: 1.0,\n",
       "   19: 1.0,\n",
       "   26: 1.0,\n",
       "   28: 1.0,\n",
       "   32: 1.0}),\n",
       " (12,\n",
       "  {3: 1.0,\n",
       "   4: 1.0,\n",
       "   6: 1.0,\n",
       "   9: 1.0,\n",
       "   14: 1.0,\n",
       "   20: 1.0,\n",
       "   25: 1.0,\n",
       "   30: 1.0,\n",
       "   31: 1.0,\n",
       "   33: 1.0,\n",
       "   35: 1.0,\n",
       "   37: 1.0,\n",
       "   44: 1.0,\n",
       "   47: 1.0}),\n",
       " (13,\n",
       "  {2: 1.0,\n",
       "   8: 1.0,\n",
       "   11: 1.0,\n",
       "   15: 1.0,\n",
       "   16: 1.0,\n",
       "   17: 1.0,\n",
       "   18: 1.0,\n",
       "   19: 1.0,\n",
       "   26: 1.0,\n",
       "   27: 1.0,\n",
       "   28: 1.0,\n",
       "   32: 1.0}),\n",
       " (14,\n",
       "  {3: 1.0,\n",
       "   4: 1.0,\n",
       "   5: 1.0,\n",
       "   9: 1.0,\n",
       "   12: 1.0,\n",
       "   29: 1.0,\n",
       "   31: 1.0,\n",
       "   33: 1.0,\n",
       "   35: 1.0,\n",
       "   39: 1.0,\n",
       "   44: 1.0}),\n",
       " (15,\n",
       "  {2: 1.0,\n",
       "   8: 1.0,\n",
       "   11: 1.0,\n",
       "   13: 1.0,\n",
       "   16: 1.0,\n",
       "   17: 1.0,\n",
       "   18: 1.0,\n",
       "   19: 1.0,\n",
       "   24: 1.0,\n",
       "   26: 1.0,\n",
       "   27: 1.0,\n",
       "   28: 1.0,\n",
       "   32: 1.0,\n",
       "   36: 1.0}),\n",
       " (16,\n",
       "  {2: 1.0,\n",
       "   8: 1.0,\n",
       "   11: 1.0,\n",
       "   13: 1.0,\n",
       "   15: 1.0,\n",
       "   17: 1.0,\n",
       "   18: 1.0,\n",
       "   19: 1.0,\n",
       "   20: 1.0,\n",
       "   24: 1.0,\n",
       "   26: 1.0,\n",
       "   27: 1.0,\n",
       "   28: 1.0,\n",
       "   30: 1.0,\n",
       "   32: 1.0,\n",
       "   36: 1.0,\n",
       "   37: 1.0,\n",
       "   42: 1.0,\n",
       "   43: 1.0,\n",
       "   47: 1.0}),\n",
       " (17,\n",
       "  {2: 1.0,\n",
       "   8: 1.0,\n",
       "   11: 1.0,\n",
       "   13: 1.0,\n",
       "   15: 1.0,\n",
       "   16: 1.0,\n",
       "   18: 1.0,\n",
       "   19: 1.0,\n",
       "   26: 1.0,\n",
       "   27: 1.0,\n",
       "   28: 1.0,\n",
       "   32: 1.0,\n",
       "   36: 1.0}),\n",
       " (18,\n",
       "  {2: 1.0,\n",
       "   8: 1.0,\n",
       "   11: 1.0,\n",
       "   13: 1.0,\n",
       "   15: 1.0,\n",
       "   16: 1.0,\n",
       "   17: 1.0,\n",
       "   19: 1.0,\n",
       "   26: 1.0,\n",
       "   27: 1.0,\n",
       "   28: 1.0,\n",
       "   32: 1.0,\n",
       "   36: 1.0}),\n",
       " (19,\n",
       "  {2: 1.0,\n",
       "   8: 1.0,\n",
       "   11: 1.0,\n",
       "   13: 1.0,\n",
       "   15: 1.0,\n",
       "   16: 1.0,\n",
       "   17: 1.0,\n",
       "   18: 1.0,\n",
       "   24: 1.0,\n",
       "   26: 1.0,\n",
       "   27: 1.0,\n",
       "   28: 1.0,\n",
       "   32: 1.0,\n",
       "   36: 1.0,\n",
       "   43: 1.0}),\n",
       " (20,\n",
       "  {6: 1.0,\n",
       "   12: 1.0,\n",
       "   16: 1.0,\n",
       "   24: 1.0,\n",
       "   25: 1.0,\n",
       "   27: 1.0,\n",
       "   28: 1.0,\n",
       "   30: 1.0,\n",
       "   32: 1.0,\n",
       "   33: 1.0,\n",
       "   36: 1.0,\n",
       "   37: 1.0,\n",
       "   40: 1.0,\n",
       "   41: 1.0,\n",
       "   42: 1.0,\n",
       "   43: 1.0,\n",
       "   44: 1.0,\n",
       "   47: 1.0}),\n",
       " (21, {0: 1.0, 5: 1.0, 7: 1.0, 10: 1.0, 22: 1.0, 23: 1.0, 34: 1.0}),\n",
       " (22, {1: 1.0, 5: 1.0, 7: 1.0, 21: 1.0, 23: 1.0, 29: 1.0, 34: 1.0, 39: 1.0}),\n",
       " (23, {7: 1.0, 10: 1.0, 21: 1.0, 22: 1.0, 34: 1.0}),\n",
       " (24,\n",
       "  {6: 1.0,\n",
       "   15: 1.0,\n",
       "   16: 1.0,\n",
       "   19: 1.0,\n",
       "   20: 1.0,\n",
       "   25: 1.0,\n",
       "   26: 1.0,\n",
       "   27: 1.0,\n",
       "   28: 1.0,\n",
       "   30: 1.0,\n",
       "   32: 1.0,\n",
       "   33: 1.0,\n",
       "   36: 1.0,\n",
       "   37: 1.0,\n",
       "   40: 1.0,\n",
       "   42: 1.0,\n",
       "   43: 1.0,\n",
       "   47: 1.0}),\n",
       " (25,\n",
       "  {6: 1.0,\n",
       "   9: 1.0,\n",
       "   12: 1.0,\n",
       "   20: 1.0,\n",
       "   24: 1.0,\n",
       "   27: 1.0,\n",
       "   30: 1.0,\n",
       "   31: 1.0,\n",
       "   33: 1.0,\n",
       "   35: 1.0,\n",
       "   37: 1.0,\n",
       "   40: 1.0,\n",
       "   41: 1.0,\n",
       "   42: 1.0,\n",
       "   44: 1.0,\n",
       "   45: 1.0,\n",
       "   47: 1.0}),\n",
       " (26,\n",
       "  {2: 1.0,\n",
       "   8: 1.0,\n",
       "   11: 1.0,\n",
       "   13: 1.0,\n",
       "   15: 1.0,\n",
       "   16: 1.0,\n",
       "   17: 1.0,\n",
       "   18: 1.0,\n",
       "   19: 1.0,\n",
       "   24: 1.0,\n",
       "   27: 1.0,\n",
       "   28: 1.0,\n",
       "   30: 1.0,\n",
       "   32: 1.0,\n",
       "   36: 1.0,\n",
       "   43: 1.0}),\n",
       " (27,\n",
       "  {8: 1.0,\n",
       "   13: 1.0,\n",
       "   15: 1.0,\n",
       "   16: 1.0,\n",
       "   17: 1.0,\n",
       "   18: 1.0,\n",
       "   19: 1.0,\n",
       "   20: 1.0,\n",
       "   24: 1.0,\n",
       "   25: 1.0,\n",
       "   26: 1.0,\n",
       "   28: 1.0,\n",
       "   30: 1.0,\n",
       "   32: 1.0,\n",
       "   36: 1.0,\n",
       "   37: 1.0,\n",
       "   40: 1.0,\n",
       "   42: 1.0,\n",
       "   43: 1.0,\n",
       "   47: 1.0}),\n",
       " (28,\n",
       "  {2: 1.0,\n",
       "   8: 1.0,\n",
       "   11: 1.0,\n",
       "   13: 1.0,\n",
       "   15: 1.0,\n",
       "   16: 1.0,\n",
       "   17: 1.0,\n",
       "   18: 1.0,\n",
       "   19: 1.0,\n",
       "   20: 1.0,\n",
       "   24: 1.0,\n",
       "   26: 1.0,\n",
       "   27: 1.0,\n",
       "   30: 1.0,\n",
       "   32: 1.0,\n",
       "   36: 1.0,\n",
       "   42: 1.0,\n",
       "   43: 1.0}),\n",
       " (29,\n",
       "  {1: 1.0,\n",
       "   3: 1.0,\n",
       "   4: 1.0,\n",
       "   5: 1.0,\n",
       "   14: 1.0,\n",
       "   22: 1.0,\n",
       "   31: 1.0,\n",
       "   34: 1.0,\n",
       "   35: 1.0,\n",
       "   38: 1.0,\n",
       "   39: 1.0}),\n",
       " (30,\n",
       "  {6: 1.0,\n",
       "   12: 1.0,\n",
       "   16: 1.0,\n",
       "   20: 1.0,\n",
       "   24: 1.0,\n",
       "   25: 1.0,\n",
       "   26: 1.0,\n",
       "   27: 1.0,\n",
       "   28: 1.0,\n",
       "   32: 1.0,\n",
       "   33: 1.0,\n",
       "   36: 1.0,\n",
       "   37: 1.0,\n",
       "   40: 1.0,\n",
       "   41: 1.0,\n",
       "   42: 1.0,\n",
       "   43: 1.0,\n",
       "   44: 1.0,\n",
       "   45: 1.0,\n",
       "   46: 1.0,\n",
       "   47: 1.0}),\n",
       " (31,\n",
       "  {3: 1.0,\n",
       "   4: 1.0,\n",
       "   9: 1.0,\n",
       "   12: 1.0,\n",
       "   14: 1.0,\n",
       "   25: 1.0,\n",
       "   29: 1.0,\n",
       "   33: 1.0,\n",
       "   35: 1.0,\n",
       "   38: 1.0,\n",
       "   39: 1.0,\n",
       "   44: 1.0,\n",
       "   45: 1.0}),\n",
       " (32,\n",
       "  {8: 1.0,\n",
       "   11: 1.0,\n",
       "   13: 1.0,\n",
       "   15: 1.0,\n",
       "   16: 1.0,\n",
       "   17: 1.0,\n",
       "   18: 1.0,\n",
       "   19: 1.0,\n",
       "   20: 1.0,\n",
       "   24: 1.0,\n",
       "   26: 1.0,\n",
       "   27: 1.0,\n",
       "   28: 1.0,\n",
       "   30: 1.0,\n",
       "   36: 1.0,\n",
       "   37: 1.0,\n",
       "   40: 1.0,\n",
       "   42: 1.0,\n",
       "   43: 1.0,\n",
       "   46: 1.0,\n",
       "   47: 1.0}),\n",
       " (33,\n",
       "  {4: 1.0,\n",
       "   6: 1.0,\n",
       "   9: 1.0,\n",
       "   12: 1.0,\n",
       "   14: 1.0,\n",
       "   20: 1.0,\n",
       "   24: 1.0,\n",
       "   25: 1.0,\n",
       "   30: 1.0,\n",
       "   31: 1.0,\n",
       "   35: 1.0,\n",
       "   37: 1.0,\n",
       "   38: 1.0,\n",
       "   40: 1.0,\n",
       "   41: 1.0,\n",
       "   44: 1.0,\n",
       "   45: 1.0,\n",
       "   47: 1.0}),\n",
       " (34, {5: 1.0, 21: 1.0, 22: 1.0, 23: 1.0, 29: 1.0, 39: 1.0}),\n",
       " (35,\n",
       "  {4: 1.0,\n",
       "   12: 1.0,\n",
       "   14: 1.0,\n",
       "   25: 1.0,\n",
       "   29: 1.0,\n",
       "   31: 1.0,\n",
       "   33: 1.0,\n",
       "   38: 1.0,\n",
       "   39: 1.0,\n",
       "   41: 1.0,\n",
       "   44: 1.0,\n",
       "   45: 1.0}),\n",
       " (36,\n",
       "  {15: 1.0,\n",
       "   16: 1.0,\n",
       "   17: 1.0,\n",
       "   18: 1.0,\n",
       "   19: 1.0,\n",
       "   20: 1.0,\n",
       "   24: 1.0,\n",
       "   26: 1.0,\n",
       "   27: 1.0,\n",
       "   28: 1.0,\n",
       "   30: 1.0,\n",
       "   32: 1.0,\n",
       "   37: 1.0,\n",
       "   40: 1.0,\n",
       "   42: 1.0,\n",
       "   43: 1.0,\n",
       "   46: 1.0}),\n",
       " (37,\n",
       "  {6: 1.0,\n",
       "   12: 1.0,\n",
       "   16: 1.0,\n",
       "   20: 1.0,\n",
       "   24: 1.0,\n",
       "   25: 1.0,\n",
       "   27: 1.0,\n",
       "   30: 1.0,\n",
       "   32: 1.0,\n",
       "   33: 1.0,\n",
       "   36: 1.0,\n",
       "   40: 1.0,\n",
       "   41: 1.0,\n",
       "   42: 1.0,\n",
       "   43: 1.0,\n",
       "   44: 1.0,\n",
       "   45: 1.0,\n",
       "   46: 1.0,\n",
       "   47: 1.0}),\n",
       " (38,\n",
       "  {29: 1.0, 31: 1.0, 33: 1.0, 35: 1.0, 39: 1.0, 41: 1.0, 44: 1.0, 45: 1.0}),\n",
       " (39, {5: 1.0, 14: 1.0, 22: 1.0, 29: 1.0, 31: 1.0, 34: 1.0, 35: 1.0, 38: 1.0}),\n",
       " (40,\n",
       "  {20: 1.0,\n",
       "   24: 1.0,\n",
       "   25: 1.0,\n",
       "   27: 1.0,\n",
       "   30: 1.0,\n",
       "   32: 1.0,\n",
       "   33: 1.0,\n",
       "   36: 1.0,\n",
       "   37: 1.0,\n",
       "   41: 1.0,\n",
       "   42: 1.0,\n",
       "   43: 1.0,\n",
       "   44: 1.0,\n",
       "   45: 1.0,\n",
       "   46: 1.0}),\n",
       " (41,\n",
       "  {20: 1.0,\n",
       "   25: 1.0,\n",
       "   30: 1.0,\n",
       "   33: 1.0,\n",
       "   35: 1.0,\n",
       "   37: 1.0,\n",
       "   38: 1.0,\n",
       "   40: 1.0,\n",
       "   42: 1.0,\n",
       "   43: 1.0,\n",
       "   44: 1.0,\n",
       "   45: 1.0,\n",
       "   46: 1.0}),\n",
       " (42,\n",
       "  {16: 1.0,\n",
       "   20: 1.0,\n",
       "   24: 1.0,\n",
       "   25: 1.0,\n",
       "   27: 1.0,\n",
       "   28: 1.0,\n",
       "   30: 1.0,\n",
       "   32: 1.0,\n",
       "   36: 1.0,\n",
       "   37: 1.0,\n",
       "   40: 1.0,\n",
       "   41: 1.0,\n",
       "   43: 1.0,\n",
       "   44: 1.0,\n",
       "   45: 1.0,\n",
       "   46: 1.0}),\n",
       " (43,\n",
       "  {16: 1.0,\n",
       "   19: 1.0,\n",
       "   20: 1.0,\n",
       "   24: 1.0,\n",
       "   26: 1.0,\n",
       "   27: 1.0,\n",
       "   28: 1.0,\n",
       "   30: 1.0,\n",
       "   32: 1.0,\n",
       "   36: 1.0,\n",
       "   37: 1.0,\n",
       "   40: 1.0,\n",
       "   41: 1.0,\n",
       "   42: 1.0,\n",
       "   46: 1.0}),\n",
       " (44,\n",
       "  {12: 1.0,\n",
       "   14: 1.0,\n",
       "   20: 1.0,\n",
       "   25: 1.0,\n",
       "   30: 1.0,\n",
       "   31: 1.0,\n",
       "   33: 1.0,\n",
       "   35: 1.0,\n",
       "   37: 1.0,\n",
       "   38: 1.0,\n",
       "   40: 1.0,\n",
       "   41: 1.0,\n",
       "   42: 1.0,\n",
       "   45: 1.0}),\n",
       " (45,\n",
       "  {25: 1.0,\n",
       "   30: 1.0,\n",
       "   31: 1.0,\n",
       "   33: 1.0,\n",
       "   35: 1.0,\n",
       "   37: 1.0,\n",
       "   38: 1.0,\n",
       "   40: 1.0,\n",
       "   41: 1.0,\n",
       "   42: 1.0,\n",
       "   44: 1.0,\n",
       "   46: 1.0}),\n",
       " (46,\n",
       "  {30: 1.0,\n",
       "   32: 1.0,\n",
       "   36: 1.0,\n",
       "   37: 1.0,\n",
       "   40: 1.0,\n",
       "   41: 1.0,\n",
       "   42: 1.0,\n",
       "   43: 1.0,\n",
       "   45: 1.0}),\n",
       " (47,\n",
       "  {6: 1.0,\n",
       "   9: 1.0,\n",
       "   12: 1.0,\n",
       "   16: 1.0,\n",
       "   20: 1.0,\n",
       "   24: 1.0,\n",
       "   25: 1.0,\n",
       "   27: 1.0,\n",
       "   30: 1.0,\n",
       "   32: 1.0,\n",
       "   33: 1.0,\n",
       "   37: 1.0})]"
      ]
     },
     "execution_count": 66,
     "metadata": {},
     "output_type": "execute_result"
    }
   ],
   "source": [
    "list(wt)"
   ]
  },
  {
   "cell_type": "code",
   "execution_count": 67,
   "metadata": {},
   "outputs": [
    {
     "data": {
      "text/plain": [
       "(24.95596694946289, 49.371734619140625)"
      ]
     },
     "execution_count": 67,
     "metadata": {},
     "output_type": "execute_result"
    },
    {
     "data": {
      "image/png": "[encoded data removed]",
      "text/plain": [
       "<Figure size 720x432 with 1 Axes>"
      ]
     },
     "metadata": {
      "needs_background": "light"
     },
     "output_type": "display_data"
    },
    {
     "name": "stdout",
     "output_type": "stream",
     "text": [
      "Collecting package metadata (current_repodata.json): ...working... done\n",
      "Solving environment: ...working... failed with initial frozen solve. Retrying with flexible solve.\n",
      "Solving environment: ...working... failed with repodata from current_repodata.json, will retry with next repodata source.\n",
      "Collecting package metadata (repodata.json): ...working... done\n",
      "Solving environment: ...working... done\n",
      "\n",
      "## Package Plan ##\n",
      "\n",
      "  environment location: C:\\Users\\Tresha\\anaconda3\n",
      "\n",
      "  added / updated specs:\n",
      "    - pysal\n",
      "\n",
      "\n",
      "The following NEW packages will be INSTALLED:\n",
      "\n",
      "  descartes          conda-forge/noarch::descartes-1.1.0-py_4\n",
      "  palettable         conda-forge/noarch::palettable-3.3.0-py_0\n",
      "  pysal              conda-forge/noarch::pysal-2.0.0-py_0\n",
      "\n",
      "The following packages will be SUPERSEDED by a higher-priority channel:\n",
      "\n",
      "  openssl                                         pkgs/main --> conda-forge\n",
      "\n",
      "\n",
      "Preparing transaction: ...working... done\n",
      "Verifying transaction: ...working... done\n",
      "Executing transaction: ...working... done\n"
     ]
    }
   ],
   "source": [
    "x = []\n",
    "y = []\n",
    "for i in us[21].vertices: # Change index of us (0-47) to see vertices' points\n",
    "    x.append(i[0])\n",
    "    y.append(i[1])\n",
    "fig, ax = matplotlib.pyplot.subplots(figsize=(10,6))\n",
    "matplotlib.pyplot.scatter(x, y)\n",
    "matplotlib.pyplot.xlim(us.header['BBOX Xmin'] , us.header['BBOX Xmax']) # limits of U.S.\n",
    "matplotlib.pyplot.ylim(us.header['BBOX Ymin'] , us.header['BBOX Ymax']) # limits of U.S."
   ]
  },
  {
   "cell_type": "code",
   "execution_count": null,
   "metadata": {},
   "outputs": [],
   "source": []
  },
  {
   "cell_type": "code",
   "execution_count": null,
   "metadata": {},
   "outputs": [],
   "source": []
  },
  {
   "cell_type": "code",
   "execution_count": null,
   "metadata": {},
   "outputs": [],
   "source": []
  }
 ],
 "metadata": {
  "kernelspec": {
   "display_name": "Python 3",
   "language": "python",
   "name": "python3"
  },
  "language_info": {
   "codemirror_mode": {
    "name": "ipython",
    "version": 3
   },
   "file_extension": ".py",
   "mimetype": "text/x-python",
   "name": "python",
   "nbconvert_exporter": "python",
   "pygments_lexer": "ipython3",
   "version": "3.8.5"
  }
 },
 "nbformat": 4,
 "nbformat_minor": 2
}
