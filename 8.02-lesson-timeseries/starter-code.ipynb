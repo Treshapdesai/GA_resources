{
 "cells": [
  {
   "cell_type": "code",
   "execution_count": 2,
   "metadata": {},
   "outputs": [],
   "source": [
    "import pandas as pd\n",
    "import numpy as np\n",
    "import matplotlib.pyplot as plt\n",
    "\n",
    "%matplotlib inline"
   ]
  },
  {
   "cell_type": "markdown",
   "metadata": {},
   "source": [
    "## Load data\n",
    "---\n",
    "\n",
    "We'll use [Yahoo! Finance](https://finance.yahoo.com/quote/AAPL) to get a few years worth of stock prices from Apple, Inc. (AAPL)"
   ]
  },
  {
   "cell_type": "code",
   "execution_count": 4,
   "metadata": {},
   "outputs": [
    {
     "data": {
      "text/html": [
       "<div>\n",
       "<style scoped>\n",
       "    .dataframe tbody tr th:only-of-type {\n",
       "        vertical-align: middle;\n",
       "    }\n",
       "\n",
       "    .dataframe tbody tr th {\n",
       "        vertical-align: top;\n",
       "    }\n",
       "\n",
       "    .dataframe thead th {\n",
       "        text-align: right;\n",
       "    }\n",
       "</style>\n",
       "<table border=\"1\" class=\"dataframe\">\n",
       "  <thead>\n",
       "    <tr style=\"text-align: right;\">\n",
       "      <th></th>\n",
       "      <th>Date</th>\n",
       "      <th>Open</th>\n",
       "      <th>High</th>\n",
       "      <th>Low</th>\n",
       "      <th>Close</th>\n",
       "      <th>Adj Close</th>\n",
       "      <th>Volume</th>\n",
       "    </tr>\n",
       "  </thead>\n",
       "  <tbody>\n",
       "    <tr>\n",
       "      <th>0</th>\n",
       "      <td>2018-08-08</td>\n",
       "      <td>206.050003</td>\n",
       "      <td>207.809998</td>\n",
       "      <td>204.520004</td>\n",
       "      <td>207.250000</td>\n",
       "      <td>201.371887</td>\n",
       "      <td>22525500</td>\n",
       "    </tr>\n",
       "    <tr>\n",
       "      <th>1</th>\n",
       "      <td>2018-08-09</td>\n",
       "      <td>209.529999</td>\n",
       "      <td>209.779999</td>\n",
       "      <td>207.199997</td>\n",
       "      <td>208.880005</td>\n",
       "      <td>202.955643</td>\n",
       "      <td>23492600</td>\n",
       "    </tr>\n",
       "    <tr>\n",
       "      <th>2</th>\n",
       "      <td>2018-08-10</td>\n",
       "      <td>207.360001</td>\n",
       "      <td>209.100006</td>\n",
       "      <td>206.669998</td>\n",
       "      <td>207.529999</td>\n",
       "      <td>202.351089</td>\n",
       "      <td>24611200</td>\n",
       "    </tr>\n",
       "    <tr>\n",
       "      <th>3</th>\n",
       "      <td>2018-08-13</td>\n",
       "      <td>209.309998</td>\n",
       "      <td>210.949997</td>\n",
       "      <td>207.699997</td>\n",
       "      <td>208.869995</td>\n",
       "      <td>203.657639</td>\n",
       "      <td>25890900</td>\n",
       "    </tr>\n",
       "    <tr>\n",
       "      <th>4</th>\n",
       "      <td>2018-08-14</td>\n",
       "      <td>210.160004</td>\n",
       "      <td>210.559998</td>\n",
       "      <td>208.259995</td>\n",
       "      <td>209.750000</td>\n",
       "      <td>204.515747</td>\n",
       "      <td>20748000</td>\n",
       "    </tr>\n",
       "  </tbody>\n",
       "</table>\n",
       "</div>"
      ],
      "text/plain": [
       "         Date        Open        High         Low       Close   Adj Close  \\\n",
       "0  2018-08-08  206.050003  207.809998  204.520004  207.250000  201.371887   \n",
       "1  2018-08-09  209.529999  209.779999  207.199997  208.880005  202.955643   \n",
       "2  2018-08-10  207.360001  209.100006  206.669998  207.529999  202.351089   \n",
       "3  2018-08-13  209.309998  210.949997  207.699997  208.869995  203.657639   \n",
       "4  2018-08-14  210.160004  210.559998  208.259995  209.750000  204.515747   \n",
       "\n",
       "     Volume  \n",
       "0  22525500  \n",
       "1  23492600  \n",
       "2  24611200  \n",
       "3  25890900  \n",
       "4  20748000  "
      ]
     },
     "execution_count": 4,
     "metadata": {},
     "output_type": "execute_result"
    }
   ],
   "source": [
    "# Load data\n",
    "df = pd.read_csv(\"./datasets/aapl.csv\")\n",
    "df.head()"
   ]
  },
  {
   "cell_type": "code",
   "execution_count": 6,
   "metadata": {},
   "outputs": [],
   "source": [
    "# Change date column to be datetime dtype\n",
    "df['Date'] = pd.to_datetime(df.Date)"
   ]
  },
  {
   "cell_type": "code",
   "execution_count": 7,
   "metadata": {},
   "outputs": [
    {
     "data": {
      "text/html": [
       "<div>\n",
       "<style scoped>\n",
       "    .dataframe tbody tr th:only-of-type {\n",
       "        vertical-align: middle;\n",
       "    }\n",
       "\n",
       "    .dataframe tbody tr th {\n",
       "        vertical-align: top;\n",
       "    }\n",
       "\n",
       "    .dataframe thead th {\n",
       "        text-align: right;\n",
       "    }\n",
       "</style>\n",
       "<table border=\"1\" class=\"dataframe\">\n",
       "  <thead>\n",
       "    <tr style=\"text-align: right;\">\n",
       "      <th></th>\n",
       "      <th>Date</th>\n",
       "      <th>Open</th>\n",
       "      <th>High</th>\n",
       "      <th>Low</th>\n",
       "      <th>Close</th>\n",
       "      <th>Adj Close</th>\n",
       "      <th>Volume</th>\n",
       "    </tr>\n",
       "  </thead>\n",
       "  <tbody>\n",
       "    <tr>\n",
       "      <th>0</th>\n",
       "      <td>2018-08-08</td>\n",
       "      <td>206.050003</td>\n",
       "      <td>207.809998</td>\n",
       "      <td>204.520004</td>\n",
       "      <td>207.250000</td>\n",
       "      <td>201.371887</td>\n",
       "      <td>22525500</td>\n",
       "    </tr>\n",
       "    <tr>\n",
       "      <th>1</th>\n",
       "      <td>2018-08-09</td>\n",
       "      <td>209.529999</td>\n",
       "      <td>209.779999</td>\n",
       "      <td>207.199997</td>\n",
       "      <td>208.880005</td>\n",
       "      <td>202.955643</td>\n",
       "      <td>23492600</td>\n",
       "    </tr>\n",
       "    <tr>\n",
       "      <th>2</th>\n",
       "      <td>2018-08-10</td>\n",
       "      <td>207.360001</td>\n",
       "      <td>209.100006</td>\n",
       "      <td>206.669998</td>\n",
       "      <td>207.529999</td>\n",
       "      <td>202.351089</td>\n",
       "      <td>24611200</td>\n",
       "    </tr>\n",
       "    <tr>\n",
       "      <th>3</th>\n",
       "      <td>2018-08-13</td>\n",
       "      <td>209.309998</td>\n",
       "      <td>210.949997</td>\n",
       "      <td>207.699997</td>\n",
       "      <td>208.869995</td>\n",
       "      <td>203.657639</td>\n",
       "      <td>25890900</td>\n",
       "    </tr>\n",
       "    <tr>\n",
       "      <th>4</th>\n",
       "      <td>2018-08-14</td>\n",
       "      <td>210.160004</td>\n",
       "      <td>210.559998</td>\n",
       "      <td>208.259995</td>\n",
       "      <td>209.750000</td>\n",
       "      <td>204.515747</td>\n",
       "      <td>20748000</td>\n",
       "    </tr>\n",
       "  </tbody>\n",
       "</table>\n",
       "</div>"
      ],
      "text/plain": [
       "        Date        Open        High         Low       Close   Adj Close  \\\n",
       "0 2018-08-08  206.050003  207.809998  204.520004  207.250000  201.371887   \n",
       "1 2018-08-09  209.529999  209.779999  207.199997  208.880005  202.955643   \n",
       "2 2018-08-10  207.360001  209.100006  206.669998  207.529999  202.351089   \n",
       "3 2018-08-13  209.309998  210.949997  207.699997  208.869995  203.657639   \n",
       "4 2018-08-14  210.160004  210.559998  208.259995  209.750000  204.515747   \n",
       "\n",
       "     Volume  \n",
       "0  22525500  \n",
       "1  23492600  \n",
       "2  24611200  \n",
       "3  25890900  \n",
       "4  20748000  "
      ]
     },
     "execution_count": 7,
     "metadata": {},
     "output_type": "execute_result"
    }
   ],
   "source": [
    "df.head()"
   ]
  },
  {
   "cell_type": "markdown",
   "metadata": {},
   "source": [
    "## Set the `Date` column to be the index\n",
    "---\n",
    "\n",
    "We'll be exploring a few `pandas` methods related to time series data. In order for them to work we need to set the `Date` column to be the index."
   ]
  },
  {
   "cell_type": "code",
   "execution_count": 10,
   "metadata": {},
   "outputs": [],
   "source": [
    "# Set Date to be in the index\n",
    "df.set_index('Date', drop=True, inplace=True)"
   ]
  },
  {
   "cell_type": "code",
   "execution_count": 13,
   "metadata": {},
   "outputs": [
    {
     "data": {
      "text/html": [
       "<div>\n",
       "<style scoped>\n",
       "    .dataframe tbody tr th:only-of-type {\n",
       "        vertical-align: middle;\n",
       "    }\n",
       "\n",
       "    .dataframe tbody tr th {\n",
       "        vertical-align: top;\n",
       "    }\n",
       "\n",
       "    .dataframe thead th {\n",
       "        text-align: right;\n",
       "    }\n",
       "</style>\n",
       "<table border=\"1\" class=\"dataframe\">\n",
       "  <thead>\n",
       "    <tr style=\"text-align: right;\">\n",
       "      <th></th>\n",
       "      <th>Open</th>\n",
       "      <th>High</th>\n",
       "      <th>Low</th>\n",
       "      <th>Close</th>\n",
       "      <th>Adj Close</th>\n",
       "      <th>Volume</th>\n",
       "    </tr>\n",
       "    <tr>\n",
       "      <th>Date</th>\n",
       "      <th></th>\n",
       "      <th></th>\n",
       "      <th></th>\n",
       "      <th></th>\n",
       "      <th></th>\n",
       "      <th></th>\n",
       "    </tr>\n",
       "  </thead>\n",
       "  <tbody>\n",
       "    <tr>\n",
       "      <th>2018-08-08</th>\n",
       "      <td>206.050003</td>\n",
       "      <td>207.809998</td>\n",
       "      <td>204.520004</td>\n",
       "      <td>207.250000</td>\n",
       "      <td>201.371887</td>\n",
       "      <td>22525500</td>\n",
       "    </tr>\n",
       "    <tr>\n",
       "      <th>2018-08-09</th>\n",
       "      <td>209.529999</td>\n",
       "      <td>209.779999</td>\n",
       "      <td>207.199997</td>\n",
       "      <td>208.880005</td>\n",
       "      <td>202.955643</td>\n",
       "      <td>23492600</td>\n",
       "    </tr>\n",
       "    <tr>\n",
       "      <th>2018-08-10</th>\n",
       "      <td>207.360001</td>\n",
       "      <td>209.100006</td>\n",
       "      <td>206.669998</td>\n",
       "      <td>207.529999</td>\n",
       "      <td>202.351089</td>\n",
       "      <td>24611200</td>\n",
       "    </tr>\n",
       "    <tr>\n",
       "      <th>2018-08-13</th>\n",
       "      <td>209.309998</td>\n",
       "      <td>210.949997</td>\n",
       "      <td>207.699997</td>\n",
       "      <td>208.869995</td>\n",
       "      <td>203.657639</td>\n",
       "      <td>25890900</td>\n",
       "    </tr>\n",
       "    <tr>\n",
       "      <th>2018-08-14</th>\n",
       "      <td>210.160004</td>\n",
       "      <td>210.559998</td>\n",
       "      <td>208.259995</td>\n",
       "      <td>209.750000</td>\n",
       "      <td>204.515747</td>\n",
       "      <td>20748000</td>\n",
       "    </tr>\n",
       "  </tbody>\n",
       "</table>\n",
       "</div>"
      ],
      "text/plain": [
       "                  Open        High         Low       Close   Adj Close  \\\n",
       "Date                                                                     \n",
       "2018-08-08  206.050003  207.809998  204.520004  207.250000  201.371887   \n",
       "2018-08-09  209.529999  209.779999  207.199997  208.880005  202.955643   \n",
       "2018-08-10  207.360001  209.100006  206.669998  207.529999  202.351089   \n",
       "2018-08-13  209.309998  210.949997  207.699997  208.869995  203.657639   \n",
       "2018-08-14  210.160004  210.559998  208.259995  209.750000  204.515747   \n",
       "\n",
       "              Volume  \n",
       "Date                  \n",
       "2018-08-08  22525500  \n",
       "2018-08-09  23492600  \n",
       "2018-08-10  24611200  \n",
       "2018-08-13  25890900  \n",
       "2018-08-14  20748000  "
      ]
     },
     "execution_count": 13,
     "metadata": {},
     "output_type": "execute_result"
    }
   ],
   "source": [
    "df.head()"
   ]
  },
  {
   "cell_type": "code",
   "execution_count": 15,
   "metadata": {},
   "outputs": [
    {
     "data": {
      "text/html": [
       "<div>\n",
       "<style scoped>\n",
       "    .dataframe tbody tr th:only-of-type {\n",
       "        vertical-align: middle;\n",
       "    }\n",
       "\n",
       "    .dataframe tbody tr th {\n",
       "        vertical-align: top;\n",
       "    }\n",
       "\n",
       "    .dataframe thead th {\n",
       "        text-align: right;\n",
       "    }\n",
       "</style>\n",
       "<table border=\"1\" class=\"dataframe\">\n",
       "  <thead>\n",
       "    <tr style=\"text-align: right;\">\n",
       "      <th></th>\n",
       "      <th>Open</th>\n",
       "      <th>High</th>\n",
       "      <th>Low</th>\n",
       "      <th>Close</th>\n",
       "      <th>Adj Close</th>\n",
       "      <th>Volume</th>\n",
       "    </tr>\n",
       "    <tr>\n",
       "      <th>Date</th>\n",
       "      <th></th>\n",
       "      <th></th>\n",
       "      <th></th>\n",
       "      <th></th>\n",
       "      <th></th>\n",
       "      <th></th>\n",
       "    </tr>\n",
       "  </thead>\n",
       "  <tbody>\n",
       "    <tr>\n",
       "      <th>2020-08-03</th>\n",
       "      <td>432.799988</td>\n",
       "      <td>446.549988</td>\n",
       "      <td>431.570007</td>\n",
       "      <td>435.750000</td>\n",
       "      <td>434.965759</td>\n",
       "      <td>77037800</td>\n",
       "    </tr>\n",
       "    <tr>\n",
       "      <th>2020-08-04</th>\n",
       "      <td>436.529999</td>\n",
       "      <td>443.160004</td>\n",
       "      <td>433.549988</td>\n",
       "      <td>438.660004</td>\n",
       "      <td>437.870514</td>\n",
       "      <td>43267900</td>\n",
       "    </tr>\n",
       "    <tr>\n",
       "      <th>2020-08-05</th>\n",
       "      <td>437.510010</td>\n",
       "      <td>441.570007</td>\n",
       "      <td>435.589996</td>\n",
       "      <td>440.250000</td>\n",
       "      <td>439.457642</td>\n",
       "      <td>30498000</td>\n",
       "    </tr>\n",
       "    <tr>\n",
       "      <th>2020-08-06</th>\n",
       "      <td>441.619995</td>\n",
       "      <td>457.649994</td>\n",
       "      <td>439.190002</td>\n",
       "      <td>455.609985</td>\n",
       "      <td>454.790009</td>\n",
       "      <td>50607200</td>\n",
       "    </tr>\n",
       "    <tr>\n",
       "      <th>2020-08-07</th>\n",
       "      <td>452.820007</td>\n",
       "      <td>454.700012</td>\n",
       "      <td>441.170013</td>\n",
       "      <td>444.450012</td>\n",
       "      <td>444.450012</td>\n",
       "      <td>49453300</td>\n",
       "    </tr>\n",
       "  </tbody>\n",
       "</table>\n",
       "</div>"
      ],
      "text/plain": [
       "                  Open        High         Low       Close   Adj Close  \\\n",
       "Date                                                                     \n",
       "2020-08-03  432.799988  446.549988  431.570007  435.750000  434.965759   \n",
       "2020-08-04  436.529999  443.160004  433.549988  438.660004  437.870514   \n",
       "2020-08-05  437.510010  441.570007  435.589996  440.250000  439.457642   \n",
       "2020-08-06  441.619995  457.649994  439.190002  455.609985  454.790009   \n",
       "2020-08-07  452.820007  454.700012  441.170013  444.450012  444.450012   \n",
       "\n",
       "              Volume  \n",
       "Date                  \n",
       "2020-08-03  77037800  \n",
       "2020-08-04  43267900  \n",
       "2020-08-05  30498000  \n",
       "2020-08-06  50607200  \n",
       "2020-08-07  49453300  "
      ]
     },
     "execution_count": 15,
     "metadata": {},
     "output_type": "execute_result"
    }
   ],
   "source": [
    "df.tail()"
   ]
  },
  {
   "cell_type": "code",
   "execution_count": 12,
   "metadata": {
    "scrolled": true
   },
   "outputs": [],
   "source": [
    "# Sort the index\n",
    "df.sort_index(inplace=True )"
   ]
  },
  {
   "cell_type": "markdown",
   "metadata": {},
   "source": [
    "## Explore the data\n",
    "---\n",
    "\n",
    "- `Close`: The price of AAPL when the stock market closes (at 4:30pm ET)\n",
    "- `Adj Close`: The closing price, when accounting for dividend payments, stock splits, etc.\n",
    "- `High`: The highest price of AAPL during that trading day\n",
    "- `Low`: The lowest price of AAPL during that trading day\n",
    "- `Open`: The price of AAPL when the stock market opens (at 9:30am ET)\n",
    "- `Volume`: How many shares of AAPL were traded that day"
   ]
  },
  {
   "cell_type": "code",
   "execution_count": null,
   "metadata": {},
   "outputs": [],
   "source": []
  },
  {
   "cell_type": "markdown",
   "metadata": {},
   "source": [
    "## Filtering by dates\n",
    "---\n",
    "\n",
    "Now that our `Date` column is the index, we can filter our data in unique ways. Try `df['2018']` in the cell below:"
   ]
  },
  {
   "cell_type": "code",
   "execution_count": 17,
   "metadata": {},
   "outputs": [
    {
     "data": {
      "text/html": [
       "<div>\n",
       "<style scoped>\n",
       "    .dataframe tbody tr th:only-of-type {\n",
       "        vertical-align: middle;\n",
       "    }\n",
       "\n",
       "    .dataframe tbody tr th {\n",
       "        vertical-align: top;\n",
       "    }\n",
       "\n",
       "    .dataframe thead th {\n",
       "        text-align: right;\n",
       "    }\n",
       "</style>\n",
       "<table border=\"1\" class=\"dataframe\">\n",
       "  <thead>\n",
       "    <tr style=\"text-align: right;\">\n",
       "      <th></th>\n",
       "      <th>Open</th>\n",
       "      <th>High</th>\n",
       "      <th>Low</th>\n",
       "      <th>Close</th>\n",
       "      <th>Adj Close</th>\n",
       "      <th>Volume</th>\n",
       "    </tr>\n",
       "    <tr>\n",
       "      <th>Date</th>\n",
       "      <th></th>\n",
       "      <th></th>\n",
       "      <th></th>\n",
       "      <th></th>\n",
       "      <th></th>\n",
       "      <th></th>\n",
       "    </tr>\n",
       "  </thead>\n",
       "  <tbody>\n",
       "    <tr>\n",
       "      <th>2018-12-24</th>\n",
       "      <td>148.149994</td>\n",
       "      <td>151.550003</td>\n",
       "      <td>146.589996</td>\n",
       "      <td>146.830002</td>\n",
       "      <td>143.665421</td>\n",
       "      <td>37169200</td>\n",
       "    </tr>\n",
       "    <tr>\n",
       "      <th>2018-12-26</th>\n",
       "      <td>148.300003</td>\n",
       "      <td>157.229996</td>\n",
       "      <td>146.720001</td>\n",
       "      <td>157.169998</td>\n",
       "      <td>153.782547</td>\n",
       "      <td>58582500</td>\n",
       "    </tr>\n",
       "    <tr>\n",
       "      <th>2018-12-27</th>\n",
       "      <td>155.839996</td>\n",
       "      <td>156.770004</td>\n",
       "      <td>150.070007</td>\n",
       "      <td>156.149994</td>\n",
       "      <td>152.784531</td>\n",
       "      <td>53117100</td>\n",
       "    </tr>\n",
       "    <tr>\n",
       "      <th>2018-12-28</th>\n",
       "      <td>157.500000</td>\n",
       "      <td>158.520004</td>\n",
       "      <td>154.550003</td>\n",
       "      <td>156.229996</td>\n",
       "      <td>152.862808</td>\n",
       "      <td>42291400</td>\n",
       "    </tr>\n",
       "    <tr>\n",
       "      <th>2018-12-31</th>\n",
       "      <td>158.529999</td>\n",
       "      <td>159.360001</td>\n",
       "      <td>156.479996</td>\n",
       "      <td>157.740005</td>\n",
       "      <td>154.340271</td>\n",
       "      <td>35003500</td>\n",
       "    </tr>\n",
       "  </tbody>\n",
       "</table>\n",
       "</div>"
      ],
      "text/plain": [
       "                  Open        High         Low       Close   Adj Close  \\\n",
       "Date                                                                     \n",
       "2018-12-24  148.149994  151.550003  146.589996  146.830002  143.665421   \n",
       "2018-12-26  148.300003  157.229996  146.720001  157.169998  153.782547   \n",
       "2018-12-27  155.839996  156.770004  150.070007  156.149994  152.784531   \n",
       "2018-12-28  157.500000  158.520004  154.550003  156.229996  152.862808   \n",
       "2018-12-31  158.529999  159.360001  156.479996  157.740005  154.340271   \n",
       "\n",
       "              Volume  \n",
       "Date                  \n",
       "2018-12-24  37169200  \n",
       "2018-12-26  58582500  \n",
       "2018-12-27  53117100  \n",
       "2018-12-28  42291400  \n",
       "2018-12-31  35003500  "
      ]
     },
     "execution_count": 17,
     "metadata": {},
     "output_type": "execute_result"
    }
   ],
   "source": [
    "df['2018'].tail()"
   ]
  },
  {
   "cell_type": "markdown",
   "metadata": {},
   "source": [
    "You can also filter by month:"
   ]
  },
  {
   "cell_type": "code",
   "execution_count": 23,
   "metadata": {},
   "outputs": [
    {
     "data": {
      "text/html": [
       "<div>\n",
       "<style scoped>\n",
       "    .dataframe tbody tr th:only-of-type {\n",
       "        vertical-align: middle;\n",
       "    }\n",
       "\n",
       "    .dataframe tbody tr th {\n",
       "        vertical-align: top;\n",
       "    }\n",
       "\n",
       "    .dataframe thead th {\n",
       "        text-align: right;\n",
       "    }\n",
       "</style>\n",
       "<table border=\"1\" class=\"dataframe\">\n",
       "  <thead>\n",
       "    <tr style=\"text-align: right;\">\n",
       "      <th></th>\n",
       "      <th>Open</th>\n",
       "      <th>High</th>\n",
       "      <th>Low</th>\n",
       "      <th>Close</th>\n",
       "      <th>Adj Close</th>\n",
       "      <th>Volume</th>\n",
       "    </tr>\n",
       "    <tr>\n",
       "      <th>Date</th>\n",
       "      <th></th>\n",
       "      <th></th>\n",
       "      <th></th>\n",
       "      <th></th>\n",
       "      <th></th>\n",
       "      <th></th>\n",
       "    </tr>\n",
       "  </thead>\n",
       "  <tbody>\n",
       "    <tr>\n",
       "      <th>2018-08-08</th>\n",
       "      <td>206.050003</td>\n",
       "      <td>207.809998</td>\n",
       "      <td>204.520004</td>\n",
       "      <td>207.250000</td>\n",
       "      <td>201.371887</td>\n",
       "      <td>22525500</td>\n",
       "    </tr>\n",
       "    <tr>\n",
       "      <th>2018-08-09</th>\n",
       "      <td>209.529999</td>\n",
       "      <td>209.779999</td>\n",
       "      <td>207.199997</td>\n",
       "      <td>208.880005</td>\n",
       "      <td>202.955643</td>\n",
       "      <td>23492600</td>\n",
       "    </tr>\n",
       "    <tr>\n",
       "      <th>2018-08-10</th>\n",
       "      <td>207.360001</td>\n",
       "      <td>209.100006</td>\n",
       "      <td>206.669998</td>\n",
       "      <td>207.529999</td>\n",
       "      <td>202.351089</td>\n",
       "      <td>24611200</td>\n",
       "    </tr>\n",
       "    <tr>\n",
       "      <th>2018-08-13</th>\n",
       "      <td>209.309998</td>\n",
       "      <td>210.949997</td>\n",
       "      <td>207.699997</td>\n",
       "      <td>208.869995</td>\n",
       "      <td>203.657639</td>\n",
       "      <td>25890900</td>\n",
       "    </tr>\n",
       "    <tr>\n",
       "      <th>2018-08-14</th>\n",
       "      <td>210.160004</td>\n",
       "      <td>210.559998</td>\n",
       "      <td>208.259995</td>\n",
       "      <td>209.750000</td>\n",
       "      <td>204.515747</td>\n",
       "      <td>20748000</td>\n",
       "    </tr>\n",
       "  </tbody>\n",
       "</table>\n",
       "</div>"
      ],
      "text/plain": [
       "                  Open        High         Low       Close   Adj Close  \\\n",
       "Date                                                                     \n",
       "2018-08-08  206.050003  207.809998  204.520004  207.250000  201.371887   \n",
       "2018-08-09  209.529999  209.779999  207.199997  208.880005  202.955643   \n",
       "2018-08-10  207.360001  209.100006  206.669998  207.529999  202.351089   \n",
       "2018-08-13  209.309998  210.949997  207.699997  208.869995  203.657639   \n",
       "2018-08-14  210.160004  210.559998  208.259995  209.750000  204.515747   \n",
       "\n",
       "              Volume  \n",
       "Date                  \n",
       "2018-08-08  22525500  \n",
       "2018-08-09  23492600  \n",
       "2018-08-10  24611200  \n",
       "2018-08-13  25890900  \n",
       "2018-08-14  20748000  "
      ]
     },
     "execution_count": 23,
     "metadata": {},
     "output_type": "execute_result"
    }
   ],
   "source": [
    "df['2018-08'].head()"
   ]
  },
  {
   "cell_type": "code",
   "execution_count": 26,
   "metadata": {},
   "outputs": [],
   "source": [
    "ts = np.random.random(1000)"
   ]
  },
  {
   "cell_type": "code",
   "execution_count": 28,
   "metadata": {},
   "outputs": [
    {
     "data": {
      "text/plain": [
       "[<matplotlib.lines.Line2D at 0x7fd50382ea00>]"
      ]
     },
     "execution_count": 28,
     "metadata": {},
     "output_type": "execute_result"
    },
    {
     "data": {
      "image/png": "[encoded data removed]",
      "text/plain": [
       "<Figure size 432x288 with 1 Axes>"
      ]
     },
     "metadata": {
      "needs_background": "light"
     },
     "output_type": "display_data"
    }
   ],
   "source": [
    "plt.plot(ts)"
   ]
  },
  {
   "cell_type": "code",
   "execution_count": 29,
   "metadata": {},
   "outputs": [
    {
     "data": {
      "text/plain": [
       "[<matplotlib.lines.Line2D at 0x7fd504430940>]"
      ]
     },
     "execution_count": 29,
     "metadata": {},
     "output_type": "execute_result"
    },
    {
     "data": {
      "image/png": "[encoded data removed]",
      "text/plain": [
       "<Figure size 432x288 with 1 Axes>"
      ]
     },
     "metadata": {
      "needs_background": "light"
     },
     "output_type": "display_data"
    }
   ],
   "source": [
    "plt.plot(df.Close)"
   ]
  },
  {
   "cell_type": "markdown",
   "metadata": {},
   "source": [
    "## Resampling\n",
    "---\n",
    "\n",
    "`df.resample()` is similar to `df.groupby()`, but with dates instead of categories."
   ]
  },
  {
   "cell_type": "code",
   "execution_count": 35,
   "metadata": {},
   "outputs": [
    {
     "data": {
      "text/plain": [
       "[<matplotlib.lines.Line2D at 0x7fd4f06e4cd0>]"
      ]
     },
     "execution_count": 35,
     "metadata": {},
     "output_type": "execute_result"
    },
    {
     "data": {
      "image/png": "[encoded data removed]",
      "text/plain": [
       "<Figure size 432x288 with 1 Axes>"
      ]
     },
     "metadata": {
      "needs_background": "light"
     },
     "output_type": "display_data"
    }
   ],
   "source": [
    "plt.plot(df.resample('Y').Close.mean())"
   ]
  },
  {
   "cell_type": "code",
   "execution_count": 36,
   "metadata": {},
   "outputs": [
    {
     "data": {
      "text/plain": [
       "[<matplotlib.lines.Line2D at 0x7fd50443d070>]"
      ]
     },
     "execution_count": 36,
     "metadata": {},
     "output_type": "execute_result"
    },
    {
     "data": {
      "image/png": "[encoded data removed]",
      "text/plain": [
       "<Figure size 432x288 with 1 Axes>"
      ]
     },
     "metadata": {
      "needs_background": "light"
     },
     "output_type": "display_data"
    }
   ],
   "source": [
    "plt.plot([df.Close[0], df.Close[1]])"
   ]
  },
  {
   "cell_type": "code",
   "execution_count": 38,
   "metadata": {},
   "outputs": [
    {
     "data": {
      "text/plain": [
       "[<matplotlib.lines.Line2D at 0x7fd503e77be0>]"
      ]
     },
     "execution_count": 38,
     "metadata": {},
     "output_type": "execute_result"
    },
    {
     "data": {
      "image/png": "[encoded data removed]",
      "text/plain": [
       "<Figure size 432x288 with 1 Axes>"
      ]
     },
     "metadata": {
      "needs_background": "light"
     },
     "output_type": "display_data"
    }
   ],
   "source": [
    "plt.plot([df.Close.mean(), df.Close.mean() ])"
   ]
  },
  {
   "cell_type": "markdown",
   "metadata": {},
   "source": [
    "## Lookup challenge\n",
    "---\n",
    "\n",
    "Where can you find all the resample options?"
   ]
  },
  {
   "cell_type": "code",
   "execution_count": null,
   "metadata": {},
   "outputs": [],
   "source": [
    "df.resample()"
   ]
  },
  {
   "cell_type": "markdown",
   "metadata": {},
   "source": [
    "## Rolling\n",
    "---\n",
    "\n",
    "With time series, we can \"roll\" statistics across time. For example, the rolling mean is the mean of a moving window across time periods. Pandas offers a variety of methods for creating rolling statistics, which we'll only scratch the surface of here. \n",
    "\n",
    "The syntax for these can be a little tricky at first. We'll be using a `rolling()` method with a statistical function chained to it. "
   ]
  },
  {
   "cell_type": "code",
   "execution_count": 42,
   "metadata": {},
   "outputs": [
    {
     "data": {
      "text/html": [
       "<div>\n",
       "<style scoped>\n",
       "    .dataframe tbody tr th:only-of-type {\n",
       "        vertical-align: middle;\n",
       "    }\n",
       "\n",
       "    .dataframe tbody tr th {\n",
       "        vertical-align: top;\n",
       "    }\n",
       "\n",
       "    .dataframe thead th {\n",
       "        text-align: right;\n",
       "    }\n",
       "</style>\n",
       "<table border=\"1\" class=\"dataframe\">\n",
       "  <thead>\n",
       "    <tr style=\"text-align: right;\">\n",
       "      <th></th>\n",
       "      <th>Open</th>\n",
       "      <th>High</th>\n",
       "      <th>Low</th>\n",
       "      <th>Close</th>\n",
       "      <th>Adj Close</th>\n",
       "      <th>Volume</th>\n",
       "    </tr>\n",
       "    <tr>\n",
       "      <th>Date</th>\n",
       "      <th></th>\n",
       "      <th></th>\n",
       "      <th></th>\n",
       "      <th></th>\n",
       "      <th></th>\n",
       "      <th></th>\n",
       "    </tr>\n",
       "  </thead>\n",
       "  <tbody>\n",
       "    <tr>\n",
       "      <th>2018-08-08</th>\n",
       "      <td>206.050003</td>\n",
       "      <td>207.809998</td>\n",
       "      <td>204.520004</td>\n",
       "      <td>207.250000</td>\n",
       "      <td>201.371887</td>\n",
       "      <td>22525500</td>\n",
       "    </tr>\n",
       "    <tr>\n",
       "      <th>2018-08-09</th>\n",
       "      <td>209.529999</td>\n",
       "      <td>209.779999</td>\n",
       "      <td>207.199997</td>\n",
       "      <td>208.880005</td>\n",
       "      <td>202.955643</td>\n",
       "      <td>23492600</td>\n",
       "    </tr>\n",
       "    <tr>\n",
       "      <th>2018-08-10</th>\n",
       "      <td>207.360001</td>\n",
       "      <td>209.100006</td>\n",
       "      <td>206.669998</td>\n",
       "      <td>207.529999</td>\n",
       "      <td>202.351089</td>\n",
       "      <td>24611200</td>\n",
       "    </tr>\n",
       "    <tr>\n",
       "      <th>2018-08-13</th>\n",
       "      <td>209.309998</td>\n",
       "      <td>210.949997</td>\n",
       "      <td>207.699997</td>\n",
       "      <td>208.869995</td>\n",
       "      <td>203.657639</td>\n",
       "      <td>25890900</td>\n",
       "    </tr>\n",
       "    <tr>\n",
       "      <th>2018-08-14</th>\n",
       "      <td>210.160004</td>\n",
       "      <td>210.559998</td>\n",
       "      <td>208.259995</td>\n",
       "      <td>209.750000</td>\n",
       "      <td>204.515747</td>\n",
       "      <td>20748000</td>\n",
       "    </tr>\n",
       "    <tr>\n",
       "      <th>2018-08-15</th>\n",
       "      <td>209.220001</td>\n",
       "      <td>210.740005</td>\n",
       "      <td>208.330002</td>\n",
       "      <td>210.240005</td>\n",
       "      <td>204.993484</td>\n",
       "      <td>28807600</td>\n",
       "    </tr>\n",
       "    <tr>\n",
       "      <th>2018-08-16</th>\n",
       "      <td>211.750000</td>\n",
       "      <td>213.809998</td>\n",
       "      <td>211.470001</td>\n",
       "      <td>213.320007</td>\n",
       "      <td>207.996643</td>\n",
       "      <td>28500400</td>\n",
       "    </tr>\n",
       "    <tr>\n",
       "      <th>2018-08-17</th>\n",
       "      <td>213.440002</td>\n",
       "      <td>217.949997</td>\n",
       "      <td>213.160004</td>\n",
       "      <td>217.580002</td>\n",
       "      <td>212.150299</td>\n",
       "      <td>35427000</td>\n",
       "    </tr>\n",
       "    <tr>\n",
       "      <th>2018-08-20</th>\n",
       "      <td>218.100006</td>\n",
       "      <td>219.179993</td>\n",
       "      <td>215.110001</td>\n",
       "      <td>215.460007</td>\n",
       "      <td>210.083221</td>\n",
       "      <td>30287700</td>\n",
       "    </tr>\n",
       "    <tr>\n",
       "      <th>2018-08-21</th>\n",
       "      <td>216.800003</td>\n",
       "      <td>217.190002</td>\n",
       "      <td>214.029999</td>\n",
       "      <td>215.039993</td>\n",
       "      <td>209.673691</td>\n",
       "      <td>26159800</td>\n",
       "    </tr>\n",
       "    <tr>\n",
       "      <th>2018-08-22</th>\n",
       "      <td>214.100006</td>\n",
       "      <td>216.360001</td>\n",
       "      <td>213.839996</td>\n",
       "      <td>215.050003</td>\n",
       "      <td>209.683456</td>\n",
       "      <td>19018100</td>\n",
       "    </tr>\n",
       "    <tr>\n",
       "      <th>2018-08-23</th>\n",
       "      <td>214.649994</td>\n",
       "      <td>217.050003</td>\n",
       "      <td>214.600006</td>\n",
       "      <td>215.490005</td>\n",
       "      <td>210.112488</td>\n",
       "      <td>18883200</td>\n",
       "    </tr>\n",
       "    <tr>\n",
       "      <th>2018-08-24</th>\n",
       "      <td>216.600006</td>\n",
       "      <td>216.899994</td>\n",
       "      <td>215.110001</td>\n",
       "      <td>216.160004</td>\n",
       "      <td>210.765762</td>\n",
       "      <td>18476400</td>\n",
       "    </tr>\n",
       "    <tr>\n",
       "      <th>2018-08-27</th>\n",
       "      <td>217.149994</td>\n",
       "      <td>218.740005</td>\n",
       "      <td>216.330002</td>\n",
       "      <td>217.940002</td>\n",
       "      <td>212.501312</td>\n",
       "      <td>20525100</td>\n",
       "    </tr>\n",
       "    <tr>\n",
       "      <th>2018-08-28</th>\n",
       "      <td>219.009995</td>\n",
       "      <td>220.539993</td>\n",
       "      <td>218.919998</td>\n",
       "      <td>219.699997</td>\n",
       "      <td>214.217407</td>\n",
       "      <td>22776800</td>\n",
       "    </tr>\n",
       "  </tbody>\n",
       "</table>\n",
       "</div>"
      ],
      "text/plain": [
       "                  Open        High         Low       Close   Adj Close  \\\n",
       "Date                                                                     \n",
       "2018-08-08  206.050003  207.809998  204.520004  207.250000  201.371887   \n",
       "2018-08-09  209.529999  209.779999  207.199997  208.880005  202.955643   \n",
       "2018-08-10  207.360001  209.100006  206.669998  207.529999  202.351089   \n",
       "2018-08-13  209.309998  210.949997  207.699997  208.869995  203.657639   \n",
       "2018-08-14  210.160004  210.559998  208.259995  209.750000  204.515747   \n",
       "2018-08-15  209.220001  210.740005  208.330002  210.240005  204.993484   \n",
       "2018-08-16  211.750000  213.809998  211.470001  213.320007  207.996643   \n",
       "2018-08-17  213.440002  217.949997  213.160004  217.580002  212.150299   \n",
       "2018-08-20  218.100006  219.179993  215.110001  215.460007  210.083221   \n",
       "2018-08-21  216.800003  217.190002  214.029999  215.039993  209.673691   \n",
       "2018-08-22  214.100006  216.360001  213.839996  215.050003  209.683456   \n",
       "2018-08-23  214.649994  217.050003  214.600006  215.490005  210.112488   \n",
       "2018-08-24  216.600006  216.899994  215.110001  216.160004  210.765762   \n",
       "2018-08-27  217.149994  218.740005  216.330002  217.940002  212.501312   \n",
       "2018-08-28  219.009995  220.539993  218.919998  219.699997  214.217407   \n",
       "\n",
       "              Volume  \n",
       "Date                  \n",
       "2018-08-08  22525500  \n",
       "2018-08-09  23492600  \n",
       "2018-08-10  24611200  \n",
       "2018-08-13  25890900  \n",
       "2018-08-14  20748000  \n",
       "2018-08-15  28807600  \n",
       "2018-08-16  28500400  \n",
       "2018-08-17  35427000  \n",
       "2018-08-20  30287700  \n",
       "2018-08-21  26159800  \n",
       "2018-08-22  19018100  \n",
       "2018-08-23  18883200  \n",
       "2018-08-24  18476400  \n",
       "2018-08-27  20525100  \n",
       "2018-08-28  22776800  "
      ]
     },
     "execution_count": 42,
     "metadata": {},
     "output_type": "execute_result"
    }
   ],
   "source": [
    "df.head(15)"
   ]
  },
  {
   "cell_type": "code",
   "execution_count": 52,
   "metadata": {},
   "outputs": [],
   "source": [
    "df_r5 = df.rolling(125).mean()"
   ]
  },
  {
   "cell_type": "code",
   "execution_count": 53,
   "metadata": {},
   "outputs": [
    {
     "data": {
      "text/plain": [
       "[<matplotlib.lines.Line2D at 0x7fd4c18ffc70>]"
      ]
     },
     "execution_count": 53,
     "metadata": {},
     "output_type": "execute_result"
    },
    {
     "data": {
      "image/png": "[encoded data removed]",
      "text/plain": [
       "<Figure size 432x288 with 1 Axes>"
      ]
     },
     "metadata": {
      "needs_background": "light"
     },
     "output_type": "display_data"
    }
   ],
   "source": [
    "plt.plot(df.Close)"
   ]
  },
  {
   "cell_type": "code",
   "execution_count": 54,
   "metadata": {},
   "outputs": [
    {
     "data": {
      "text/plain": [
       "[<matplotlib.lines.Line2D at 0x7fd5044a3790>]"
      ]
     },
     "execution_count": 54,
     "metadata": {},
     "output_type": "execute_result"
    },
    {
     "data": {
      "image/png": "[encoded data removed]",
      "text/plain": [
       "<Figure size 432x288 with 1 Axes>"
      ]
     },
     "metadata": {
      "needs_background": "light"
     },
     "output_type": "display_data"
    }
   ],
   "source": [
    "plt.plot(df_r5.Close)"
   ]
  },
  {
   "cell_type": "code",
   "execution_count": 56,
   "metadata": {},
   "outputs": [
    {
     "data": {
      "text/plain": [
       "504"
      ]
     },
     "execution_count": 56,
     "metadata": {},
     "output_type": "execute_result"
    }
   ],
   "source": [
    "df.Close.shape[0]"
   ]
  },
  {
   "cell_type": "markdown",
   "metadata": {},
   "source": [
    "## Challenge\n",
    "---\n",
    "\n",
    "Plot a line chart with two lines:\n",
    "1. The `Open` price\n",
    "2. The 30 day rolling mean of the `Open` price"
   ]
  },
  {
   "cell_type": "code",
   "execution_count": null,
   "metadata": {},
   "outputs": [],
   "source": []
  },
  {
   "cell_type": "markdown",
   "metadata": {},
   "source": [
    "## `.diff()`\n",
    "---\n",
    "The `.diff()` calculates the difference in a value between a value at time $T$ and that same value at $T-1$. For example, if I have a dataframe of stock prices:\n",
    "\n",
    "<table style=\"float: left;\">\n",
    "  <thead>\n",
    "    <tr>\n",
    "      <th></th>\n",
    "      <th>Close</th>\n",
    "    </tr>\n",
    "  </thead>\n",
    "  <tbody>\n",
    "    <tr>\n",
    "      <th>1-1-2019</th>\n",
    "      <td>100</td>\n",
    "    </tr>\n",
    "    <tr>\n",
    "      <th>1-2-2019</th>\n",
    "      <td>110</td>\n",
    "    </tr>\n",
    "  </tbody>\n",
    "</table>\n",
    "\n",
    "<div style=\"clear: both;\"></div>\n",
    "\n",
    "When I call `.diff()`, I get the following:\n",
    "<table style=\"float: left;\">\n",
    "  <thead>\n",
    "    <tr>\n",
    "      <th></th>\n",
    "      <th>Close</th>\n",
    "    </tr>\n",
    "  </thead>\n",
    "  <tbody>\n",
    "    <tr>\n",
    "      <th>1-1-2019</th>\n",
    "      <td>NaN</td>\n",
    "    </tr>\n",
    "    <tr>\n",
    "      <th>1-2-2019</th>\n",
    "      <td>10</td>\n",
    "    </tr>\n",
    "  </tbody>\n",
    "</table>\n",
    "<div style=\"clear: both;\"></div>\n"
   ]
  },
  {
   "cell_type": "code",
   "execution_count": 58,
   "metadata": {},
   "outputs": [
    {
     "data": {
      "text/plain": [
       "[<matplotlib.lines.Line2D at 0x7fd4c1a33160>]"
      ]
     },
     "execution_count": 58,
     "metadata": {},
     "output_type": "execute_result"
    },
    {
     "data": {
      "image/png": "[encoded data removed]",
      "text/plain": [
       "<Figure size 432x288 with 1 Axes>"
      ]
     },
     "metadata": {
      "needs_background": "light"
     },
     "output_type": "display_data"
    }
   ],
   "source": [
    "plt.plot(df.Close)"
   ]
  },
  {
   "cell_type": "code",
   "execution_count": 57,
   "metadata": {},
   "outputs": [
    {
     "data": {
      "text/plain": [
       "Date\n",
       "2018-08-08          NaN\n",
       "2018-08-09     1.630005\n",
       "2018-08-10    -1.350006\n",
       "2018-08-13     1.339996\n",
       "2018-08-14     0.880005\n",
       "                ...    \n",
       "2020-08-03    10.709991\n",
       "2020-08-04     2.910004\n",
       "2020-08-05     1.589996\n",
       "2020-08-06    15.359985\n",
       "2020-08-07   -11.159973\n",
       "Name: Close, Length: 504, dtype: float64"
      ]
     },
     "execution_count": 57,
     "metadata": {},
     "output_type": "execute_result"
    }
   ],
   "source": [
    "df.Close.diff(1)"
   ]
  },
  {
   "cell_type": "code",
   "execution_count": null,
   "metadata": {},
   "outputs": [],
   "source": []
  },
  {
   "cell_type": "markdown",
   "metadata": {},
   "source": [
    "## `.pct_change()` \n",
    "---\n",
    "\n",
    "`.pct_change()` works similar to `.diff()`, except we're calculating the difference as a change in percentage: $X_{t}/X_{t-1} - 1$\n",
    "\n",
    "So if I have my table of stock prices:\n",
    "\n",
    "<table style=\"float: left;\">\n",
    "  <thead>\n",
    "    <tr>\n",
    "      <th></th>\n",
    "      <th>Close</th>\n",
    "    </tr>\n",
    "  </thead>\n",
    "  <tbody>\n",
    "    <tr>\n",
    "      <th>1-1-2019</th>\n",
    "      <td>100</td>\n",
    "    </tr>\n",
    "    <tr>\n",
    "      <th>1-2-2019</th>\n",
    "      <td>110</td>\n",
    "    </tr>\n",
    "  </tbody>\n",
    "</table>\n",
    "\n",
    "<div style=\"clear: both;\"></div>\n",
    "\n",
    "The `.pct_change()` will look like this:\n",
    "\n",
    "<table style=\"float: left;\">\n",
    "  <thead>\n",
    "    <tr>\n",
    "      <th></th>\n",
    "      <th>Close</th>\n",
    "    </tr>\n",
    "  </thead>\n",
    "  <tbody>\n",
    "    <tr>\n",
    "      <th>1-1-2019</th>\n",
    "      <td>NaN</td>\n",
    "    </tr>\n",
    "    <tr>\n",
    "      <th>1-2-2019</th>\n",
    "      <td>.1</td>\n",
    "    </tr>\n",
    "  </tbody>\n",
    "</table>\n",
    "\n",
    "<div style=\"clear: both;\"></div>\n",
    "\n",
    "\n",
    "We'd interpret 1-2-2019 as a 10% increase (110/100 - 1 = .10) in price from the day before. Again, the first row is a `NaN` since there is no prior row to calcuate the percent change from."
   ]
  },
  {
   "cell_type": "code",
   "execution_count": 67,
   "metadata": {},
   "outputs": [
    {
     "data": {
      "text/plain": [
       "Date\n",
       "2018-08-08         NaN\n",
       "2018-08-09    0.007865\n",
       "2018-08-10   -0.006463\n",
       "2018-08-13    0.006457\n",
       "2018-08-14    0.004213\n",
       "                ...   \n",
       "2020-08-03    0.025198\n",
       "2020-08-04    0.006678\n",
       "2020-08-05    0.003625\n",
       "2020-08-06    0.034889\n",
       "2020-08-07   -0.024495\n",
       "Name: Close, Length: 504, dtype: float64"
      ]
     },
     "execution_count": 67,
     "metadata": {},
     "output_type": "execute_result"
    }
   ],
   "source": [
    "df.Close.pct_change(1)"
   ]
  },
  {
   "cell_type": "code",
   "execution_count": 66,
   "metadata": {},
   "outputs": [
    {
     "data": {
      "text/plain": [
       "[<matplotlib.lines.Line2D at 0x7fd5048c0d30>]"
      ]
     },
     "execution_count": 66,
     "metadata": {},
     "output_type": "execute_result"
    },
    {
     "data": {
      "image/png": "[encoded data removed]",
      "text/plain": [
       "<Figure size 432x288 with 1 Axes>"
      ]
     },
     "metadata": {
      "needs_background": "light"
     },
     "output_type": "display_data"
    }
   ],
   "source": [
    "plt.plot(df.Close.diff(1))"
   ]
  },
  {
   "cell_type": "code",
   "execution_count": 68,
   "metadata": {},
   "outputs": [
    {
     "data": {
      "text/plain": [
       "[<matplotlib.lines.Line2D at 0x7fd504ab5850>]"
      ]
     },
     "execution_count": 68,
     "metadata": {},
     "output_type": "execute_result"
    },
    {
     "data": {
      "image/png": "[encoded data removed]",
      "text/plain": [
       "<Figure size 432x288 with 1 Axes>"
      ]
     },
     "metadata": {
      "needs_background": "light"
     },
     "output_type": "display_data"
    }
   ],
   "source": [
    "plt.plot(df.Close.pct_change(1))"
   ]
  },
  {
   "cell_type": "markdown",
   "metadata": {},
   "source": [
    "## Challenge\n",
    "---\n",
    "\n",
    "Create three **separate** plots:\n",
    "1. One for the `Close` price\n",
    "2. One for the `Close` price, using `.diff()`\n",
    "3. One for the `Close` price as a percent change.\n",
    "\n",
    "What happens to your overall data when you diff?"
   ]
  },
  {
   "cell_type": "code",
   "execution_count": null,
   "metadata": {},
   "outputs": [],
   "source": []
  },
  {
   "cell_type": "markdown",
   "metadata": {},
   "source": [
    "[Why would we difference?](https://otexts.com/fpp2/stationarity.html) Well, there is one assumption that is **required** for nearly every time series model: **stationarity**.\n",
    "- If our time series is stationary, then we do not need to difference\n",
    "- If our time series is not stationary, then we difference either once (`df.diff()`) or twice (`df.diff().diff()`). Differenced data often is stationary, so we difference our data, then model that!\n",
    "\n",
    "## What is stationarity?\n",
    "---\n",
    "\n",
    "Informally, stationarity means that there **aren't systematic changes in our time series over time**.\n",
    "- Our mean stays the same. (There is no trend.)\n",
    "- The autocorrelation between $Y_t$ and $Y_{t-k}$ depends only on the size of our lag $k$. (There is no seasonality.)\n",
    "- A [white noise process](https://stats.stackexchange.com/questions/7070/what-is-a-white-noise-process) is a common example of a stationary time series.\n",
    "\n",
    "The problem is, many time series **aren't** stationary.\n",
    "- The amount that stock prices vary on a day-to-day basis aren't going to be the same.\n",
    "- Crop prices may increase or decrease over time; assuming a constant mean here doesn't make sense.\n"
   ]
  },
  {
   "cell_type": "markdown",
   "metadata": {},
   "source": [
    "## Shifting\n",
    "---\n",
    "\n",
    "`df.shift()` is used to bring values from previous dates forward in time."
   ]
  },
  {
   "cell_type": "code",
   "execution_count": 75,
   "metadata": {},
   "outputs": [
    {
     "data": {
      "text/html": [
       "<div>\n",
       "<style scoped>\n",
       "    .dataframe tbody tr th:only-of-type {\n",
       "        vertical-align: middle;\n",
       "    }\n",
       "\n",
       "    .dataframe tbody tr th {\n",
       "        vertical-align: top;\n",
       "    }\n",
       "\n",
       "    .dataframe thead th {\n",
       "        text-align: right;\n",
       "    }\n",
       "</style>\n",
       "<table border=\"1\" class=\"dataframe\">\n",
       "  <thead>\n",
       "    <tr style=\"text-align: right;\">\n",
       "      <th></th>\n",
       "      <th>Close</th>\n",
       "      <th>Close</th>\n",
       "    </tr>\n",
       "    <tr>\n",
       "      <th>Date</th>\n",
       "      <th></th>\n",
       "      <th></th>\n",
       "    </tr>\n",
       "  </thead>\n",
       "  <tbody>\n",
       "    <tr>\n",
       "      <th>2018-08-08</th>\n",
       "      <td>207.250000</td>\n",
       "      <td>NaN</td>\n",
       "    </tr>\n",
       "    <tr>\n",
       "      <th>2018-08-09</th>\n",
       "      <td>208.880005</td>\n",
       "      <td>207.250000</td>\n",
       "    </tr>\n",
       "    <tr>\n",
       "      <th>2018-08-10</th>\n",
       "      <td>207.529999</td>\n",
       "      <td>208.880005</td>\n",
       "    </tr>\n",
       "    <tr>\n",
       "      <th>2018-08-13</th>\n",
       "      <td>208.869995</td>\n",
       "      <td>207.529999</td>\n",
       "    </tr>\n",
       "    <tr>\n",
       "      <th>2018-08-14</th>\n",
       "      <td>209.750000</td>\n",
       "      <td>208.869995</td>\n",
       "    </tr>\n",
       "    <tr>\n",
       "      <th>...</th>\n",
       "      <td>...</td>\n",
       "      <td>...</td>\n",
       "    </tr>\n",
       "    <tr>\n",
       "      <th>2020-08-03</th>\n",
       "      <td>435.750000</td>\n",
       "      <td>425.040009</td>\n",
       "    </tr>\n",
       "    <tr>\n",
       "      <th>2020-08-04</th>\n",
       "      <td>438.660004</td>\n",
       "      <td>435.750000</td>\n",
       "    </tr>\n",
       "    <tr>\n",
       "      <th>2020-08-05</th>\n",
       "      <td>440.250000</td>\n",
       "      <td>438.660004</td>\n",
       "    </tr>\n",
       "    <tr>\n",
       "      <th>2020-08-06</th>\n",
       "      <td>455.609985</td>\n",
       "      <td>440.250000</td>\n",
       "    </tr>\n",
       "    <tr>\n",
       "      <th>2020-08-07</th>\n",
       "      <td>444.450012</td>\n",
       "      <td>455.609985</td>\n",
       "    </tr>\n",
       "  </tbody>\n",
       "</table>\n",
       "<p>504 rows × 2 columns</p>\n",
       "</div>"
      ],
      "text/plain": [
       "                 Close       Close\n",
       "Date                              \n",
       "2018-08-08  207.250000         NaN\n",
       "2018-08-09  208.880005  207.250000\n",
       "2018-08-10  207.529999  208.880005\n",
       "2018-08-13  208.869995  207.529999\n",
       "2018-08-14  209.750000  208.869995\n",
       "...                ...         ...\n",
       "2020-08-03  435.750000  425.040009\n",
       "2020-08-04  438.660004  435.750000\n",
       "2020-08-05  440.250000  438.660004\n",
       "2020-08-06  455.609985  440.250000\n",
       "2020-08-07  444.450012  455.609985\n",
       "\n",
       "[504 rows x 2 columns]"
      ]
     },
     "execution_count": 75,
     "metadata": {},
     "output_type": "execute_result"
    }
   ],
   "source": [
    "pd.concat([df.Close, df.Close.shift(1)], axis=1)"
   ]
  },
  {
   "cell_type": "code",
   "execution_count": 80,
   "metadata": {},
   "outputs": [
    {
     "data": {
      "text/html": [
       "<div>\n",
       "<style scoped>\n",
       "    .dataframe tbody tr th:only-of-type {\n",
       "        vertical-align: middle;\n",
       "    }\n",
       "\n",
       "    .dataframe tbody tr th {\n",
       "        vertical-align: top;\n",
       "    }\n",
       "\n",
       "    .dataframe thead th {\n",
       "        text-align: right;\n",
       "    }\n",
       "</style>\n",
       "<table border=\"1\" class=\"dataframe\">\n",
       "  <thead>\n",
       "    <tr style=\"text-align: right;\">\n",
       "      <th></th>\n",
       "      <th>Close</th>\n",
       "      <th>Close</th>\n",
       "    </tr>\n",
       "  </thead>\n",
       "  <tbody>\n",
       "    <tr>\n",
       "      <th>Close</th>\n",
       "      <td>1.000000</td>\n",
       "      <td>-0.709077</td>\n",
       "    </tr>\n",
       "    <tr>\n",
       "      <th>Close</th>\n",
       "      <td>-0.709077</td>\n",
       "      <td>1.000000</td>\n",
       "    </tr>\n",
       "  </tbody>\n",
       "</table>\n",
       "</div>"
      ],
      "text/plain": [
       "          Close     Close\n",
       "Close  1.000000 -0.709077\n",
       "Close -0.709077  1.000000"
      ]
     },
     "execution_count": 80,
     "metadata": {},
     "output_type": "execute_result"
    }
   ],
   "source": [
    "pd.concat([df.Close, df.Close.shift(365)], axis=1)[1:].corr()"
   ]
  },
  {
   "cell_type": "markdown",
   "metadata": {},
   "source": [
    "## Creating a simple dataset\n",
    "---\n",
    "\n",
    "Let's create a simple dataset that tries to predict today's `Close` price using yesterday's `Close` price with today's `Open` price. \n",
    "\n",
    "**NOTE:** Remember we want stationarity!"
   ]
  },
  {
   "cell_type": "code",
   "execution_count": 81,
   "metadata": {},
   "outputs": [
    {
     "data": {
      "text/html": [
       "<div>\n",
       "<style scoped>\n",
       "    .dataframe tbody tr th:only-of-type {\n",
       "        vertical-align: middle;\n",
       "    }\n",
       "\n",
       "    .dataframe tbody tr th {\n",
       "        vertical-align: top;\n",
       "    }\n",
       "\n",
       "    .dataframe thead th {\n",
       "        text-align: right;\n",
       "    }\n",
       "</style>\n",
       "<table border=\"1\" class=\"dataframe\">\n",
       "  <thead>\n",
       "    <tr style=\"text-align: right;\">\n",
       "      <th></th>\n",
       "      <th>close_shift</th>\n",
       "      <th>Open</th>\n",
       "      <th>open_target</th>\n",
       "    </tr>\n",
       "    <tr>\n",
       "      <th>Date</th>\n",
       "      <th></th>\n",
       "      <th></th>\n",
       "      <th></th>\n",
       "    </tr>\n",
       "  </thead>\n",
       "  <tbody>\n",
       "    <tr>\n",
       "      <th>2018-08-09</th>\n",
       "      <td>207.250000</td>\n",
       "      <td>209.529999</td>\n",
       "      <td>207.360001</td>\n",
       "    </tr>\n",
       "    <tr>\n",
       "      <th>2018-08-10</th>\n",
       "      <td>208.880005</td>\n",
       "      <td>207.360001</td>\n",
       "      <td>209.309998</td>\n",
       "    </tr>\n",
       "    <tr>\n",
       "      <th>2018-08-13</th>\n",
       "      <td>207.529999</td>\n",
       "      <td>209.309998</td>\n",
       "      <td>210.160004</td>\n",
       "    </tr>\n",
       "    <tr>\n",
       "      <th>2018-08-14</th>\n",
       "      <td>208.869995</td>\n",
       "      <td>210.160004</td>\n",
       "      <td>209.220001</td>\n",
       "    </tr>\n",
       "    <tr>\n",
       "      <th>2018-08-15</th>\n",
       "      <td>209.750000</td>\n",
       "      <td>209.220001</td>\n",
       "      <td>211.750000</td>\n",
       "    </tr>\n",
       "    <tr>\n",
       "      <th>...</th>\n",
       "      <td>...</td>\n",
       "      <td>...</td>\n",
       "      <td>...</td>\n",
       "    </tr>\n",
       "    <tr>\n",
       "      <th>2020-08-03</th>\n",
       "      <td>425.040009</td>\n",
       "      <td>432.799988</td>\n",
       "      <td>436.529999</td>\n",
       "    </tr>\n",
       "    <tr>\n",
       "      <th>2020-08-04</th>\n",
       "      <td>435.750000</td>\n",
       "      <td>436.529999</td>\n",
       "      <td>437.510010</td>\n",
       "    </tr>\n",
       "    <tr>\n",
       "      <th>2020-08-05</th>\n",
       "      <td>438.660004</td>\n",
       "      <td>437.510010</td>\n",
       "      <td>441.619995</td>\n",
       "    </tr>\n",
       "    <tr>\n",
       "      <th>2020-08-06</th>\n",
       "      <td>440.250000</td>\n",
       "      <td>441.619995</td>\n",
       "      <td>452.820007</td>\n",
       "    </tr>\n",
       "    <tr>\n",
       "      <th>2020-08-07</th>\n",
       "      <td>455.609985</td>\n",
       "      <td>452.820007</td>\n",
       "      <td>NaN</td>\n",
       "    </tr>\n",
       "  </tbody>\n",
       "</table>\n",
       "<p>503 rows × 3 columns</p>\n",
       "</div>"
      ],
      "text/plain": [
       "            close_shift        Open  open_target\n",
       "Date                                            \n",
       "2018-08-09   207.250000  209.529999   207.360001\n",
       "2018-08-10   208.880005  207.360001   209.309998\n",
       "2018-08-13   207.529999  209.309998   210.160004\n",
       "2018-08-14   208.869995  210.160004   209.220001\n",
       "2018-08-15   209.750000  209.220001   211.750000\n",
       "...                 ...         ...          ...\n",
       "2020-08-03   425.040009  432.799988   436.529999\n",
       "2020-08-04   435.750000  436.529999   437.510010\n",
       "2020-08-05   438.660004  437.510010   441.619995\n",
       "2020-08-06   440.250000  441.619995   452.820007\n",
       "2020-08-07   455.609985  452.820007          NaN\n",
       "\n",
       "[503 rows x 3 columns]"
      ]
     },
     "execution_count": 81,
     "metadata": {},
     "output_type": "execute_result"
    }
   ],
   "source": [
    "df['close_shift'] = df.Close.shift(1)\n",
    "df['open_target'] = df.Open.shift(-1)\n",
    "predict_df = df[['close_shift','Open','open_target']][1:]\n",
    "predict_df"
   ]
  },
  {
   "cell_type": "code",
   "execution_count": 89,
   "metadata": {},
   "outputs": [],
   "source": [
    "lightning = [\"Stephanie\",\n",
    "\"Lucus\",\n",
    "\"Allen\",\n",
    "\"Chin Xia\",\n",
    "\"Tresha\",\n",
    "\"Edward\",\n",
    "\"Dale\",\n",
    "\"Kun Won\",\n",
    "\"Thomas\",\n",
    "\"Derrick\",\n",
    "\"Dave\",\n",
    "\"Mark\",\n",
    "\"Lloyd\",\n",
    "\"Jean\",\n",
    "\"Clarence\"]\n",
    "np.random.shuffle(lightning)"
   ]
  },
  {
   "cell_type": "code",
   "execution_count": 90,
   "metadata": {},
   "outputs": [
    {
     "data": {
      "text/plain": [
       "['Derrick',\n",
       " 'Edward',\n",
       " 'Thomas',\n",
       " 'Chin Xia',\n",
       " 'Tresha',\n",
       " 'Allen',\n",
       " 'Stephanie',\n",
       " 'Mark',\n",
       " 'Dale',\n",
       " 'Clarence',\n",
       " 'Lucus',\n",
       " 'Lloyd',\n",
       " 'Dave',\n",
       " 'Jean',\n",
       " 'Kun Won']"
      ]
     },
     "execution_count": 90,
     "metadata": {},
     "output_type": "execute_result"
    }
   ],
   "source": [
    "lightning"
   ]
  },
  {
   "cell_type": "code",
   "execution_count": null,
   "metadata": {},
   "outputs": [],
   "source": []
  }
 ],
 "metadata": {
  "kernelspec": {
   "display_name": "Python 3",
   "language": "python",
   "name": "python3"
  },
  "language_info": {
   "codemirror_mode": {
    "name": "ipython",
    "version": 3
   },
   "file_extension": ".py",
   "mimetype": "text/x-python",
   "name": "python",
   "nbconvert_exporter": "python",
   "pygments_lexer": "ipython3",
   "version": "3.8.5"
  }
 },
 "nbformat": 4,
 "nbformat_minor": 2
}
