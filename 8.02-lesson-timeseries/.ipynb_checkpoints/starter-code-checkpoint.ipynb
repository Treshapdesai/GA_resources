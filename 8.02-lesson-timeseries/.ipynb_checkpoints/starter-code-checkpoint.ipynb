{
 "cells": [
  {
   "cell_type": "code",
<<<<<<< HEAD
   "execution_count": null,
=======
   "execution_count": 2,
>>>>>>> 8d26addfff9a21b3080ddfa0dcf29c82cb2e27ca
   "metadata": {},
   "outputs": [],
   "source": [
    "import pandas as pd\n",
    "import numpy as np\n",
    "import matplotlib.pyplot as plt\n",
    "\n",
    "%matplotlib inline"
   ]
  },
  {
   "cell_type": "markdown",
   "metadata": {},
   "source": [
    "## Load data\n",
    "---\n",
    "\n",
    "We'll use [Yahoo! Finance](https://finance.yahoo.com/quote/AAPL) to get a few years worth of stock prices from Apple, Inc. (AAPL)"
   ]
  },
  {
   "cell_type": "code",
<<<<<<< HEAD
   "execution_count": null,
   "metadata": {},
   "outputs": [],
   "source": [
    "# Load data"
=======
   "execution_count": 4,
   "metadata": {},
   "outputs": [
    {
     "data": {
      "text/html": [
       "<div>\n",
       "<style scoped>\n",
       "    .dataframe tbody tr th:only-of-type {\n",
       "        vertical-align: middle;\n",
       "    }\n",
       "\n",
       "    .dataframe tbody tr th {\n",
       "        vertical-align: top;\n",
       "    }\n",
       "\n",
       "    .dataframe thead th {\n",
       "        text-align: right;\n",
       "    }\n",
       "</style>\n",
       "<table border=\"1\" class=\"dataframe\">\n",
       "  <thead>\n",
       "    <tr style=\"text-align: right;\">\n",
       "      <th></th>\n",
       "      <th>Date</th>\n",
       "      <th>Open</th>\n",
       "      <th>High</th>\n",
       "      <th>Low</th>\n",
       "      <th>Close</th>\n",
       "      <th>Adj Close</th>\n",
       "      <th>Volume</th>\n",
       "    </tr>\n",
       "  </thead>\n",
       "  <tbody>\n",
       "    <tr>\n",
       "      <th>0</th>\n",
       "      <td>2018-08-08</td>\n",
       "      <td>206.050003</td>\n",
       "      <td>207.809998</td>\n",
       "      <td>204.520004</td>\n",
       "      <td>207.250000</td>\n",
       "      <td>201.371887</td>\n",
       "      <td>22525500</td>\n",
       "    </tr>\n",
       "    <tr>\n",
       "      <th>1</th>\n",
       "      <td>2018-08-09</td>\n",
       "      <td>209.529999</td>\n",
       "      <td>209.779999</td>\n",
       "      <td>207.199997</td>\n",
       "      <td>208.880005</td>\n",
       "      <td>202.955643</td>\n",
       "      <td>23492600</td>\n",
       "    </tr>\n",
       "    <tr>\n",
       "      <th>2</th>\n",
       "      <td>2018-08-10</td>\n",
       "      <td>207.360001</td>\n",
       "      <td>209.100006</td>\n",
       "      <td>206.669998</td>\n",
       "      <td>207.529999</td>\n",
       "      <td>202.351089</td>\n",
       "      <td>24611200</td>\n",
       "    </tr>\n",
       "    <tr>\n",
       "      <th>3</th>\n",
       "      <td>2018-08-13</td>\n",
       "      <td>209.309998</td>\n",
       "      <td>210.949997</td>\n",
       "      <td>207.699997</td>\n",
       "      <td>208.869995</td>\n",
       "      <td>203.657639</td>\n",
       "      <td>25890900</td>\n",
       "    </tr>\n",
       "    <tr>\n",
       "      <th>4</th>\n",
       "      <td>2018-08-14</td>\n",
       "      <td>210.160004</td>\n",
       "      <td>210.559998</td>\n",
       "      <td>208.259995</td>\n",
       "      <td>209.750000</td>\n",
       "      <td>204.515747</td>\n",
       "      <td>20748000</td>\n",
       "    </tr>\n",
       "  </tbody>\n",
       "</table>\n",
       "</div>"
      ],
      "text/plain": [
       "         Date        Open        High         Low       Close   Adj Close  \\\n",
       "0  2018-08-08  206.050003  207.809998  204.520004  207.250000  201.371887   \n",
       "1  2018-08-09  209.529999  209.779999  207.199997  208.880005  202.955643   \n",
       "2  2018-08-10  207.360001  209.100006  206.669998  207.529999  202.351089   \n",
       "3  2018-08-13  209.309998  210.949997  207.699997  208.869995  203.657639   \n",
       "4  2018-08-14  210.160004  210.559998  208.259995  209.750000  204.515747   \n",
       "\n",
       "     Volume  \n",
       "0  22525500  \n",
       "1  23492600  \n",
       "2  24611200  \n",
       "3  25890900  \n",
       "4  20748000  "
      ]
     },
     "execution_count": 4,
     "metadata": {},
     "output_type": "execute_result"
    }
   ],
   "source": [
    "# Load data\n",
    "df = pd.read_csv(\"./datasets/aapl.csv\")\n",
    "df.head()"
>>>>>>> 8d26addfff9a21b3080ddfa0dcf29c82cb2e27ca
   ]
  },
  {
   "cell_type": "code",
<<<<<<< HEAD
   "execution_count": null,
   "metadata": {},
   "outputs": [],
   "source": [
    "# Change date column to be datetime dtype"
=======
   "execution_count": 6,
   "metadata": {},
   "outputs": [],
   "source": [
    "# Change date column to be datetime dtype\n",
    "df['Date'] = pd.to_datetime(df.Date)"
   ]
  },
  {
   "cell_type": "code",
   "execution_count": 7,
   "metadata": {},
   "outputs": [
    {
     "data": {
      "text/html": [
       "<div>\n",
       "<style scoped>\n",
       "    .dataframe tbody tr th:only-of-type {\n",
       "        vertical-align: middle;\n",
       "    }\n",
       "\n",
       "    .dataframe tbody tr th {\n",
       "        vertical-align: top;\n",
       "    }\n",
       "\n",
       "    .dataframe thead th {\n",
       "        text-align: right;\n",
       "    }\n",
       "</style>\n",
       "<table border=\"1\" class=\"dataframe\">\n",
       "  <thead>\n",
       "    <tr style=\"text-align: right;\">\n",
       "      <th></th>\n",
       "      <th>Date</th>\n",
       "      <th>Open</th>\n",
       "      <th>High</th>\n",
       "      <th>Low</th>\n",
       "      <th>Close</th>\n",
       "      <th>Adj Close</th>\n",
       "      <th>Volume</th>\n",
       "    </tr>\n",
       "  </thead>\n",
       "  <tbody>\n",
       "    <tr>\n",
       "      <th>0</th>\n",
       "      <td>2018-08-08</td>\n",
       "      <td>206.050003</td>\n",
       "      <td>207.809998</td>\n",
       "      <td>204.520004</td>\n",
       "      <td>207.250000</td>\n",
       "      <td>201.371887</td>\n",
       "      <td>22525500</td>\n",
       "    </tr>\n",
       "    <tr>\n",
       "      <th>1</th>\n",
       "      <td>2018-08-09</td>\n",
       "      <td>209.529999</td>\n",
       "      <td>209.779999</td>\n",
       "      <td>207.199997</td>\n",
       "      <td>208.880005</td>\n",
       "      <td>202.955643</td>\n",
       "      <td>23492600</td>\n",
       "    </tr>\n",
       "    <tr>\n",
       "      <th>2</th>\n",
       "      <td>2018-08-10</td>\n",
       "      <td>207.360001</td>\n",
       "      <td>209.100006</td>\n",
       "      <td>206.669998</td>\n",
       "      <td>207.529999</td>\n",
       "      <td>202.351089</td>\n",
       "      <td>24611200</td>\n",
       "    </tr>\n",
       "    <tr>\n",
       "      <th>3</th>\n",
       "      <td>2018-08-13</td>\n",
       "      <td>209.309998</td>\n",
       "      <td>210.949997</td>\n",
       "      <td>207.699997</td>\n",
       "      <td>208.869995</td>\n",
       "      <td>203.657639</td>\n",
       "      <td>25890900</td>\n",
       "    </tr>\n",
       "    <tr>\n",
       "      <th>4</th>\n",
       "      <td>2018-08-14</td>\n",
       "      <td>210.160004</td>\n",
       "      <td>210.559998</td>\n",
       "      <td>208.259995</td>\n",
       "      <td>209.750000</td>\n",
       "      <td>204.515747</td>\n",
       "      <td>20748000</td>\n",
       "    </tr>\n",
       "  </tbody>\n",
       "</table>\n",
       "</div>"
      ],
      "text/plain": [
       "        Date        Open        High         Low       Close   Adj Close  \\\n",
       "0 2018-08-08  206.050003  207.809998  204.520004  207.250000  201.371887   \n",
       "1 2018-08-09  209.529999  209.779999  207.199997  208.880005  202.955643   \n",
       "2 2018-08-10  207.360001  209.100006  206.669998  207.529999  202.351089   \n",
       "3 2018-08-13  209.309998  210.949997  207.699997  208.869995  203.657639   \n",
       "4 2018-08-14  210.160004  210.559998  208.259995  209.750000  204.515747   \n",
       "\n",
       "     Volume  \n",
       "0  22525500  \n",
       "1  23492600  \n",
       "2  24611200  \n",
       "3  25890900  \n",
       "4  20748000  "
      ]
     },
     "execution_count": 7,
     "metadata": {},
     "output_type": "execute_result"
    }
   ],
   "source": [
    "df.head()"
>>>>>>> 8d26addfff9a21b3080ddfa0dcf29c82cb2e27ca
   ]
  },
  {
   "cell_type": "markdown",
   "metadata": {},
   "source": [
    "## Set the `Date` column to be the index\n",
    "---\n",
    "\n",
    "We'll be exploring a few `pandas` methods related to time series data. In order for them to work we need to set the `Date` column to be the index."
   ]
  },
  {
   "cell_type": "code",
<<<<<<< HEAD
   "execution_count": null,
   "metadata": {},
   "outputs": [],
   "source": [
    "# Set Date to be in the index"
=======
   "execution_count": 8,
   "metadata": {},
   "outputs": [
    {
     "data": {
      "text/html": [
       "<div>\n",
       "<style scoped>\n",
       "    .dataframe tbody tr th:only-of-type {\n",
       "        vertical-align: middle;\n",
       "    }\n",
       "\n",
       "    .dataframe tbody tr th {\n",
       "        vertical-align: top;\n",
       "    }\n",
       "\n",
       "    .dataframe thead th {\n",
       "        text-align: right;\n",
       "    }\n",
       "</style>\n",
       "<table border=\"1\" class=\"dataframe\">\n",
       "  <thead>\n",
       "    <tr style=\"text-align: right;\">\n",
       "      <th></th>\n",
       "      <th>Open</th>\n",
       "      <th>High</th>\n",
       "      <th>Low</th>\n",
       "      <th>Close</th>\n",
       "      <th>Adj Close</th>\n",
       "      <th>Volume</th>\n",
       "    </tr>\n",
       "    <tr>\n",
       "      <th>Date</th>\n",
       "      <th></th>\n",
       "      <th></th>\n",
       "      <th></th>\n",
       "      <th></th>\n",
       "      <th></th>\n",
       "      <th></th>\n",
       "    </tr>\n",
       "  </thead>\n",
       "  <tbody>\n",
       "    <tr>\n",
       "      <th>2018-08-08</th>\n",
       "      <td>206.050003</td>\n",
       "      <td>207.809998</td>\n",
       "      <td>204.520004</td>\n",
       "      <td>207.250000</td>\n",
       "      <td>201.371887</td>\n",
       "      <td>22525500</td>\n",
       "    </tr>\n",
       "    <tr>\n",
       "      <th>2018-08-09</th>\n",
       "      <td>209.529999</td>\n",
       "      <td>209.779999</td>\n",
       "      <td>207.199997</td>\n",
       "      <td>208.880005</td>\n",
       "      <td>202.955643</td>\n",
       "      <td>23492600</td>\n",
       "    </tr>\n",
       "    <tr>\n",
       "      <th>2018-08-10</th>\n",
       "      <td>207.360001</td>\n",
       "      <td>209.100006</td>\n",
       "      <td>206.669998</td>\n",
       "      <td>207.529999</td>\n",
       "      <td>202.351089</td>\n",
       "      <td>24611200</td>\n",
       "    </tr>\n",
       "    <tr>\n",
       "      <th>2018-08-13</th>\n",
       "      <td>209.309998</td>\n",
       "      <td>210.949997</td>\n",
       "      <td>207.699997</td>\n",
       "      <td>208.869995</td>\n",
       "      <td>203.657639</td>\n",
       "      <td>25890900</td>\n",
       "    </tr>\n",
       "    <tr>\n",
       "      <th>2018-08-14</th>\n",
       "      <td>210.160004</td>\n",
       "      <td>210.559998</td>\n",
       "      <td>208.259995</td>\n",
       "      <td>209.750000</td>\n",
       "      <td>204.515747</td>\n",
       "      <td>20748000</td>\n",
       "    </tr>\n",
       "    <tr>\n",
       "      <th>...</th>\n",
       "      <td>...</td>\n",
       "      <td>...</td>\n",
       "      <td>...</td>\n",
       "      <td>...</td>\n",
       "      <td>...</td>\n",
       "      <td>...</td>\n",
       "    </tr>\n",
       "    <tr>\n",
       "      <th>2020-08-03</th>\n",
       "      <td>432.799988</td>\n",
       "      <td>446.549988</td>\n",
       "      <td>431.570007</td>\n",
       "      <td>435.750000</td>\n",
       "      <td>434.965759</td>\n",
       "      <td>77037800</td>\n",
       "    </tr>\n",
       "    <tr>\n",
       "      <th>2020-08-04</th>\n",
       "      <td>436.529999</td>\n",
       "      <td>443.160004</td>\n",
       "      <td>433.549988</td>\n",
       "      <td>438.660004</td>\n",
       "      <td>437.870514</td>\n",
       "      <td>43267900</td>\n",
       "    </tr>\n",
       "    <tr>\n",
       "      <th>2020-08-05</th>\n",
       "      <td>437.510010</td>\n",
       "      <td>441.570007</td>\n",
       "      <td>435.589996</td>\n",
       "      <td>440.250000</td>\n",
       "      <td>439.457642</td>\n",
       "      <td>30498000</td>\n",
       "    </tr>\n",
       "    <tr>\n",
       "      <th>2020-08-06</th>\n",
       "      <td>441.619995</td>\n",
       "      <td>457.649994</td>\n",
       "      <td>439.190002</td>\n",
       "      <td>455.609985</td>\n",
       "      <td>454.790009</td>\n",
       "      <td>50607200</td>\n",
       "    </tr>\n",
       "    <tr>\n",
       "      <th>2020-08-07</th>\n",
       "      <td>452.820007</td>\n",
       "      <td>454.700012</td>\n",
       "      <td>441.170013</td>\n",
       "      <td>444.450012</td>\n",
       "      <td>444.450012</td>\n",
       "      <td>49453300</td>\n",
       "    </tr>\n",
       "  </tbody>\n",
       "</table>\n",
       "<p>504 rows × 6 columns</p>\n",
       "</div>"
      ],
      "text/plain": [
       "                  Open        High         Low       Close   Adj Close  \\\n",
       "Date                                                                     \n",
       "2018-08-08  206.050003  207.809998  204.520004  207.250000  201.371887   \n",
       "2018-08-09  209.529999  209.779999  207.199997  208.880005  202.955643   \n",
       "2018-08-10  207.360001  209.100006  206.669998  207.529999  202.351089   \n",
       "2018-08-13  209.309998  210.949997  207.699997  208.869995  203.657639   \n",
       "2018-08-14  210.160004  210.559998  208.259995  209.750000  204.515747   \n",
       "...                ...         ...         ...         ...         ...   \n",
       "2020-08-03  432.799988  446.549988  431.570007  435.750000  434.965759   \n",
       "2020-08-04  436.529999  443.160004  433.549988  438.660004  437.870514   \n",
       "2020-08-05  437.510010  441.570007  435.589996  440.250000  439.457642   \n",
       "2020-08-06  441.619995  457.649994  439.190002  455.609985  454.790009   \n",
       "2020-08-07  452.820007  454.700012  441.170013  444.450012  444.450012   \n",
       "\n",
       "              Volume  \n",
       "Date                  \n",
       "2018-08-08  22525500  \n",
       "2018-08-09  23492600  \n",
       "2018-08-10  24611200  \n",
       "2018-08-13  25890900  \n",
       "2018-08-14  20748000  \n",
       "...              ...  \n",
       "2020-08-03  77037800  \n",
       "2020-08-04  43267900  \n",
       "2020-08-05  30498000  \n",
       "2020-08-06  50607200  \n",
       "2020-08-07  49453300  \n",
       "\n",
       "[504 rows x 6 columns]"
      ]
     },
     "execution_count": 8,
     "metadata": {},
     "output_type": "execute_result"
    }
   ],
   "source": [
    "# Set Date to be in the index\n",
    "df.set_index('Date', drop=True)"
>>>>>>> 8d26addfff9a21b3080ddfa0dcf29c82cb2e27ca
   ]
  },
  {
   "cell_type": "code",
   "execution_count": null,
   "metadata": {
    "scrolled": true
   },
   "outputs": [],
   "source": [
    "# Sort the index"
   ]
  },
  {
   "cell_type": "markdown",
   "metadata": {},
   "source": [
    "## Explore the data\n",
    "---\n",
    "\n",
    "- `Close`: The price of AAPL when the stock market closes (at 4:30pm ET)\n",
    "- `Adj Close`: The closing price, when accounting for dividend payments, stock splits, etc.\n",
    "- `High`: The highest price of AAPL during that trading day\n",
    "- `Low`: The lowest price of AAPL during that trading day\n",
    "- `Open`: The price of AAPL when the stock market opens (at 9:30am ET)\n",
    "- `Volume`: How many shares of AAPL were traded that day"
   ]
  },
  {
   "cell_type": "code",
   "execution_count": null,
   "metadata": {},
   "outputs": [],
   "source": []
  },
  {
   "cell_type": "markdown",
   "metadata": {},
   "source": [
    "## Filtering by dates\n",
    "---\n",
    "\n",
    "Now that our `Date` column is the index, we can filter our data in unique ways. Try `df['2018']` in the cell below:"
   ]
  },
  {
   "cell_type": "code",
   "execution_count": null,
   "metadata": {},
   "outputs": [],
   "source": []
  },
  {
   "cell_type": "markdown",
   "metadata": {},
   "source": [
    "You can also filter by month:"
   ]
  },
  {
   "cell_type": "code",
   "execution_count": null,
   "metadata": {},
   "outputs": [],
   "source": []
  },
  {
   "cell_type": "markdown",
   "metadata": {},
   "source": [
    "## Resampling\n",
    "---\n",
    "\n",
    "`df.resample()` is similar to `df.groupby()`, but with dates instead of categories."
   ]
  },
  {
   "cell_type": "code",
   "execution_count": null,
   "metadata": {},
   "outputs": [],
   "source": []
  },
  {
   "cell_type": "code",
   "execution_count": null,
   "metadata": {},
   "outputs": [],
   "source": []
  },
  {
   "cell_type": "markdown",
   "metadata": {},
   "source": [
    "## Lookup challenge\n",
    "---\n",
    "\n",
    "Where can you find all the resample options?"
   ]
  },
  {
   "cell_type": "code",
   "execution_count": null,
   "metadata": {},
   "outputs": [],
   "source": []
  },
  {
   "cell_type": "markdown",
   "metadata": {},
   "source": [
    "## Rolling\n",
    "---\n",
    "\n",
    "With time series, we can \"roll\" statistics across time. For example, the rolling mean is the mean of a moving window across time periods. Pandas offers a variety of methods for creating rolling statistics, which we'll only scratch the surface of here. \n",
    "\n",
    "The syntax for these can be a little tricky at first. We'll be using a `rolling()` method with a statistical function chained to it. "
   ]
  },
  {
   "cell_type": "code",
   "execution_count": null,
   "metadata": {},
   "outputs": [],
   "source": []
  },
  {
   "cell_type": "code",
   "execution_count": null,
   "metadata": {},
   "outputs": [],
   "source": []
  },
  {
   "cell_type": "markdown",
   "metadata": {},
   "source": [
    "## Challenge\n",
    "---\n",
    "\n",
    "Plot a line chart with two lines:\n",
    "1. The `Open` price\n",
    "2. The 30 day rolling mean of the `Open` price"
   ]
  },
  {
   "cell_type": "code",
   "execution_count": null,
   "metadata": {},
   "outputs": [],
   "source": []
  },
  {
   "cell_type": "markdown",
   "metadata": {},
   "source": [
    "## `.diff()`\n",
    "---\n",
    "The `.diff()` calculates the difference in a value between a value at time $T$ and that same value at $T-1$. For example, if I have a dataframe of stock prices:\n",
    "\n",
    "<table style=\"float: left;\">\n",
    "  <thead>\n",
    "    <tr>\n",
    "      <th></th>\n",
    "      <th>Close</th>\n",
    "    </tr>\n",
    "  </thead>\n",
    "  <tbody>\n",
    "    <tr>\n",
    "      <th>1-1-2019</th>\n",
    "      <td>100</td>\n",
    "    </tr>\n",
    "    <tr>\n",
    "      <th>1-2-2019</th>\n",
    "      <td>110</td>\n",
    "    </tr>\n",
    "  </tbody>\n",
    "</table>\n",
    "\n",
    "<div style=\"clear: both;\"></div>\n",
    "\n",
    "When I call `.diff()`, I get the following:\n",
    "<table style=\"float: left;\">\n",
    "  <thead>\n",
    "    <tr>\n",
    "      <th></th>\n",
    "      <th>Close</th>\n",
    "    </tr>\n",
    "  </thead>\n",
    "  <tbody>\n",
    "    <tr>\n",
    "      <th>1-1-2019</th>\n",
    "      <td>NaN</td>\n",
    "    </tr>\n",
    "    <tr>\n",
    "      <th>1-2-2019</th>\n",
    "      <td>10</td>\n",
    "    </tr>\n",
    "  </tbody>\n",
    "</table>\n",
    "<div style=\"clear: both;\"></div>\n"
   ]
  },
  {
   "cell_type": "code",
   "execution_count": null,
   "metadata": {},
   "outputs": [],
   "source": []
  },
  {
   "cell_type": "code",
   "execution_count": null,
   "metadata": {},
   "outputs": [],
   "source": []
  },
  {
   "cell_type": "markdown",
   "metadata": {},
   "source": [
    "## `.pct_change()` \n",
    "---\n",
    "\n",
    "`.pct_change()` works similar to `.diff()`, except we're calculating the difference as a change in percentage: $X_{t}/X_{t-1} - 1$\n",
    "\n",
    "So if I have my table of stock prices:\n",
    "\n",
    "<table style=\"float: left;\">\n",
    "  <thead>\n",
    "    <tr>\n",
    "      <th></th>\n",
    "      <th>Close</th>\n",
    "    </tr>\n",
    "  </thead>\n",
    "  <tbody>\n",
    "    <tr>\n",
    "      <th>1-1-2019</th>\n",
    "      <td>100</td>\n",
    "    </tr>\n",
    "    <tr>\n",
    "      <th>1-2-2019</th>\n",
    "      <td>110</td>\n",
    "    </tr>\n",
    "  </tbody>\n",
    "</table>\n",
    "\n",
    "<div style=\"clear: both;\"></div>\n",
    "\n",
    "The `.pct_change()` will look like this:\n",
    "\n",
    "<table style=\"float: left;\">\n",
    "  <thead>\n",
    "    <tr>\n",
    "      <th></th>\n",
    "      <th>Close</th>\n",
    "    </tr>\n",
    "  </thead>\n",
    "  <tbody>\n",
    "    <tr>\n",
    "      <th>1-1-2019</th>\n",
    "      <td>NaN</td>\n",
    "    </tr>\n",
    "    <tr>\n",
    "      <th>1-2-2019</th>\n",
    "      <td>.1</td>\n",
    "    </tr>\n",
    "  </tbody>\n",
    "</table>\n",
    "\n",
    "<div style=\"clear: both;\"></div>\n",
    "\n",
    "\n",
    "We'd interpret 1-2-2019 as a 10% increase (110/100 - 1 = .10) in price from the day before. Again, the first row is a `NaN` since there is no prior row to calcuate the percent change from."
   ]
  },
  {
   "cell_type": "code",
   "execution_count": null,
   "metadata": {},
   "outputs": [],
   "source": []
  },
  {
   "cell_type": "code",
   "execution_count": null,
   "metadata": {},
   "outputs": [],
   "source": []
  },
  {
   "cell_type": "markdown",
   "metadata": {},
   "source": [
    "## Challenge\n",
    "---\n",
    "\n",
    "Create three **separate** plots:\n",
    "1. One for the `Close` price\n",
    "2. One for the `Close` price, using `.diff()`\n",
    "3. One for the `Close` price as a percent change.\n",
    "\n",
    "What happens to your overall data when you diff?"
   ]
  },
  {
   "cell_type": "code",
   "execution_count": null,
   "metadata": {},
   "outputs": [],
   "source": []
  },
  {
   "cell_type": "markdown",
   "metadata": {},
   "source": [
    "[Why would we difference?](https://otexts.com/fpp2/stationarity.html) Well, there is one assumption that is **required** for nearly every time series model: **stationarity**.\n",
    "- If our time series is stationary, then we do not need to difference\n",
    "- If our time series is not stationary, then we difference either once (`df.diff()`) or twice (`df.diff().diff()`). Differenced data often is stationary, so we difference our data, then model that!\n",
    "\n",
    "## What is stationarity?\n",
    "---\n",
    "\n",
    "Informally, stationarity means that there **aren't systematic changes in our time series over time**.\n",
    "- Our mean stays the same. (There is no trend.)\n",
    "- The autocorrelation between $Y_t$ and $Y_{t-k}$ depends only on the size of our lag $k$. (There is no seasonality.)\n",
    "- A [white noise process](https://stats.stackexchange.com/questions/7070/what-is-a-white-noise-process) is a common example of a stationary time series.\n",
    "\n",
    "The problem is, many time series **aren't** stationary.\n",
    "- The amount that stock prices vary on a day-to-day basis aren't going to be the same.\n",
    "- Crop prices may increase or decrease over time; assuming a constant mean here doesn't make sense.\n"
   ]
  },
  {
   "cell_type": "markdown",
   "metadata": {},
   "source": [
    "## Shifting\n",
    "---\n",
    "\n",
    "`df.shift()` is used to bring values from previous dates forward in time."
   ]
  },
  {
   "cell_type": "code",
   "execution_count": null,
   "metadata": {},
   "outputs": [],
   "source": []
  },
  {
   "cell_type": "markdown",
   "metadata": {},
   "source": [
    "## Creating a simple dataset\n",
    "---\n",
    "\n",
    "Let's create a simple dataset that tries to predict today's `Close` price using yesterday's `Close` price with today's `Open` price. \n",
    "\n",
    "**NOTE:** Remember we want stationarity!"
   ]
  },
  {
   "cell_type": "code",
   "execution_count": null,
   "metadata": {},
   "outputs": [],
   "source": []
  },
  {
   "cell_type": "code",
   "execution_count": null,
   "metadata": {},
   "outputs": [],
   "source": []
  }
 ],
 "metadata": {
  "kernelspec": {
   "display_name": "Python 3",
   "language": "python",
   "name": "python3"
  },
  "language_info": {
   "codemirror_mode": {
    "name": "ipython",
    "version": 3
   },
   "file_extension": ".py",
   "mimetype": "text/x-python",
   "name": "python",
   "nbconvert_exporter": "python",
   "pygments_lexer": "ipython3",
   "version": "3.8.5"
  }
 },
 "nbformat": 4,
 "nbformat_minor": 2
}
